{
 "cells": [
  {
   "attachments": {},
   "cell_type": "markdown",
   "metadata": {},
   "source": [
    "# User Guide Tutorial 05: Time-to-event Analysis\n",
    "\n",
    "This tutorial shows how to use TemporAI `time_to_event` plugins."
   ]
  },
  {
   "cell_type": "markdown",
   "metadata": {},
   "source": [
    "*Skip the below cell if you are not on Google Colab / already have TemporAI installed:*"
   ]
  },
  {
   "cell_type": "code",
   "execution_count": null,
   "metadata": {},
   "outputs": [],
   "source": [
    "%pip install temporai\n",
    "\n",
    "# Or from the repo, for the latest version:\n",
    "# %pip install git+https://github.com/vanderschaarlab/temporai.git"
   ]
  },
  {
   "attachments": {},
   "cell_type": "markdown",
   "metadata": {},
   "source": [
    "## All `time_to_event` plugins\n",
    "\n",
    "Time-to-event analysis, in the context of TemporAI, refers to models that estimate risk over time for each sample.\n",
    "This may also be referred to as survival analysis.\n",
    "\n",
    "To see all the relevant plugins:"
   ]
  },
  {
   "cell_type": "code",
   "execution_count": null,
   "metadata": {},
   "outputs": [
    {
     "data": {
      "text/plain": [
       "['ts_coxph', 'ts_xgb', 'dynamic_deephit']"
      ]
     },
     "execution_count": null,
     "metadata": {},
     "output_type": "execute_result"
    }
   ],
   "source": [
    "from tempor import plugin_loader\n",
    "\n",
    "plugin_loader.list()[\"time_to_event\"]"
   ]
  },
  {
   "cell_type": "markdown",
   "metadata": {},
   "source": [
    "Now also load data source(s) we will use:"
   ]
  },
  {
   "cell_type": "code",
   "execution_count": null,
   "metadata": {},
   "outputs": [],
   "source": [
    "PBCDataSource = plugin_loader.get_class(\"time_to_event.pbc\", plugin_type=\"datasource\")"
   ]
  },
  {
   "attachments": {},
   "cell_type": "markdown",
   "metadata": {},
   "source": [
    "## Using a time-to-event analysis plugin."
   ]
  },
  {
   "cell_type": "code",
   "execution_count": null,
   "metadata": {},
   "outputs": [
    {
     "name": "stdout",
     "output_type": "stream",
     "text": [
      "TimeToEventAnalysisDataset(\n",
      "    time_series=TimeSeriesSamples([312, *, 14]),\n",
      "    static=StaticSamples([312, 1]),\n",
      "    predictive=TimeToEventAnalysisTaskData(targets=EventSamples([312, 1]))\n",
      ")\n",
      "DynamicDeepHitTimeToEventAnalysis(\n",
      "    name='dynamic_deephit',\n",
      "    category='time_to_event',\n",
      "    plugin_type='method',\n",
      "    params={\n",
      "        'n_iter': 50,\n",
      "        'batch_size': 100,\n",
      "        'lr': 0.001,\n",
      "        'n_layers_hidden': 1,\n",
      "        'n_units_hidden': 40,\n",
      "        'split': 100,\n",
      "        'rnn_mode': 'GRU',\n",
      "        'alpha': 0.34,\n",
      "        'beta': 0.27,\n",
      "        'sigma': 0.21,\n",
      "        'dropout': 0.06,\n",
      "        'device': 'cpu',\n",
      "        'val_size': 0.1,\n",
      "        'patience': 20,\n",
      "        'output_mode': 'MLP',\n",
      "        'random_state': 0\n",
      "    }\n",
      ")\n"
     ]
    }
   ],
   "source": [
    "from tempor import plugin_loader\n",
    "\n",
    "dataset = PBCDataSource(random_state=42).load()\n",
    "print(dataset)\n",
    "\n",
    "model = plugin_loader.get(\"time_to_event.dynamic_deephit\", n_iter=50)\n",
    "print(model)"
   ]
  },
  {
   "cell_type": "code",
   "execution_count": null,
   "metadata": {},
   "outputs": [
    {
     "data": {
      "text/html": [
       "<p><span style=\"font-family: monospace;\">EventSamples</span> with data:</p><div>\n",
       "<style scoped>\n",
       "    .dataframe tbody tr th:only-of-type {\n",
       "        vertical-align: middle;\n",
       "    }\n",
       "\n",
       "    .dataframe tbody tr th {\n",
       "        vertical-align: top;\n",
       "    }\n",
       "\n",
       "    .dataframe thead th {\n",
       "        text-align: right;\n",
       "    }\n",
       "</style>\n",
       "<table border=\"1\" class=\"dataframe\">\n",
       "  <thead>\n",
       "    <tr style=\"text-align: right;\">\n",
       "      <th></th>\n",
       "      <th>status</th>\n",
       "    </tr>\n",
       "    <tr>\n",
       "      <th>sample_idx</th>\n",
       "      <th></th>\n",
       "    </tr>\n",
       "  </thead>\n",
       "  <tbody>\n",
       "    <tr>\n",
       "      <th>1</th>\n",
       "      <td>(0.569488555470374, True)</td>\n",
       "    </tr>\n",
       "    <tr>\n",
       "      <th>2</th>\n",
       "      <td>(14.1523381885883, False)</td>\n",
       "    </tr>\n",
       "    <tr>\n",
       "      <th>3</th>\n",
       "      <td>(0.7365020260650499, True)</td>\n",
       "    </tr>\n",
       "    <tr>\n",
       "      <th>4</th>\n",
       "      <td>(0.27653050049282957, True)</td>\n",
       "    </tr>\n",
       "    <tr>\n",
       "      <th>5</th>\n",
       "      <td>(4.12057824991786, False)</td>\n",
       "    </tr>\n",
       "    <tr>\n",
       "      <th>...</th>\n",
       "      <td>...</td>\n",
       "    </tr>\n",
       "    <tr>\n",
       "      <th>308</th>\n",
       "      <td>(4.98850071186069, False)</td>\n",
       "    </tr>\n",
       "    <tr>\n",
       "      <th>309</th>\n",
       "      <td>(4.55317051801555, False)</td>\n",
       "    </tr>\n",
       "    <tr>\n",
       "      <th>310</th>\n",
       "      <td>(4.4025846019056, False)</td>\n",
       "    </tr>\n",
       "    <tr>\n",
       "      <th>311</th>\n",
       "      <td>(4.12879202716022, False)</td>\n",
       "    </tr>\n",
       "    <tr>\n",
       "      <th>312</th>\n",
       "      <td>(3.98915781404008, False)</td>\n",
       "    </tr>\n",
       "  </tbody>\n",
       "</table>\n",
       "<p>312 rows × 1 columns</p>\n",
       "</div>"
      ],
      "text/plain": [
       "EventSamples with data:\n",
       "                                 status\n",
       "sample_idx                             \n",
       "1             (0.569488555470374, True)\n",
       "2             (14.1523381885883, False)\n",
       "3            (0.7365020260650499, True)\n",
       "4           (0.27653050049282957, True)\n",
       "5             (4.12057824991786, False)\n",
       "...                                 ...\n",
       "308           (4.98850071186069, False)\n",
       "309           (4.55317051801555, False)\n",
       "310            (4.4025846019056, False)\n",
       "311           (4.12879202716022, False)\n",
       "312           (3.98915781404008, False)\n",
       "\n",
       "[312 rows x 1 columns]"
      ]
     },
     "execution_count": null,
     "metadata": {},
     "output_type": "execute_result"
    }
   ],
   "source": [
    "# Targets:\n",
    "dataset.predictive.targets"
   ]
  },
  {
   "cell_type": "code",
   "execution_count": null,
   "metadata": {},
   "outputs": [
    {
     "data": {
      "text/plain": [
       "DynamicDeepHitTimeToEventAnalysis(\n",
       "    name='dynamic_deephit',\n",
       "    category='time_to_event',\n",
       "    plugin_type='method',\n",
       "    params={\n",
       "        'n_iter': 50,\n",
       "        'batch_size': 100,\n",
       "        'lr': 0.001,\n",
       "        'n_layers_hidden': 1,\n",
       "        'n_units_hidden': 40,\n",
       "        'split': 100,\n",
       "        'rnn_mode': 'GRU',\n",
       "        'alpha': 0.34,\n",
       "        'beta': 0.27,\n",
       "        'sigma': 0.21,\n",
       "        'dropout': 0.06,\n",
       "        'device': 'cpu',\n",
       "        'val_size': 0.1,\n",
       "        'patience': 20,\n",
       "        'output_mode': 'MLP',\n",
       "        'random_state': 0\n",
       "    }\n",
       ")"
      ]
     },
     "execution_count": null,
     "metadata": {},
     "output_type": "execute_result"
    }
   ],
   "source": [
    "# Train.\n",
    "model.fit(dataset)"
   ]
  },
  {
   "cell_type": "code",
   "execution_count": null,
   "metadata": {},
   "outputs": [
    {
     "data": {
      "text/html": [
       "<p><span style=\"font-family: monospace;\">TimeSeriesSamples</span> with data:</p><div>\n",
       "<style scoped>\n",
       "    .dataframe tbody tr th:only-of-type {\n",
       "        vertical-align: middle;\n",
       "    }\n",
       "\n",
       "    .dataframe tbody tr th {\n",
       "        vertical-align: top;\n",
       "    }\n",
       "\n",
       "    .dataframe thead th {\n",
       "        text-align: right;\n",
       "    }\n",
       "</style>\n",
       "<table border=\"1\" class=\"dataframe\">\n",
       "  <thead>\n",
       "    <tr style=\"text-align: right;\">\n",
       "      <th></th>\n",
       "      <th></th>\n",
       "      <th>risk_score</th>\n",
       "    </tr>\n",
       "    <tr>\n",
       "      <th>sample_idx</th>\n",
       "      <th>time_idx</th>\n",
       "      <th></th>\n",
       "    </tr>\n",
       "  </thead>\n",
       "  <tbody>\n",
       "    <tr>\n",
       "      <th rowspan=\"3\" valign=\"top\">1</th>\n",
       "      <th>0.25</th>\n",
       "      <td>0.422638</td>\n",
       "    </tr>\n",
       "    <tr>\n",
       "      <th>0.50</th>\n",
       "      <td>0.626617</td>\n",
       "    </tr>\n",
       "    <tr>\n",
       "      <th>0.75</th>\n",
       "      <td>0.717204</td>\n",
       "    </tr>\n",
       "    <tr>\n",
       "      <th rowspan=\"2\" valign=\"top\">2</th>\n",
       "      <th>0.25</th>\n",
       "      <td>0.221283</td>\n",
       "    </tr>\n",
       "    <tr>\n",
       "      <th>0.50</th>\n",
       "      <td>0.288457</td>\n",
       "    </tr>\n",
       "    <tr>\n",
       "      <th>...</th>\n",
       "      <th>...</th>\n",
       "      <td>...</td>\n",
       "    </tr>\n",
       "    <tr>\n",
       "      <th rowspan=\"2\" valign=\"top\">311</th>\n",
       "      <th>0.50</th>\n",
       "      <td>0.039307</td>\n",
       "    </tr>\n",
       "    <tr>\n",
       "      <th>0.75</th>\n",
       "      <td>0.048353</td>\n",
       "    </tr>\n",
       "    <tr>\n",
       "      <th rowspan=\"3\" valign=\"top\">312</th>\n",
       "      <th>0.25</th>\n",
       "      <td>0.248848</td>\n",
       "    </tr>\n",
       "    <tr>\n",
       "      <th>0.50</th>\n",
       "      <td>0.390068</td>\n",
       "    </tr>\n",
       "    <tr>\n",
       "      <th>0.75</th>\n",
       "      <td>0.444567</td>\n",
       "    </tr>\n",
       "  </tbody>\n",
       "</table>\n",
       "<p>936 rows × 1 columns</p>\n",
       "</div>"
      ],
      "text/plain": [
       "TimeSeriesSamples with data:\n",
       "                     risk_score\n",
       "sample_idx time_idx            \n",
       "1          0.25        0.422638\n",
       "           0.50        0.626617\n",
       "           0.75        0.717204\n",
       "2          0.25        0.221283\n",
       "           0.50        0.288457\n",
       "...                         ...\n",
       "311        0.50        0.039307\n",
       "           0.75        0.048353\n",
       "312        0.25        0.248848\n",
       "           0.50        0.390068\n",
       "           0.75        0.444567\n",
       "\n",
       "[936 rows x 1 columns]"
      ]
     },
     "execution_count": null,
     "metadata": {},
     "output_type": "execute_result"
    }
   ],
   "source": [
    "# Predict:\n",
    "\n",
    "model.predict(dataset, horizons=[0.25, 0.50, 0.75])"
   ]
  },
  {
   "attachments": {},
   "cell_type": "markdown",
   "metadata": {},
   "source": [
    "### Note:\n",
    "\n",
    "The current Dynamic DeepHit implementation has the following limitations:\n",
    "- Only one output feature is supported (no competing risks).\n",
    "- Risk prediction for time points beyond the last event time in the dataset may throw errors."
   ]
  },
  {
   "cell_type": "markdown",
   "metadata": {},
   "source": [
    "## 🎉 Congratulations!\n",
    "\n",
    "Congratulations on completing this notebook tutorial! If you enjoyed this and would like to join the movement towards *Machine learning and AI for Medicine*, you can do so in the following ways!\n",
    "\n",
    "\n",
    "\n",
    "### ⭐ Star [TemporAI](https://github.com/vanderschaarlab/temporai) on GitHub\n",
    "\n",
    "- The easiest way to help our community is by just starring the repos! This helps raise awareness of the tools we're building.\n",
    "\n",
    "\n",
    "\n",
    "### Check out other projects from [vanderschaarlab](https://github.com/vanderschaarlab)\n",
    "- 📝 [HyperImpute](https://github.com/vanderschaarlab/hyperimpute)\n",
    "- 📊 [AutoPrognosis](https://github.com/vanderschaarlab/autoprognosis)\n",
    "- 🤖 [SynthCity](https://github.com/vanderschaarlab/synthcity)\n",
    " "
   ]
  }
 ],
 "metadata": {
  "kernelspec": {
   "display_name": "RE_py38_temporai",
   "language": "python",
   "name": "python3"
  },
  "language_info": {
   "codemirror_mode": {
    "name": "ipython",
    "version": 3
   },
   "file_extension": ".py",
   "mimetype": "text/x-python",
   "name": "python",
   "nbconvert_exporter": "python",
   "pygments_lexer": "ipython3",
   "version": "3.8.18"
  }
 },
 "nbformat": 4,
 "nbformat_minor": 2
}

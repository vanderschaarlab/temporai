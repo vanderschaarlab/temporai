{
 "cells": [
  {
   "attachments": {},
   "cell_type": "markdown",
   "metadata": {},
   "source": [
    "# User Guide Tutorial 06: Treatment Effects\n",
    "\n",
    "This tutorial shows how to use TemporAI `treatments` plugins."
   ]
  },
  {
   "cell_type": "markdown",
   "metadata": {},
   "source": [
    "*Skip the below cell if you are not on Google Colab / already have TemporAI installed:*"
   ]
  },
  {
   "cell_type": "code",
   "execution_count": null,
   "metadata": {},
   "outputs": [],
   "source": [
    "%pip install temporai\n",
    "\n",
    "# Or from the repo, for the latest version:\n",
    "# %pip install git+https://github.com/vanderschaarlab/temporai.git"
   ]
  },
  {
   "attachments": {},
   "cell_type": "markdown",
   "metadata": {},
   "source": [
    "## All `treatments` plugins\n",
    "\n",
    "> ⚠️ The `treatments` API is preliminary and likely to change.\n",
    "\n",
    "In the treatment effects estimation task, the goal is to predict a counterfactual outcome given an alternative treatment.\n",
    "\n",
    "To see all the relevant plugins:"
   ]
  },
  {
   "cell_type": "code",
   "execution_count": null,
   "metadata": {},
   "outputs": [
    {
     "data": {
      "text/html": [
       "<pre style=\"white-space:pre;overflow-x:auto;line-height:normal;font-family:Menlo,'DejaVu Sans Mono',consolas,'Courier New',monospace\"><span style=\"font-weight: bold\">{</span>\n",
       "    <span style=\"color: #008000; text-decoration-color: #008000\">'one_off'</span>: <span style=\"font-weight: bold\">{</span><span style=\"color: #008000; text-decoration-color: #008000\">'regression'</span>: <span style=\"font-weight: bold\">[</span><span style=\"color: #008000; text-decoration-color: #008000\">'synctwin_regressor'</span><span style=\"font-weight: bold\">]}</span>,\n",
       "    <span style=\"color: #008000; text-decoration-color: #008000\">'temporal'</span>: <span style=\"font-weight: bold\">{</span><span style=\"color: #008000; text-decoration-color: #008000\">'classification'</span>: <span style=\"font-weight: bold\">[</span><span style=\"color: #008000; text-decoration-color: #008000\">'crn_classifier'</span><span style=\"font-weight: bold\">]</span>, <span style=\"color: #008000; text-decoration-color: #008000\">'regression'</span>: <span style=\"font-weight: bold\">[</span><span style=\"color: #008000; text-decoration-color: #008000\">'crn_regressor'</span><span style=\"font-weight: bold\">]}</span>\n",
       "<span style=\"font-weight: bold\">}</span>\n",
       "</pre>\n"
      ],
      "text/plain": [
       "\u001b[1m{\u001b[0m\n",
       "    \u001b[32m'one_off'\u001b[0m: \u001b[1m{\u001b[0m\u001b[32m'regression'\u001b[0m: \u001b[1m[\u001b[0m\u001b[32m'synctwin_regressor'\u001b[0m\u001b[1m]\u001b[0m\u001b[1m}\u001b[0m,\n",
       "    \u001b[32m'temporal'\u001b[0m: \u001b[1m{\u001b[0m\u001b[32m'classification'\u001b[0m: \u001b[1m[\u001b[0m\u001b[32m'crn_classifier'\u001b[0m\u001b[1m]\u001b[0m, \u001b[32m'regression'\u001b[0m: \u001b[1m[\u001b[0m\u001b[32m'crn_regressor'\u001b[0m\u001b[1m]\u001b[0m\u001b[1m}\u001b[0m\n",
       "\u001b[1m}\u001b[0m\n"
      ]
     },
     "metadata": {},
     "output_type": "display_data"
    }
   ],
   "source": [
    "from tempor import plugin_loader\n",
    "from rich.pretty import pprint\n",
    "\n",
    "all_treatments_plugins = plugin_loader.list()[\"treatments\"]\n",
    "\n",
    "pprint(all_treatments_plugins, indent_guides=False)"
   ]
  },
  {
   "cell_type": "markdown",
   "metadata": {},
   "source": [
    "Now also load data source(s) we will use:"
   ]
  },
  {
   "cell_type": "code",
   "execution_count": null,
   "metadata": {},
   "outputs": [],
   "source": [
    "DummyTemporalTreatmentEffectsDataSource = plugin_loader.get_class(\n",
    "    \"treatments.temporal.dummy_treatments\", plugin_type=\"datasource\"\n",
    ")"
   ]
  },
  {
   "attachments": {},
   "cell_type": "markdown",
   "metadata": {},
   "source": [
    "## Using a temporal treatment effects plugin.\n",
    "\n",
    "In this setting, the treatments are time series, and the outcomes are also time series."
   ]
  },
  {
   "cell_type": "code",
   "execution_count": null,
   "metadata": {},
   "outputs": [
    {
     "name": "stdout",
     "output_type": "stream",
     "text": [
      "TemporalTreatmentEffectsDataset(\n",
      "    time_series=TimeSeriesSamples([100, *, 5]),\n",
      "    static=StaticSamples([100, 3]),\n",
      "    predictive=TemporalTreatmentEffectsTaskData(\n",
      "        targets=TimeSeriesSamples([100, *, 2]),\n",
      "        treatments=TimeSeriesSamples([100, *, 1])\n",
      "    )\n",
      ")\n",
      "CRNTreatmentsRegressor(\n",
      "    name='crn_regressor',\n",
      "    category='treatments.temporal.regression',\n",
      "    plugin_type='method',\n",
      "    params={\n",
      "        'encoder_rnn_type': 'LSTM',\n",
      "        'encoder_hidden_size': 100,\n",
      "        'encoder_num_layers': 1,\n",
      "        'encoder_bias': True,\n",
      "        'encoder_dropout': 0.0,\n",
      "        'encoder_bidirectional': False,\n",
      "        'encoder_nonlinearity': None,\n",
      "        'encoder_proj_size': None,\n",
      "        'decoder_rnn_type': 'LSTM',\n",
      "        'decoder_hidden_size': 100,\n",
      "        'decoder_num_layers': 1,\n",
      "        'decoder_bias': True,\n",
      "        'decoder_dropout': 0.0,\n",
      "        'decoder_bidirectional': False,\n",
      "        'decoder_nonlinearity': None,\n",
      "        'decoder_proj_size': None,\n",
      "        'adapter_hidden_dims': [50],\n",
      "        'adapter_out_activation': 'Tanh',\n",
      "        'predictor_hidden_dims': [],\n",
      "        'predictor_out_activation': None,\n",
      "        'max_len': None,\n",
      "        'optimizer_str': 'Adam',\n",
      "        'optimizer_kwargs': {'lr': 0.01, 'weight_decay': 1e-05},\n",
      "        'batch_size': 32,\n",
      "        'epochs': 20,\n",
      "        'padding_indicator': -999.0\n",
      "    }\n",
      ")\n"
     ]
    }
   ],
   "source": [
    "from tempor import plugin_loader\n",
    "\n",
    "dataset = DummyTemporalTreatmentEffectsDataSource(\n",
    "    random_state=42,\n",
    "    temporal_covariates_missing_prob=0.0,\n",
    "    temporal_treatments_n_features=1,\n",
    "    temporal_treatments_n_categories=2,\n",
    ").load()\n",
    "print(dataset)\n",
    "\n",
    "model = plugin_loader.get(\"treatments.temporal.regression.crn_regressor\", epochs=20)\n",
    "print(model)"
   ]
  },
  {
   "cell_type": "code",
   "execution_count": null,
   "metadata": {},
   "outputs": [
    {
     "data": {
      "text/html": [
       "<p><span style=\"font-family: monospace;\">TimeSeriesSamples</span> with data:</p><div>\n",
       "<style scoped>\n",
       "    .dataframe tbody tr th:only-of-type {\n",
       "        vertical-align: middle;\n",
       "    }\n",
       "\n",
       "    .dataframe tbody tr th {\n",
       "        vertical-align: top;\n",
       "    }\n",
       "\n",
       "    .dataframe thead th {\n",
       "        text-align: right;\n",
       "    }\n",
       "</style>\n",
       "<table border=\"1\" class=\"dataframe\">\n",
       "  <thead>\n",
       "    <tr style=\"text-align: right;\">\n",
       "      <th></th>\n",
       "      <th></th>\n",
       "      <th>0</th>\n",
       "      <th>1</th>\n",
       "    </tr>\n",
       "    <tr>\n",
       "      <th>sample_idx</th>\n",
       "      <th>time_idx</th>\n",
       "      <th></th>\n",
       "      <th></th>\n",
       "    </tr>\n",
       "  </thead>\n",
       "  <tbody>\n",
       "    <tr>\n",
       "      <th rowspan=\"5\" valign=\"top\">0</th>\n",
       "      <th>0</th>\n",
       "      <td>-3.110475</td>\n",
       "      <td>-3.566948</td>\n",
       "    </tr>\n",
       "    <tr>\n",
       "      <th>1</th>\n",
       "      <td>1.528495</td>\n",
       "      <td>-0.653673</td>\n",
       "    </tr>\n",
       "    <tr>\n",
       "      <th>2</th>\n",
       "      <td>2.275307</td>\n",
       "      <td>-0.695371</td>\n",
       "    </tr>\n",
       "    <tr>\n",
       "      <th>3</th>\n",
       "      <td>4.844060</td>\n",
       "      <td>3.469371</td>\n",
       "    </tr>\n",
       "    <tr>\n",
       "      <th>4</th>\n",
       "      <td>4.420301</td>\n",
       "      <td>5.147500</td>\n",
       "    </tr>\n",
       "    <tr>\n",
       "      <th>...</th>\n",
       "      <th>...</th>\n",
       "      <td>...</td>\n",
       "      <td>...</td>\n",
       "    </tr>\n",
       "    <tr>\n",
       "      <th rowspan=\"5\" valign=\"top\">99</th>\n",
       "      <th>7</th>\n",
       "      <td>5.994185</td>\n",
       "      <td>6.225290</td>\n",
       "    </tr>\n",
       "    <tr>\n",
       "      <th>8</th>\n",
       "      <td>10.913662</td>\n",
       "      <td>5.346697</td>\n",
       "    </tr>\n",
       "    <tr>\n",
       "      <th>9</th>\n",
       "      <td>9.558824</td>\n",
       "      <td>7.585175</td>\n",
       "    </tr>\n",
       "    <tr>\n",
       "      <th>10</th>\n",
       "      <td>10.194430</td>\n",
       "      <td>5.795619</td>\n",
       "    </tr>\n",
       "    <tr>\n",
       "      <th>11</th>\n",
       "      <td>13.774189</td>\n",
       "      <td>8.457336</td>\n",
       "    </tr>\n",
       "  </tbody>\n",
       "</table>\n",
       "<p>1573 rows × 2 columns</p>\n",
       "</div>"
      ],
      "text/plain": [
       "TimeSeriesSamples with data:\n",
       "                             0         1\n",
       "sample_idx time_idx                     \n",
       "0          0         -3.110475 -3.566948\n",
       "           1          1.528495 -0.653673\n",
       "           2          2.275307 -0.695371\n",
       "           3          4.844060  3.469371\n",
       "           4          4.420301  5.147500\n",
       "...                        ...       ...\n",
       "99         7          5.994185  6.225290\n",
       "           8         10.913662  5.346697\n",
       "           9          9.558824  7.585175\n",
       "           10        10.194430  5.795619\n",
       "           11        13.774189  8.457336\n",
       "\n",
       "[1573 rows x 2 columns]"
      ]
     },
     "execution_count": null,
     "metadata": {},
     "output_type": "execute_result"
    }
   ],
   "source": [
    "# Targets:\n",
    "dataset.predictive.targets"
   ]
  },
  {
   "cell_type": "code",
   "execution_count": null,
   "metadata": {},
   "outputs": [
    {
     "data": {
      "text/html": [
       "<p><span style=\"font-family: monospace;\">TimeSeriesSamples</span> with data:</p><div>\n",
       "<style scoped>\n",
       "    .dataframe tbody tr th:only-of-type {\n",
       "        vertical-align: middle;\n",
       "    }\n",
       "\n",
       "    .dataframe tbody tr th {\n",
       "        vertical-align: top;\n",
       "    }\n",
       "\n",
       "    .dataframe thead th {\n",
       "        text-align: right;\n",
       "    }\n",
       "</style>\n",
       "<table border=\"1\" class=\"dataframe\">\n",
       "  <thead>\n",
       "    <tr style=\"text-align: right;\">\n",
       "      <th></th>\n",
       "      <th></th>\n",
       "      <th>0</th>\n",
       "    </tr>\n",
       "    <tr>\n",
       "      <th>sample_idx</th>\n",
       "      <th>time_idx</th>\n",
       "      <th></th>\n",
       "    </tr>\n",
       "  </thead>\n",
       "  <tbody>\n",
       "    <tr>\n",
       "      <th rowspan=\"5\" valign=\"top\">0</th>\n",
       "      <th>0</th>\n",
       "      <td>0</td>\n",
       "    </tr>\n",
       "    <tr>\n",
       "      <th>1</th>\n",
       "      <td>1</td>\n",
       "    </tr>\n",
       "    <tr>\n",
       "      <th>2</th>\n",
       "      <td>1</td>\n",
       "    </tr>\n",
       "    <tr>\n",
       "      <th>3</th>\n",
       "      <td>0</td>\n",
       "    </tr>\n",
       "    <tr>\n",
       "      <th>4</th>\n",
       "      <td>0</td>\n",
       "    </tr>\n",
       "    <tr>\n",
       "      <th>...</th>\n",
       "      <th>...</th>\n",
       "      <td>...</td>\n",
       "    </tr>\n",
       "    <tr>\n",
       "      <th rowspan=\"5\" valign=\"top\">99</th>\n",
       "      <th>7</th>\n",
       "      <td>1</td>\n",
       "    </tr>\n",
       "    <tr>\n",
       "      <th>8</th>\n",
       "      <td>1</td>\n",
       "    </tr>\n",
       "    <tr>\n",
       "      <th>9</th>\n",
       "      <td>0</td>\n",
       "    </tr>\n",
       "    <tr>\n",
       "      <th>10</th>\n",
       "      <td>0</td>\n",
       "    </tr>\n",
       "    <tr>\n",
       "      <th>11</th>\n",
       "      <td>1</td>\n",
       "    </tr>\n",
       "  </tbody>\n",
       "</table>\n",
       "<p>1573 rows × 1 columns</p>\n",
       "</div>"
      ],
      "text/plain": [
       "TimeSeriesSamples with data:\n",
       "                     0\n",
       "sample_idx time_idx   \n",
       "0          0         0\n",
       "           1         1\n",
       "           2         1\n",
       "           3         0\n",
       "           4         0\n",
       "...                 ..\n",
       "99         7         1\n",
       "           8         1\n",
       "           9         0\n",
       "           10        0\n",
       "           11        1\n",
       "\n",
       "[1573 rows x 1 columns]"
      ]
     },
     "execution_count": null,
     "metadata": {},
     "output_type": "execute_result"
    }
   ],
   "source": [
    "# Treatments:\n",
    "dataset.predictive.treatments"
   ]
  },
  {
   "cell_type": "code",
   "execution_count": null,
   "metadata": {},
   "outputs": [
    {
     "name": "stdout",
     "output_type": "stream",
     "text": [
      "Preparing data for decoder training...\n"
     ]
    },
    {
     "name": "stdout",
     "output_type": "stream",
     "text": [
      "Preparing data for decoder training DONE.\n"
     ]
    },
    {
     "name": "stdout",
     "output_type": "stream",
     "text": [
      "=== Training stage: 1. Train encoder ===\n",
      "Epoch: 0, Prediction Loss: 75.212, Lambda: 1.000, Treatment BR Loss: 0.000, Loss: 75.212\n",
      "Epoch: 1, Prediction Loss: 32.453, Lambda: 1.000, Treatment BR Loss: 0.000, Loss: 32.453\n"
     ]
    },
    {
     "name": "stdout",
     "output_type": "stream",
     "text": [
      "Epoch: 2, Prediction Loss: 19.389, Lambda: 1.000, Treatment BR Loss: 0.000, Loss: 19.389\n",
      "Epoch: 3, Prediction Loss: 19.679, Lambda: 1.000, Treatment BR Loss: 0.000, Loss: 19.679\n",
      "Epoch: 4, Prediction Loss: 19.588, Lambda: 1.000, Treatment BR Loss: 0.000, Loss: 19.588\n"
     ]
    },
    {
     "name": "stdout",
     "output_type": "stream",
     "text": [
      "Epoch: 5, Prediction Loss: 14.915, Lambda: 1.000, Treatment BR Loss: 0.000, Loss: 14.915\n",
      "Epoch: 6, Prediction Loss: 10.608, Lambda: 1.000, Treatment BR Loss: 0.000, Loss: 10.608\n",
      "Epoch: 7, Prediction Loss: 8.684, Lambda: 1.000, Treatment BR Loss: 0.000, Loss: 8.684\n"
     ]
    },
    {
     "name": "stdout",
     "output_type": "stream",
     "text": [
      "Epoch: 8, Prediction Loss: 6.953, Lambda: 1.000, Treatment BR Loss: 0.000, Loss: 6.953\n",
      "Epoch: 9, Prediction Loss: 5.645, Lambda: 1.000, Treatment BR Loss: 0.000, Loss: 5.645\n",
      "Epoch: 10, Prediction Loss: 5.060, Lambda: 1.000, Treatment BR Loss: 0.000, Loss: 5.060\n"
     ]
    },
    {
     "name": "stdout",
     "output_type": "stream",
     "text": [
      "Epoch: 11, Prediction Loss: 4.658, Lambda: 1.000, Treatment BR Loss: 0.000, Loss: 4.658\n",
      "Epoch: 12, Prediction Loss: 4.398, Lambda: 1.000, Treatment BR Loss: 0.000, Loss: 4.398\n",
      "Epoch: 13, Prediction Loss: 4.265, Lambda: 1.000, Treatment BR Loss: 0.000, Loss: 4.265\n"
     ]
    },
    {
     "name": "stdout",
     "output_type": "stream",
     "text": [
      "Epoch: 14, Prediction Loss: 4.170, Lambda: 1.000, Treatment BR Loss: 0.000, Loss: 4.170\n",
      "Epoch: 15, Prediction Loss: 4.054, Lambda: 1.000, Treatment BR Loss: 0.000, Loss: 4.054\n",
      "Epoch: 16, Prediction Loss: 3.949, Lambda: 1.000, Treatment BR Loss: 0.000, Loss: 3.949\n"
     ]
    },
    {
     "name": "stdout",
     "output_type": "stream",
     "text": [
      "Epoch: 17, Prediction Loss: 3.940, Lambda: 1.000, Treatment BR Loss: 0.000, Loss: 3.940\n",
      "Epoch: 18, Prediction Loss: 3.918, Lambda: 1.000, Treatment BR Loss: 0.000, Loss: 3.918\n",
      "Epoch: 19, Prediction Loss: 3.851, Lambda: 1.000, Treatment BR Loss: 0.000, Loss: 3.851\n",
      "=== Training stage: 2. Train decoder ===\n"
     ]
    },
    {
     "name": "stdout",
     "output_type": "stream",
     "text": [
      "Epoch: 0, Prediction Loss: 34.622, Lambda: 1.000, Treatment BR Loss: 0.000, Loss: 34.622\n"
     ]
    },
    {
     "name": "stdout",
     "output_type": "stream",
     "text": [
      "Epoch: 1, Prediction Loss: 5.329, Lambda: 1.000, Treatment BR Loss: 0.000, Loss: 5.329\n"
     ]
    },
    {
     "name": "stdout",
     "output_type": "stream",
     "text": [
      "Epoch: 2, Prediction Loss: 3.826, Lambda: 1.000, Treatment BR Loss: 0.000, Loss: 3.826\n"
     ]
    },
    {
     "name": "stdout",
     "output_type": "stream",
     "text": [
      "Epoch: 3, Prediction Loss: 3.767, Lambda: 1.000, Treatment BR Loss: 0.000, Loss: 3.767\n"
     ]
    },
    {
     "name": "stdout",
     "output_type": "stream",
     "text": [
      "Epoch: 4, Prediction Loss: 3.746, Lambda: 1.000, Treatment BR Loss: 0.000, Loss: 3.746\n"
     ]
    },
    {
     "name": "stdout",
     "output_type": "stream",
     "text": [
      "Epoch: 5, Prediction Loss: 3.741, Lambda: 1.000, Treatment BR Loss: 0.000, Loss: 3.741\n"
     ]
    },
    {
     "name": "stdout",
     "output_type": "stream",
     "text": [
      "Epoch: 6, Prediction Loss: 3.726, Lambda: 1.000, Treatment BR Loss: 0.000, Loss: 3.726\n"
     ]
    },
    {
     "name": "stdout",
     "output_type": "stream",
     "text": [
      "Epoch: 7, Prediction Loss: 3.694, Lambda: 1.000, Treatment BR Loss: 0.000, Loss: 3.694\n"
     ]
    },
    {
     "name": "stdout",
     "output_type": "stream",
     "text": [
      "Epoch: 8, Prediction Loss: 3.723, Lambda: 1.000, Treatment BR Loss: 0.000, Loss: 3.723\n"
     ]
    },
    {
     "name": "stdout",
     "output_type": "stream",
     "text": [
      "Epoch: 9, Prediction Loss: 3.730, Lambda: 1.000, Treatment BR Loss: 0.000, Loss: 3.730\n"
     ]
    },
    {
     "name": "stdout",
     "output_type": "stream",
     "text": [
      "Epoch: 10, Prediction Loss: 3.670, Lambda: 1.000, Treatment BR Loss: 0.000, Loss: 3.670\n"
     ]
    },
    {
     "name": "stdout",
     "output_type": "stream",
     "text": [
      "Epoch: 11, Prediction Loss: 3.691, Lambda: 1.000, Treatment BR Loss: 0.000, Loss: 3.691\n"
     ]
    },
    {
     "name": "stdout",
     "output_type": "stream",
     "text": [
      "Epoch: 12, Prediction Loss: 3.726, Lambda: 1.000, Treatment BR Loss: 0.000, Loss: 3.726\n"
     ]
    },
    {
     "name": "stdout",
     "output_type": "stream",
     "text": [
      "Epoch: 13, Prediction Loss: 3.701, Lambda: 1.000, Treatment BR Loss: 0.000, Loss: 3.701\n"
     ]
    },
    {
     "name": "stdout",
     "output_type": "stream",
     "text": [
      "Epoch: 14, Prediction Loss: 3.696, Lambda: 1.000, Treatment BR Loss: 0.000, Loss: 3.696\n"
     ]
    },
    {
     "name": "stdout",
     "output_type": "stream",
     "text": [
      "Epoch: 15, Prediction Loss: 3.668, Lambda: 1.000, Treatment BR Loss: 0.000, Loss: 3.668\n"
     ]
    },
    {
     "name": "stdout",
     "output_type": "stream",
     "text": [
      "Epoch: 16, Prediction Loss: 3.612, Lambda: 1.000, Treatment BR Loss: 0.000, Loss: 3.612\n"
     ]
    },
    {
     "name": "stdout",
     "output_type": "stream",
     "text": [
      "Epoch: 17, Prediction Loss: 3.718, Lambda: 1.000, Treatment BR Loss: 0.000, Loss: 3.718\n"
     ]
    },
    {
     "name": "stdout",
     "output_type": "stream",
     "text": [
      "Epoch: 18, Prediction Loss: 3.717, Lambda: 1.000, Treatment BR Loss: 0.000, Loss: 3.717\n"
     ]
    },
    {
     "name": "stdout",
     "output_type": "stream",
     "text": [
      "Epoch: 19, Prediction Loss: 3.658, Lambda: 1.000, Treatment BR Loss: 0.000, Loss: 3.658\n"
     ]
    }
   ],
   "source": [
    "# Train.\n",
    "model.fit(dataset);"
   ]
  },
  {
   "cell_type": "code",
   "execution_count": null,
   "metadata": {},
   "outputs": [
    {
     "name": "stdout",
     "output_type": "stream",
     "text": [
      "Horizons for sample 0:\n",
      " [5, 6, 7, 8, 9, 10]\n",
      "\n",
      "Alternative treatment scenarios for sample 0:\n",
      " [array([1, 1, 1, 1, 1, 1]), array([0, 0, 0, 0, 0, 0])]\n",
      "\n",
      "Counterfactual outcomes for sample 0, given the alternative treatment scenarios:\n",
      "\n",
      "Treatment scenario 0, [1 1 1 1 1 1]\n",
      "TimeSeries() with data:\n",
      "                 0         1\n",
      "time_idx                    \n",
      "5         5.966007  4.997900\n",
      "6         6.120805  5.138746\n",
      "7         6.138720  5.155504\n",
      "8         6.140833  5.157483\n",
      "9         6.141082  5.157716\n",
      "10        6.141112  5.157744\n",
      "\n",
      "Treatment scenario 1, [0 0 0 0 0 0]\n",
      "TimeSeries() with data:\n",
      "                 0         1\n",
      "time_idx                    \n",
      "5         6.303439  4.996541\n",
      "6         6.467038  5.143897\n",
      "7         6.486365  5.162077\n",
      "8         6.488708  5.164285\n",
      "9         6.488993  5.164552\n",
      "10        6.489028  5.164585\n",
      "\n"
     ]
    }
   ],
   "source": [
    "# Predict counterfactuals:\n",
    "\n",
    "import numpy as np\n",
    "\n",
    "dataset = dataset[:5]\n",
    "\n",
    "# Define horizons for each sample.\n",
    "horizons = [tc.time_indexes()[0][len(tc.time_indexes()[0]) // 2 :] for tc in dataset.time_series]\n",
    "print(\"Horizons for sample 0:\\n\", horizons[0], end=\"\\n\\n\")\n",
    "\n",
    "# Define treatment scenarios for each sample.\n",
    "treatment_scenarios = [[np.asarray([1] * len(h)), np.asarray([0] * len(h))] for h in horizons]\n",
    "print(\"Alternative treatment scenarios for sample 0:\\n\", treatment_scenarios[0], end=\"\\n\\n\")\n",
    "\n",
    "# Call predict_counterfactuals.\n",
    "counterfactuals = model.predict_counterfactuals(dataset, horizons=horizons, treatment_scenarios=treatment_scenarios)\n",
    "print(\"Counterfactual outcomes for sample 0, given the alternative treatment scenarios:\\n\")\n",
    "for idx, c in enumerate(counterfactuals[0]):\n",
    "    print(f\"Treatment scenario {idx}, {treatment_scenarios[0][idx]}\")\n",
    "    print(c, end=\"\\n\\n\")"
   ]
  },
  {
   "cell_type": "markdown",
   "metadata": {},
   "source": [
    "## 🎉 Congratulations!\n",
    "\n",
    "Congratulations on completing this notebook tutorial! If you enjoyed this and would like to join the movement towards *Machine learning and AI for Medicine*, you can do so in the following ways!\n",
    "\n",
    "\n",
    "\n",
    "### ⭐ Star [TemporAI](https://github.com/vanderschaarlab/temporai) on GitHub\n",
    "\n",
    "- The easiest way to help our community is by just starring the repos! This helps raise awareness of the tools we're building.\n",
    "\n",
    "\n",
    "\n",
    "### Check out other projects from [vanderschaarlab](https://github.com/vanderschaarlab)\n",
    "- 📝 [HyperImpute](https://github.com/vanderschaarlab/hyperimpute)\n",
    "- 📊 [AutoPrognosis](https://github.com/vanderschaarlab/autoprognosis)\n",
    "- 🤖 [SynthCity](https://github.com/vanderschaarlab/synthcity)\n",
    " "
   ]
  }
 ],
 "metadata": {
  "kernelspec": {
   "display_name": "RE_py38_temporai",
   "language": "python",
   "name": "python3"
  },
  "language_info": {
   "codemirror_mode": {
    "name": "ipython",
    "version": 3
   },
   "file_extension": ".py",
   "mimetype": "text/x-python",
   "name": "python",
   "nbconvert_exporter": "python",
   "pygments_lexer": "ipython3",
   "version": "3.8.18"
  }
 },
 "nbformat": 4,
 "nbformat_minor": 2
}

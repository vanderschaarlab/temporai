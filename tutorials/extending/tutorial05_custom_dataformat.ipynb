{
 "cells": [
  {
   "cell_type": "markdown",
   "metadata": {},
   "source": [
    "# Extending TemporAI Tutorial 04: Writing a Custom Data Format\n",
    "\n",
    "This tutorial shows how to extend TemporAI by wring a custom *data format* plugin."
   ]
  },
  {
   "cell_type": "markdown",
   "metadata": {},
   "source": [
    "> ⚠️ This feature is experimental and may not yet work as expected."
   ]
  },
  {
   "cell_type": "markdown",
   "metadata": {},
   "source": [
    "**Note**\n",
    "\n",
    "- See \"Writing a Custom `Plugin` 101\" section in \"Writing a Custom Method Plugin\" tutorial.\n",
    "- See also the \"Other Data Formats\" tutorial."
   ]
  },
  {
   "cell_type": "markdown",
   "metadata": {},
   "source": [
    "### Inherit from the appropriate **base class** for the category of the data format plugin you are writing.\n",
    "\n",
    "The base classes for data format plugins are:\n",
    "- `StaticSamplesBase`\n",
    "- `TimeSeriesSamplesBase`\n",
    "- `EventSamplesBase`\n",
    "\n",
    "These are all found in: `src/tempor/data/samples.py`"
   ]
  },
  {
   "cell_type": "markdown",
   "metadata": {},
   "source": [
    "### Implement the **methods** the plugin needs.\n",
    "\n",
    "The base classes require various abstract methods to be implemented, e.g.:\n",
    "* `num_samples`,\n",
    "* `sample_index()`,\n",
    "* ...\n",
    "\n",
    "Find the methods in the appropriate base class indicated with `@abc.abstractmethod` and implement them."
   ]
  },
  {
   "cell_type": "markdown",
   "metadata": {},
   "source": [
    "### **Register** the plugin with TemporAI.\n",
    "\n",
    "Registering your plugin with TemporAI analogously to the other tutorials."
   ]
  },
  {
   "cell_type": "markdown",
   "metadata": {},
   "source": [
    "## 🎉 Congratulations!\n",
    "\n",
    "Congratulations on completing this notebook tutorial! If you enjoyed this and would like to join the movement towards *Machine learning and AI for Medicine*, you can do so in the following ways!\n",
    "\n",
    "\n",
    "\n",
    "### ⭐ Star [TemporAI](https://github.com/vanderschaarlab/temporai) on GitHub\n",
    "\n",
    "- The easiest way to help our community is by just starring the repos! This helps raise awareness of the tools we're building.\n",
    "\n",
    "\n",
    "\n",
    "### Check out other projects from [vanderschaarlab](https://github.com/vanderschaarlab)\n",
    "- 📝 [HyperImpute](https://github.com/vanderschaarlab/hyperimpute)\n",
    "- 📊 [AutoPrognosis](https://github.com/vanderschaarlab/autoprognosis)\n",
    "- 🤖 [SynthCity](https://github.com/vanderschaarlab/synthcity)\n",
    " "
   ]
  }
 ],
 "metadata": {
  "language_info": {
   "name": "python"
  }
 },
 "nbformat": 4,
 "nbformat_minor": 2
}

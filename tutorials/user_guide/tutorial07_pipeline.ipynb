{
 "cells": [
  {
   "attachments": {},
   "cell_type": "markdown",
   "metadata": {},
   "source": [
    "# User Guide Tutorial 07: Pipeline\n",
    "\n",
    "This tutorial shows how to use TemporAI `Pipeline`s."
   ]
  },
  {
   "cell_type": "markdown",
   "metadata": {},
   "source": [
    "*Skip the below cell if you are not on Google Colab / already have TemporAI installed:*"
   ]
  },
  {
   "cell_type": "code",
   "execution_count": 4,
   "metadata": {},
   "outputs": [],
   "source": [
    "%pip install temporai\n",
    "\n",
    "# Or from the repo, for the latest version:\n",
    "# %pip install git+https://github.com/vanderschaarlab/temporai.git"
   ]
  },
  {
   "attachments": {},
   "cell_type": "markdown",
   "metadata": {},
   "source": [
    "## TemporAI `Pipeline`\n",
    "\n",
    "A TemporAI `Pipeline` allows you to combine multiple plugins into one;\n",
    "inspired by be [scikit-learn pipeline](https://scikit-learn.org/stable/modules/generated/sklearn.pipeline.Pipeline.html).\n",
    "\n",
    "* All but the final plugin in the pipeline need to be data transformers (the `preprocessing` plugin category),\n",
    "* The final one must be a predictive plugin (any of the `prediction`, `time_to_event`, `treatments` plugin categories)."
   ]
  },
  {
   "attachments": {},
   "cell_type": "markdown",
   "metadata": {},
   "source": [
    "## Example\n",
    "\n",
    "Below is an example of a pipeline ending with `prediction.one_off.nn_classifier`.\n",
    "\n",
    "Initializing the `Pipeline`:"
   ]
  },
  {
   "cell_type": "code",
   "execution_count": 5,
   "metadata": {},
   "outputs": [
    {
     "name": "stdout",
     "output_type": "stream",
     "text": [
      "Pipeline class: <class 'tempor.plugins.pipeline.bfill_static_tabular_imputer_ts_tabular_imputer_ts_minmax_scaler_nn_classifier'>\n",
      "Pipeline instance: <tempor.plugins.pipeline.bfill_static_tabular_imputer_ts_tabular_imputer_ts_minmax_scaler_nn_classifier object at 0x7ff0ec8e6100>\n"
     ]
    }
   ],
   "source": [
    "from tempor.plugins.pipeline import Pipeline\n",
    "\n",
    "pipeline_class = Pipeline(\n",
    "    # Provide plugin names for the pipeline, in order.\n",
    "    [\n",
    "        # Preprocessing (data transformer) plugins:\n",
    "        \"preprocessing.imputation.temporal.bfill\",\n",
    "        \"preprocessing.imputation.static.static_tabular_imputer\",\n",
    "        \"preprocessing.imputation.temporal.ts_tabular_imputer\",\n",
    "        \"preprocessing.scaling.temporal.ts_minmax_scaler\",\n",
    "        # Prediction plugin:\n",
    "        \"prediction.one_off.classification.nn_classifier\",\n",
    "    ],\n",
    ")\n",
    "print(\"Pipeline class:\", pipeline_class)\n",
    "\n",
    "pipeline = pipeline_class(\n",
    "    # You can provide initialization arguments to each plugin comprising the pipeline as a dictionary, as follows:\n",
    "    {\n",
    "        \"static_imputer\": {\"static_imputer\": \"ice\", \"random_state\": 42},\n",
    "        \"nn_classifier\": {\"n_iter\": 100},\n",
    "    }\n",
    ")\n",
    "print(\"Pipeline instance:\", pipeline)"
   ]
  },
  {
   "attachments": {},
   "cell_type": "markdown",
   "metadata": {},
   "source": [
    "Using the `Pipeline`:"
   ]
  },
  {
   "cell_type": "code",
   "execution_count": 6,
   "metadata": {},
   "outputs": [
    {
     "data": {
      "text/html": [
       "<p><span style=\"font-family: monospace;\">StaticSamples</span> with data:</p><div>\n",
       "<style scoped>\n",
       "    .dataframe tbody tr th:only-of-type {\n",
       "        vertical-align: middle;\n",
       "    }\n",
       "\n",
       "    .dataframe tbody tr th {\n",
       "        vertical-align: top;\n",
       "    }\n",
       "\n",
       "    .dataframe thead th {\n",
       "        text-align: right;\n",
       "    }\n",
       "</style>\n",
       "<table border=\"1\" class=\"dataframe\">\n",
       "  <thead>\n",
       "    <tr style=\"text-align: right;\">\n",
       "      <th></th>\n",
       "      <th>feat_0</th>\n",
       "    </tr>\n",
       "    <tr>\n",
       "      <th>sample_idx</th>\n",
       "      <th></th>\n",
       "    </tr>\n",
       "  </thead>\n",
       "  <tbody>\n",
       "    <tr>\n",
       "      <th>0</th>\n",
       "      <td>1.0</td>\n",
       "    </tr>\n",
       "    <tr>\n",
       "      <th>1</th>\n",
       "      <td>1.0</td>\n",
       "    </tr>\n",
       "    <tr>\n",
       "      <th>2</th>\n",
       "      <td>1.0</td>\n",
       "    </tr>\n",
       "    <tr>\n",
       "      <th>3</th>\n",
       "      <td>1.0</td>\n",
       "    </tr>\n",
       "    <tr>\n",
       "      <th>4</th>\n",
       "      <td>0.0</td>\n",
       "    </tr>\n",
       "    <tr>\n",
       "      <th>...</th>\n",
       "      <td>...</td>\n",
       "    </tr>\n",
       "    <tr>\n",
       "      <th>95</th>\n",
       "      <td>1.0</td>\n",
       "    </tr>\n",
       "    <tr>\n",
       "      <th>96</th>\n",
       "      <td>1.0</td>\n",
       "    </tr>\n",
       "    <tr>\n",
       "      <th>97</th>\n",
       "      <td>1.0</td>\n",
       "    </tr>\n",
       "    <tr>\n",
       "      <th>98</th>\n",
       "      <td>1.0</td>\n",
       "    </tr>\n",
       "    <tr>\n",
       "      <th>99</th>\n",
       "      <td>1.0</td>\n",
       "    </tr>\n",
       "  </tbody>\n",
       "</table>\n",
       "<p>100 rows × 1 columns</p>\n",
       "</div>"
      ],
      "text/plain": [
       "StaticSamples with data:\n",
       "            feat_0\n",
       "sample_idx        \n",
       "0              1.0\n",
       "1              1.0\n",
       "2              1.0\n",
       "3              1.0\n",
       "4              0.0\n",
       "...            ...\n",
       "95             1.0\n",
       "96             1.0\n",
       "97             1.0\n",
       "98             1.0\n",
       "99             1.0\n",
       "\n",
       "[100 rows x 1 columns]"
      ]
     },
     "execution_count": 6,
     "metadata": {},
     "output_type": "execute_result"
    }
   ],
   "source": [
    "from tempor.utils.dataloaders import SineDataLoader\n",
    "\n",
    "dataset = SineDataLoader(random_state=42).load()\n",
    "\n",
    "# Fit:\n",
    "pipeline.fit(dataset)\n",
    "\n",
    "# Predict:\n",
    "pipeline.predict(dataset)  # This will transform the data ant then predict."
   ]
  },
  {
   "cell_type": "markdown",
   "metadata": {},
   "source": [
    "## 🎉 Congratulations!\n",
    "\n",
    "Congratulations on completing this notebook tutorial! If you enjoyed this and would like to join the movement towards *Machine learning and AI for Medicine*, you can do so in the following ways!\n",
    "\n",
    "\n",
    "\n",
    "### ⭐ Star [TemporAI](https://github.com/vanderschaarlab/temporai) on GitHub\n",
    "\n",
    "- The easiest way to help our community is by just starring the repos! This helps raise awareness of the tools we're building.\n",
    "\n",
    "\n",
    "\n",
    "### Check out other projects from [vanderschaarlab](https://github.com/vanderschaarlab)\n",
    "- 📝 [HyperImpute](https://github.com/vanderschaarlab/hyperimpute)\n",
    "- 📊 [AutoPrognosis](https://github.com/vanderschaarlab/autoprognosis)\n",
    "- 🤖 [SynthCity](https://github.com/vanderschaarlab/synthcity)\n",
    " "
   ]
  }
 ],
 "metadata": {
  "kernelspec": {
   "display_name": "RE_py38_temporai",
   "language": "python",
   "name": "python3"
  },
  "language_info": {
   "codemirror_mode": {
    "name": "ipython",
    "version": 3
   },
   "file_extension": ".py",
   "mimetype": "text/x-python",
   "name": "python",
   "nbconvert_exporter": "python",
   "pygments_lexer": "ipython3",
   "version": "3.8.15"
  },
  "orig_nbformat": 4
 },
 "nbformat": 4,
 "nbformat_minor": 2
}

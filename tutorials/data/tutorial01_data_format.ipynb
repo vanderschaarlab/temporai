{
 "cells": [
  {
   "attachments": {},
   "cell_type": "markdown",
   "metadata": {},
   "source": [
    "# Data Tutorial 01: Data Format\n",
    "\n",
    "This tutorial shows a minimal example of the data format for TemporAI."
   ]
  },
  {
   "cell_type": "markdown",
   "metadata": {},
   "source": [
    "*Skip the below cell if you are not on Google Colab / already have TemporAI installed:*"
   ]
  },
  {
   "cell_type": "code",
   "execution_count": null,
   "metadata": {},
   "outputs": [],
   "source": [
    "%pip install temporai\n",
    "\n",
    "# Or from the repo, for the latest version:\n",
    "# %pip install git+https://github.com/vanderschaarlab/temporai.git"
   ]
  },
  {
   "attachments": {},
   "cell_type": "markdown",
   "metadata": {},
   "source": [
    "## Time series data\n",
    "\n",
    "Time series data contains data samples (e.g. patients), with features that unfold sequentially over some number of timesteps.\n",
    "\n",
    "Time series data should take form of a `pandas.DataFrame`, with the following specifics:\n",
    "* The index should be a 2-level multiindex, where level `0` index represents sampled IDs, and level `1` represents the timesteps for each sample.\n",
    "* The sample index can be comprised of either `int`s or `str`s (homogenous, not a mix of these).\n",
    "* The time index (timesteps) may be `int`, `float` or `pandas.Timestep`-compatible format (homogenous, not a mix of these).\n",
    "* The columns of the dataframe represent the features, column names must be `str`.\n",
    "* Column (feature) values currently supported are: `bool`, `int`, `float`, or `pandas.Categorical` (homogenous per column).\n",
    "\n",
    "Other points to note:\n",
    "* Sample IDs must be unique.\n",
    "* (Sample ID, timestep) combination must be unique (a sample cannot have more than one of the same timestep).\n",
    "* Null values such as `numpy.nan` are allowed and represent missing values."
   ]
  },
  {
   "cell_type": "code",
   "execution_count": 2,
   "metadata": {},
   "outputs": [],
   "source": [
    "import pandas as pd\n",
    "import numpy as np\n",
    "\n",
    "from IPython.display import display"
   ]
  },
  {
   "cell_type": "code",
   "execution_count": 3,
   "metadata": {},
   "outputs": [
    {
     "name": "stdout",
     "output_type": "stream",
     "text": [
      "<class 'pandas.core.frame.DataFrame'>\n",
      "MultiIndex: 7 entries, ('sample_0', 1) to ('sample_2', 9)\n",
      "Data columns (total 3 columns):\n",
      " #   Column    Non-Null Count  Dtype   \n",
      "---  ------    --------------  -----   \n",
      " 0   t_feat_0  7 non-null      int64   \n",
      " 1   t_feat_1  6 non-null      float64 \n",
      " 2   t_feat_2  7 non-null      category\n",
      "dtypes: category(1), float64(1), int64(1)\n",
      "memory usage: 725.0+ bytes\n"
     ]
    },
    {
     "data": {
      "text/html": [
       "<div>\n",
       "<style scoped>\n",
       "    .dataframe tbody tr th:only-of-type {\n",
       "        vertical-align: middle;\n",
       "    }\n",
       "\n",
       "    .dataframe tbody tr th {\n",
       "        vertical-align: top;\n",
       "    }\n",
       "\n",
       "    .dataframe thead th {\n",
       "        text-align: right;\n",
       "    }\n",
       "</style>\n",
       "<table border=\"1\" class=\"dataframe\">\n",
       "  <thead>\n",
       "    <tr style=\"text-align: right;\">\n",
       "      <th></th>\n",
       "      <th></th>\n",
       "      <th>t_feat_0</th>\n",
       "      <th>t_feat_1</th>\n",
       "      <th>t_feat_2</th>\n",
       "    </tr>\n",
       "    <tr>\n",
       "      <th>sample_idx</th>\n",
       "      <th>time_idx</th>\n",
       "      <th></th>\n",
       "      <th></th>\n",
       "      <th></th>\n",
       "    </tr>\n",
       "  </thead>\n",
       "  <tbody>\n",
       "    <tr>\n",
       "      <th rowspan=\"4\" valign=\"top\">sample_0</th>\n",
       "      <th>1</th>\n",
       "      <td>11</td>\n",
       "      <td>1.1</td>\n",
       "      <td>a</td>\n",
       "    </tr>\n",
       "    <tr>\n",
       "      <th>2</th>\n",
       "      <td>12</td>\n",
       "      <td>1.2</td>\n",
       "      <td>b</td>\n",
       "    </tr>\n",
       "    <tr>\n",
       "      <th>3</th>\n",
       "      <td>13</td>\n",
       "      <td>1.3</td>\n",
       "      <td>b</td>\n",
       "    </tr>\n",
       "    <tr>\n",
       "      <th>4</th>\n",
       "      <td>14</td>\n",
       "      <td>NaN</td>\n",
       "      <td>c</td>\n",
       "    </tr>\n",
       "    <tr>\n",
       "      <th rowspan=\"2\" valign=\"top\">sample_1</th>\n",
       "      <th>2</th>\n",
       "      <td>21</td>\n",
       "      <td>2.1</td>\n",
       "      <td>a</td>\n",
       "    </tr>\n",
       "    <tr>\n",
       "      <th>4</th>\n",
       "      <td>22</td>\n",
       "      <td>2.2</td>\n",
       "      <td>a</td>\n",
       "    </tr>\n",
       "    <tr>\n",
       "      <th>sample_2</th>\n",
       "      <th>9</th>\n",
       "      <td>31</td>\n",
       "      <td>3.1</td>\n",
       "      <td>c</td>\n",
       "    </tr>\n",
       "  </tbody>\n",
       "</table>\n",
       "</div>"
      ],
      "text/plain": [
       "                     t_feat_0  t_feat_1 t_feat_2\n",
       "sample_idx time_idx                             \n",
       "sample_0   1               11       1.1        a\n",
       "           2               12       1.2        b\n",
       "           3               13       1.3        b\n",
       "           4               14       NaN        c\n",
       "sample_1   2               21       2.1        a\n",
       "           4               22       2.2        a\n",
       "sample_2   9               31       3.1        c"
      ]
     },
     "execution_count": 3,
     "metadata": {},
     "output_type": "execute_result"
    }
   ],
   "source": [
    "# Create a time series dataframe.\n",
    "\n",
    "time_series_df = pd.DataFrame(\n",
    "    {\n",
    "        \"sample_idx\": [\"sample_0\", \"sample_0\", \"sample_0\", \"sample_0\", \"sample_1\", \"sample_1\", \"sample_2\"],\n",
    "        \"time_idx\": [1, 2, 3, 4, 2, 4, 9],\n",
    "        \"t_feat_0\": [11, 12, 13, 14, 21, 22, 31],\n",
    "        \"t_feat_1\": [1.1, 1.2, 1.3, np.nan, 2.1, 2.2, 3.1],\n",
    "        \"t_feat_2\": [\"a\", \"b\", \"b\", \"c\", \"a\", \"a\", \"c\"],\n",
    "    }\n",
    ")\n",
    "\n",
    "# Set the 2-level index:\n",
    "time_series_df.set_index(keys=[\"sample_idx\", \"time_idx\"], drop=True, inplace=True)\n",
    "\n",
    "# \"feat_2\" needs to be set to a categorical, as `str` format is not supported.\n",
    "time_series_df[\"t_feat_2\"] = pd.Categorical(time_series_df[\"t_feat_2\"])\n",
    "\n",
    "# Preview the dataframe:\n",
    "time_series_df.info()\n",
    "time_series_df"
   ]
  },
  {
   "attachments": {},
   "cell_type": "markdown",
   "metadata": {},
   "source": [
    "## Static data\n",
    "\n",
    "Static data contains data samples (e.g. patients), features that are not associated with a particular time.\n",
    "\n",
    "Static data should take form of a `pandas.DataFrame`, with the following specifics:\n",
    "* The index represents sample IDs and is a (single level) index that can be comprised of `int`s or `str`s (homogenous, not a mix of these).\n",
    "* The columns of the dataframe represent the features, column names must be `str`.\n",
    "* Column (feature) values currently supported are: `bool`, `int`, `float`, or `pandas.Categorical` (homogenous per column).\n",
    "\n",
    "Other points to note:\n",
    "* Sample IDs must be unique.\n",
    "* Null values such as `numpy.nan` are allowed and represent missing values."
   ]
  },
  {
   "cell_type": "code",
   "execution_count": 4,
   "metadata": {},
   "outputs": [
    {
     "name": "stdout",
     "output_type": "stream",
     "text": [
      "<class 'pandas.core.frame.DataFrame'>\n",
      "Index: 3 entries, sample_0 to sample_2\n",
      "Data columns (total 2 columns):\n",
      " #   Column    Non-Null Count  Dtype  \n",
      "---  ------    --------------  -----  \n",
      " 0   s_feat_0  3 non-null      int64  \n",
      " 1   s_feat_1  2 non-null      float64\n",
      "dtypes: float64(1), int64(1)\n",
      "memory usage: 72.0+ bytes\n"
     ]
    },
    {
     "data": {
      "text/html": [
       "<div>\n",
       "<style scoped>\n",
       "    .dataframe tbody tr th:only-of-type {\n",
       "        vertical-align: middle;\n",
       "    }\n",
       "\n",
       "    .dataframe tbody tr th {\n",
       "        vertical-align: top;\n",
       "    }\n",
       "\n",
       "    .dataframe thead th {\n",
       "        text-align: right;\n",
       "    }\n",
       "</style>\n",
       "<table border=\"1\" class=\"dataframe\">\n",
       "  <thead>\n",
       "    <tr style=\"text-align: right;\">\n",
       "      <th></th>\n",
       "      <th>s_feat_0</th>\n",
       "      <th>s_feat_1</th>\n",
       "    </tr>\n",
       "  </thead>\n",
       "  <tbody>\n",
       "    <tr>\n",
       "      <th>sample_0</th>\n",
       "      <td>100</td>\n",
       "      <td>-1.1</td>\n",
       "    </tr>\n",
       "    <tr>\n",
       "      <th>sample_1</th>\n",
       "      <td>200</td>\n",
       "      <td>NaN</td>\n",
       "    </tr>\n",
       "    <tr>\n",
       "      <th>sample_2</th>\n",
       "      <td>300</td>\n",
       "      <td>-1.3</td>\n",
       "    </tr>\n",
       "  </tbody>\n",
       "</table>\n",
       "</div>"
      ],
      "text/plain": [
       "          s_feat_0  s_feat_1\n",
       "sample_0       100      -1.1\n",
       "sample_1       200       NaN\n",
       "sample_2       300      -1.3"
      ]
     },
     "execution_count": 4,
     "metadata": {},
     "output_type": "execute_result"
    }
   ],
   "source": [
    "# Create a static data dataframe.\n",
    "\n",
    "static_df = pd.DataFrame(\n",
    "    {\n",
    "        \"s_feat_0\": [100, 200, 300],\n",
    "        \"s_feat_1\": [-1.1, np.nan, -1.3],\n",
    "    },\n",
    "    index=[\"sample_0\", \"sample_1\", \"sample_2\"],\n",
    ")\n",
    "\n",
    "# Preview the dataframe:\n",
    "static_df.info()\n",
    "static_df"
   ]
  },
  {
   "attachments": {},
   "cell_type": "markdown",
   "metadata": {},
   "source": [
    "## Event data\n",
    "\n",
    "Event data contains data samples (e.g. patients), with features that represent occurrence of an event at a certain time.\n",
    "If the event did not occur, it is \"censored\".\n",
    "\n",
    "Event data should take form of a `pandas.DataFrame`, with the following specifics:\n",
    "* The index represents sample IDs and is a (single level) index that can be comprised of `int`s or `str`s (homogenous, not a mix of these).\n",
    "* The columns of the dataframe represent the features, column names must be `str`.\n",
    "* Column (feature) values must be of the form: `Tuple[<timestep>, bool]`.\n",
    "    * The first element `<timestep>` may be `int`, `float` or `pandas.Timestep`-compatible format (homogenous per column).\n",
    "    * The second element `bool` indicates whether the event occurred at this time (`True`) or the event feature is censored (`False`).\n",
    "    * In case of censoring, the timestep should indicate the last time information about the sample was available. \n",
    "\n",
    "Other points to note:\n",
    "* Sample IDs must be unique.\n",
    "* Null values such as `numpy.nan` are not allowed allowed - indicate an event as censored (did not occur) instead."
   ]
  },
  {
   "cell_type": "code",
   "execution_count": 5,
   "metadata": {},
   "outputs": [
    {
     "name": "stdout",
     "output_type": "stream",
     "text": [
      "<class 'pandas.core.frame.DataFrame'>\n",
      "Index: 3 entries, sample_0 to sample_2\n",
      "Data columns (total 2 columns):\n",
      " #   Column    Non-Null Count  Dtype \n",
      "---  ------    --------------  ----- \n",
      " 0   e_feat_0  3 non-null      object\n",
      " 1   e_feat_1  3 non-null      object\n",
      "dtypes: object(2)\n",
      "memory usage: 72.0+ bytes\n"
     ]
    },
    {
     "data": {
      "text/html": [
       "<div>\n",
       "<style scoped>\n",
       "    .dataframe tbody tr th:only-of-type {\n",
       "        vertical-align: middle;\n",
       "    }\n",
       "\n",
       "    .dataframe tbody tr th {\n",
       "        vertical-align: top;\n",
       "    }\n",
       "\n",
       "    .dataframe thead th {\n",
       "        text-align: right;\n",
       "    }\n",
       "</style>\n",
       "<table border=\"1\" class=\"dataframe\">\n",
       "  <thead>\n",
       "    <tr style=\"text-align: right;\">\n",
       "      <th></th>\n",
       "      <th>e_feat_0</th>\n",
       "      <th>e_feat_1</th>\n",
       "    </tr>\n",
       "  </thead>\n",
       "  <tbody>\n",
       "    <tr>\n",
       "      <th>sample_0</th>\n",
       "      <td>(10, True)</td>\n",
       "      <td>(10, False)</td>\n",
       "    </tr>\n",
       "    <tr>\n",
       "      <th>sample_1</th>\n",
       "      <td>(12, False)</td>\n",
       "      <td>(10, False)</td>\n",
       "    </tr>\n",
       "    <tr>\n",
       "      <th>sample_2</th>\n",
       "      <td>(13, True)</td>\n",
       "      <td>(11, True)</td>\n",
       "    </tr>\n",
       "  </tbody>\n",
       "</table>\n",
       "</div>"
      ],
      "text/plain": [
       "             e_feat_0     e_feat_1\n",
       "sample_0   (10, True)  (10, False)\n",
       "sample_1  (12, False)  (10, False)\n",
       "sample_2   (13, True)   (11, True)"
      ]
     },
     "execution_count": 5,
     "metadata": {},
     "output_type": "execute_result"
    }
   ],
   "source": [
    "# Create an event dataframe.\n",
    "\n",
    "event_df = pd.DataFrame(\n",
    "    {\n",
    "        \"e_feat_0\": [(10, True), (12, False), (13, True)],\n",
    "        \"e_feat_1\": [(10, False), (10, False), (11, True)],\n",
    "    },\n",
    "    index=[\"sample_0\", \"sample_1\", \"sample_2\"],\n",
    ")\n",
    "\n",
    "# Preview the dataframe:\n",
    "event_df.info()\n",
    "event_df"
   ]
  },
  {
   "attachments": {},
   "cell_type": "markdown",
   "metadata": {},
   "source": [
    "The data can also be initialised from a 2D `numpy` array (static, event) or a 3D `numpy` array (time series).\n",
    "\n",
    "`TODO: more info`"
   ]
  },
  {
   "attachments": {},
   "cell_type": "markdown",
   "metadata": {},
   "source": [
    "## Dataset\n",
    "\n",
    "The collection of data that represents the task at hand is a `Dataset`.\n",
    "\n",
    "A `Dataset` contains:\n",
    "* Time series data (covariates),\n",
    "* Static data (covariates), optional,\n",
    "* Predictive data, which depends on the *task*.\n",
    "    * This may contain *targets* and *treatments*.\n",
    "\n",
    "For example, for the *time-to-event analysis task* we create a dataset as follows."
   ]
  },
  {
   "cell_type": "code",
   "execution_count": 6,
   "metadata": {},
   "outputs": [
    {
     "data": {
      "text/plain": [
       "TimeToEventAnalysisDataset(\n",
       "    time_series=TimeSeriesSamples([3, *, 3]),\n",
       "    static=StaticSamples([3, 2]),\n",
       "    predictive=TimeToEventAnalysisTaskData(targets=EventSamples([3, 2]))\n",
       ")"
      ]
     },
     "execution_count": 6,
     "metadata": {},
     "output_type": "execute_result"
    }
   ],
   "source": [
    "from tempor.data.dataset import TimeToEventAnalysisDataset\n",
    "\n",
    "# Create a dataset of time-to-event analysis task:\n",
    "data = TimeToEventAnalysisDataset(\n",
    "    time_series=time_series_df,\n",
    "    static=static_df,\n",
    "    targets=event_df,\n",
    ")\n",
    "\n",
    "# Preview dataset:\n",
    "data"
   ]
  },
  {
   "cell_type": "code",
   "execution_count": 7,
   "metadata": {},
   "outputs": [
    {
     "data": {
      "text/html": [
       "<p><span style=\"font-family: monospace;\">TimeSeriesSamples</span> with data:</p><div>\n",
       "<style scoped>\n",
       "    .dataframe tbody tr th:only-of-type {\n",
       "        vertical-align: middle;\n",
       "    }\n",
       "\n",
       "    .dataframe tbody tr th {\n",
       "        vertical-align: top;\n",
       "    }\n",
       "\n",
       "    .dataframe thead th {\n",
       "        text-align: right;\n",
       "    }\n",
       "</style>\n",
       "<table border=\"1\" class=\"dataframe\">\n",
       "  <thead>\n",
       "    <tr style=\"text-align: right;\">\n",
       "      <th></th>\n",
       "      <th></th>\n",
       "      <th>t_feat_0</th>\n",
       "      <th>t_feat_1</th>\n",
       "      <th>t_feat_2</th>\n",
       "    </tr>\n",
       "    <tr>\n",
       "      <th>sample_idx</th>\n",
       "      <th>time_idx</th>\n",
       "      <th></th>\n",
       "      <th></th>\n",
       "      <th></th>\n",
       "    </tr>\n",
       "  </thead>\n",
       "  <tbody>\n",
       "    <tr>\n",
       "      <th rowspan=\"4\" valign=\"top\">sample_0</th>\n",
       "      <th>1</th>\n",
       "      <td>11</td>\n",
       "      <td>1.1</td>\n",
       "      <td>a</td>\n",
       "    </tr>\n",
       "    <tr>\n",
       "      <th>2</th>\n",
       "      <td>12</td>\n",
       "      <td>1.2</td>\n",
       "      <td>b</td>\n",
       "    </tr>\n",
       "    <tr>\n",
       "      <th>3</th>\n",
       "      <td>13</td>\n",
       "      <td>1.3</td>\n",
       "      <td>b</td>\n",
       "    </tr>\n",
       "    <tr>\n",
       "      <th>4</th>\n",
       "      <td>14</td>\n",
       "      <td>NaN</td>\n",
       "      <td>c</td>\n",
       "    </tr>\n",
       "    <tr>\n",
       "      <th rowspan=\"2\" valign=\"top\">sample_1</th>\n",
       "      <th>2</th>\n",
       "      <td>21</td>\n",
       "      <td>2.1</td>\n",
       "      <td>a</td>\n",
       "    </tr>\n",
       "    <tr>\n",
       "      <th>4</th>\n",
       "      <td>22</td>\n",
       "      <td>2.2</td>\n",
       "      <td>a</td>\n",
       "    </tr>\n",
       "    <tr>\n",
       "      <th>sample_2</th>\n",
       "      <th>9</th>\n",
       "      <td>31</td>\n",
       "      <td>3.1</td>\n",
       "      <td>c</td>\n",
       "    </tr>\n",
       "  </tbody>\n",
       "</table>\n",
       "</div>"
      ],
      "text/plain": [
       "TimeSeriesSamples with data:\n",
       "                     t_feat_0  t_feat_1 t_feat_2\n",
       "sample_idx time_idx                             \n",
       "sample_0   1               11       1.1        a\n",
       "           2               12       1.2        b\n",
       "           3               13       1.3        b\n",
       "           4               14       NaN        c\n",
       "sample_1   2               21       2.1        a\n",
       "           4               22       2.2        a\n",
       "sample_2   9               31       3.1        c"
      ]
     },
     "execution_count": 7,
     "metadata": {},
     "output_type": "execute_result"
    }
   ],
   "source": [
    "data.time_series"
   ]
  },
  {
   "cell_type": "code",
   "execution_count": 8,
   "metadata": {},
   "outputs": [
    {
     "data": {
      "text/html": [
       "<p><span style=\"font-family: monospace;\">StaticSamples</span> with data:</p><div>\n",
       "<style scoped>\n",
       "    .dataframe tbody tr th:only-of-type {\n",
       "        vertical-align: middle;\n",
       "    }\n",
       "\n",
       "    .dataframe tbody tr th {\n",
       "        vertical-align: top;\n",
       "    }\n",
       "\n",
       "    .dataframe thead th {\n",
       "        text-align: right;\n",
       "    }\n",
       "</style>\n",
       "<table border=\"1\" class=\"dataframe\">\n",
       "  <thead>\n",
       "    <tr style=\"text-align: right;\">\n",
       "      <th></th>\n",
       "      <th>s_feat_0</th>\n",
       "      <th>s_feat_1</th>\n",
       "    </tr>\n",
       "    <tr>\n",
       "      <th>sample_idx</th>\n",
       "      <th></th>\n",
       "      <th></th>\n",
       "    </tr>\n",
       "  </thead>\n",
       "  <tbody>\n",
       "    <tr>\n",
       "      <th>sample_0</th>\n",
       "      <td>100</td>\n",
       "      <td>-1.1</td>\n",
       "    </tr>\n",
       "    <tr>\n",
       "      <th>sample_1</th>\n",
       "      <td>200</td>\n",
       "      <td>NaN</td>\n",
       "    </tr>\n",
       "    <tr>\n",
       "      <th>sample_2</th>\n",
       "      <td>300</td>\n",
       "      <td>-1.3</td>\n",
       "    </tr>\n",
       "  </tbody>\n",
       "</table>\n",
       "</div>"
      ],
      "text/plain": [
       "StaticSamples with data:\n",
       "            s_feat_0  s_feat_1\n",
       "sample_idx                    \n",
       "sample_0         100      -1.1\n",
       "sample_1         200       NaN\n",
       "sample_2         300      -1.3"
      ]
     },
     "execution_count": 8,
     "metadata": {},
     "output_type": "execute_result"
    }
   ],
   "source": [
    "data.static"
   ]
  },
  {
   "cell_type": "code",
   "execution_count": 9,
   "metadata": {},
   "outputs": [
    {
     "data": {
      "text/html": [
       "<p><span style=\"font-family: monospace;\">EventSamples</span> with data:</p><div>\n",
       "<style scoped>\n",
       "    .dataframe tbody tr th:only-of-type {\n",
       "        vertical-align: middle;\n",
       "    }\n",
       "\n",
       "    .dataframe tbody tr th {\n",
       "        vertical-align: top;\n",
       "    }\n",
       "\n",
       "    .dataframe thead th {\n",
       "        text-align: right;\n",
       "    }\n",
       "</style>\n",
       "<table border=\"1\" class=\"dataframe\">\n",
       "  <thead>\n",
       "    <tr style=\"text-align: right;\">\n",
       "      <th></th>\n",
       "      <th>e_feat_0</th>\n",
       "      <th>e_feat_1</th>\n",
       "    </tr>\n",
       "    <tr>\n",
       "      <th>sample_idx</th>\n",
       "      <th></th>\n",
       "      <th></th>\n",
       "    </tr>\n",
       "  </thead>\n",
       "  <tbody>\n",
       "    <tr>\n",
       "      <th>sample_0</th>\n",
       "      <td>(10, True)</td>\n",
       "      <td>(10, False)</td>\n",
       "    </tr>\n",
       "    <tr>\n",
       "      <th>sample_1</th>\n",
       "      <td>(12, False)</td>\n",
       "      <td>(10, False)</td>\n",
       "    </tr>\n",
       "    <tr>\n",
       "      <th>sample_2</th>\n",
       "      <td>(13, True)</td>\n",
       "      <td>(11, True)</td>\n",
       "    </tr>\n",
       "  </tbody>\n",
       "</table>\n",
       "</div>"
      ],
      "text/plain": [
       "EventSamples with data:\n",
       "               e_feat_0     e_feat_1\n",
       "sample_idx                          \n",
       "sample_0     (10, True)  (10, False)\n",
       "sample_1    (12, False)  (10, False)\n",
       "sample_2     (13, True)   (11, True)"
      ]
     },
     "execution_count": 9,
     "metadata": {},
     "output_type": "execute_result"
    }
   ],
   "source": [
    "data.predictive.targets"
   ]
  },
  {
   "attachments": {},
   "cell_type": "markdown",
   "metadata": {},
   "source": [
    "## Useful methods\n",
    "\n",
    "The data (`{TimeSeries,Event,Static}Samples` classes) provide a number of useful methods, some examples below."
   ]
  },
  {
   "attachments": {},
   "cell_type": "markdown",
   "metadata": {},
   "source": [
    "### Examples for `TimeSeriesSamples`"
   ]
  },
  {
   "cell_type": "code",
   "execution_count": 10,
   "metadata": {},
   "outputs": [],
   "source": [
    "time_series = data.time_series"
   ]
  },
  {
   "cell_type": "code",
   "execution_count": 11,
   "metadata": {},
   "outputs": [
    {
     "data": {
      "text/html": [
       "<div>\n",
       "<style scoped>\n",
       "    .dataframe tbody tr th:only-of-type {\n",
       "        vertical-align: middle;\n",
       "    }\n",
       "\n",
       "    .dataframe tbody tr th {\n",
       "        vertical-align: top;\n",
       "    }\n",
       "\n",
       "    .dataframe thead th {\n",
       "        text-align: right;\n",
       "    }\n",
       "</style>\n",
       "<table border=\"1\" class=\"dataframe\">\n",
       "  <thead>\n",
       "    <tr style=\"text-align: right;\">\n",
       "      <th></th>\n",
       "      <th></th>\n",
       "      <th>t_feat_0</th>\n",
       "      <th>t_feat_1</th>\n",
       "      <th>t_feat_2</th>\n",
       "    </tr>\n",
       "    <tr>\n",
       "      <th>sample_idx</th>\n",
       "      <th>time_idx</th>\n",
       "      <th></th>\n",
       "      <th></th>\n",
       "      <th></th>\n",
       "    </tr>\n",
       "  </thead>\n",
       "  <tbody>\n",
       "    <tr>\n",
       "      <th rowspan=\"4\" valign=\"top\">sample_0</th>\n",
       "      <th>1</th>\n",
       "      <td>11</td>\n",
       "      <td>1.1</td>\n",
       "      <td>a</td>\n",
       "    </tr>\n",
       "    <tr>\n",
       "      <th>2</th>\n",
       "      <td>12</td>\n",
       "      <td>1.2</td>\n",
       "      <td>b</td>\n",
       "    </tr>\n",
       "    <tr>\n",
       "      <th>3</th>\n",
       "      <td>13</td>\n",
       "      <td>1.3</td>\n",
       "      <td>b</td>\n",
       "    </tr>\n",
       "    <tr>\n",
       "      <th>4</th>\n",
       "      <td>14</td>\n",
       "      <td>NaN</td>\n",
       "      <td>c</td>\n",
       "    </tr>\n",
       "    <tr>\n",
       "      <th rowspan=\"2\" valign=\"top\">sample_1</th>\n",
       "      <th>2</th>\n",
       "      <td>21</td>\n",
       "      <td>2.1</td>\n",
       "      <td>a</td>\n",
       "    </tr>\n",
       "    <tr>\n",
       "      <th>4</th>\n",
       "      <td>22</td>\n",
       "      <td>2.2</td>\n",
       "      <td>a</td>\n",
       "    </tr>\n",
       "    <tr>\n",
       "      <th>sample_2</th>\n",
       "      <th>9</th>\n",
       "      <td>31</td>\n",
       "      <td>3.1</td>\n",
       "      <td>c</td>\n",
       "    </tr>\n",
       "  </tbody>\n",
       "</table>\n",
       "</div>"
      ],
      "text/plain": [
       "                     t_feat_0  t_feat_1 t_feat_2\n",
       "sample_idx time_idx                             \n",
       "sample_0   1               11       1.1        a\n",
       "           2               12       1.2        b\n",
       "           3               13       1.3        b\n",
       "           4               14       NaN        c\n",
       "sample_1   2               21       2.1        a\n",
       "           4               22       2.2        a\n",
       "sample_2   9               31       3.1        c"
      ]
     },
     "execution_count": 11,
     "metadata": {},
     "output_type": "execute_result"
    }
   ],
   "source": [
    "# Return time series data as a dataframe:\n",
    "\n",
    "time_series.dataframe()"
   ]
  },
  {
   "cell_type": "code",
   "execution_count": 12,
   "metadata": {},
   "outputs": [
    {
     "data": {
      "text/plain": [
       "array([[[11, 1.1, 'a'],\n",
       "        [12, 1.2, 'b'],\n",
       "        [13, 1.3, 'b'],\n",
       "        [14, nan, 'c']],\n",
       "\n",
       "       [[21, 2.1, 'a'],\n",
       "        [22, 2.2, 'a'],\n",
       "        [-999.0, -999.0, -999.0],\n",
       "        [-999.0, -999.0, -999.0]],\n",
       "\n",
       "       [[31, 3.1, 'c'],\n",
       "        [-999.0, -999.0, -999.0],\n",
       "        [-999.0, -999.0, -999.0],\n",
       "        [-999.0, -999.0, -999.0]]], dtype=object)"
      ]
     },
     "execution_count": 12,
     "metadata": {},
     "output_type": "execute_result"
    }
   ],
   "source": [
    "# Return time series data as a numpy array:\n",
    "\n",
    "time_series.numpy(padding_indicator=-999.0)"
   ]
  },
  {
   "cell_type": "code",
   "execution_count": 13,
   "metadata": {},
   "outputs": [
    {
     "data": {
      "text/plain": [
       "[                     t_feat_0  t_feat_1 t_feat_2\n",
       " sample_idx time_idx                             \n",
       " sample_0   1               11       1.1        a\n",
       "            2               12       1.2        b\n",
       "            3               13       1.3        b\n",
       "            4               14       NaN        c,\n",
       "                      t_feat_0  t_feat_1 t_feat_2\n",
       " sample_idx time_idx                             \n",
       " sample_1   2               21       2.1        a\n",
       "            4               22       2.2        a,\n",
       "                      t_feat_0  t_feat_1 t_feat_2\n",
       " sample_idx time_idx                             \n",
       " sample_2   9               31       3.1        c]"
      ]
     },
     "execution_count": 13,
     "metadata": {},
     "output_type": "execute_result"
    }
   ],
   "source": [
    "# Return the time series data as a list of dataframes:\n",
    "\n",
    "time_series.list_of_dataframes()"
   ]
  },
  {
   "cell_type": "code",
   "execution_count": 14,
   "metadata": {},
   "outputs": [
    {
     "name": "stdout",
     "output_type": "stream",
     "text": [
      "num_features: 3\n",
      "num_samples: 3\n"
     ]
    }
   ],
   "source": [
    "# Show number of features and samples:\n",
    "\n",
    "print(\"num_features:\", time_series.num_features)\n",
    "print(\"num_samples:\", time_series.num_samples)"
   ]
  },
  {
   "cell_type": "code",
   "execution_count": 15,
   "metadata": {},
   "outputs": [
    {
     "name": "stdout",
     "output_type": "stream",
     "text": [
      "timesteps per sample: [4, 2, 1]\n"
     ]
    }
   ],
   "source": [
    "# Show number of samples for each sample:\n",
    "\n",
    "print(\"timesteps per sample:\", time_series.num_timesteps())"
   ]
  },
  {
   "attachments": {},
   "cell_type": "markdown",
   "metadata": {},
   "source": [
    "### Examples for `{Static,Event}Samples`"
   ]
  },
  {
   "cell_type": "code",
   "execution_count": 16,
   "metadata": {},
   "outputs": [],
   "source": [
    "assert data.static is not None\n",
    "assert data.predictive.targets is not None\n",
    "\n",
    "static = data.static\n",
    "event = data.predictive.targets"
   ]
  },
  {
   "cell_type": "code",
   "execution_count": 17,
   "metadata": {},
   "outputs": [
    {
     "data": {
      "text/html": [
       "<div>\n",
       "<style scoped>\n",
       "    .dataframe tbody tr th:only-of-type {\n",
       "        vertical-align: middle;\n",
       "    }\n",
       "\n",
       "    .dataframe tbody tr th {\n",
       "        vertical-align: top;\n",
       "    }\n",
       "\n",
       "    .dataframe thead th {\n",
       "        text-align: right;\n",
       "    }\n",
       "</style>\n",
       "<table border=\"1\" class=\"dataframe\">\n",
       "  <thead>\n",
       "    <tr style=\"text-align: right;\">\n",
       "      <th></th>\n",
       "      <th>s_feat_0</th>\n",
       "      <th>s_feat_1</th>\n",
       "    </tr>\n",
       "    <tr>\n",
       "      <th>sample_idx</th>\n",
       "      <th></th>\n",
       "      <th></th>\n",
       "    </tr>\n",
       "  </thead>\n",
       "  <tbody>\n",
       "    <tr>\n",
       "      <th>sample_0</th>\n",
       "      <td>100</td>\n",
       "      <td>-1.1</td>\n",
       "    </tr>\n",
       "    <tr>\n",
       "      <th>sample_1</th>\n",
       "      <td>200</td>\n",
       "      <td>NaN</td>\n",
       "    </tr>\n",
       "    <tr>\n",
       "      <th>sample_2</th>\n",
       "      <td>300</td>\n",
       "      <td>-1.3</td>\n",
       "    </tr>\n",
       "  </tbody>\n",
       "</table>\n",
       "</div>"
      ],
      "text/plain": [
       "            s_feat_0  s_feat_1\n",
       "sample_idx                    \n",
       "sample_0         100      -1.1\n",
       "sample_1         200       NaN\n",
       "sample_2         300      -1.3"
      ]
     },
     "metadata": {},
     "output_type": "display_data"
    },
    {
     "data": {
      "text/plain": [
       "array([[100. ,  -1.1],\n",
       "       [200. ,   nan],\n",
       "       [300. ,  -1.3]])"
      ]
     },
     "metadata": {},
     "output_type": "display_data"
    }
   ],
   "source": [
    "# Return the static data as a dataframe, numpy array:\n",
    "\n",
    "display(static.dataframe())\n",
    "display(static.numpy())"
   ]
  },
  {
   "cell_type": "code",
   "execution_count": 18,
   "metadata": {},
   "outputs": [
    {
     "data": {
      "text/html": [
       "<div>\n",
       "<style scoped>\n",
       "    .dataframe tbody tr th:only-of-type {\n",
       "        vertical-align: middle;\n",
       "    }\n",
       "\n",
       "    .dataframe tbody tr th {\n",
       "        vertical-align: top;\n",
       "    }\n",
       "\n",
       "    .dataframe thead th {\n",
       "        text-align: right;\n",
       "    }\n",
       "</style>\n",
       "<table border=\"1\" class=\"dataframe\">\n",
       "  <thead>\n",
       "    <tr style=\"text-align: right;\">\n",
       "      <th></th>\n",
       "      <th>e_feat_0</th>\n",
       "      <th>e_feat_1</th>\n",
       "    </tr>\n",
       "    <tr>\n",
       "      <th>sample_idx</th>\n",
       "      <th></th>\n",
       "      <th></th>\n",
       "    </tr>\n",
       "  </thead>\n",
       "  <tbody>\n",
       "    <tr>\n",
       "      <th>sample_0</th>\n",
       "      <td>(10, True)</td>\n",
       "      <td>(10, False)</td>\n",
       "    </tr>\n",
       "    <tr>\n",
       "      <th>sample_1</th>\n",
       "      <td>(12, False)</td>\n",
       "      <td>(10, False)</td>\n",
       "    </tr>\n",
       "    <tr>\n",
       "      <th>sample_2</th>\n",
       "      <td>(13, True)</td>\n",
       "      <td>(11, True)</td>\n",
       "    </tr>\n",
       "  </tbody>\n",
       "</table>\n",
       "</div>"
      ],
      "text/plain": [
       "               e_feat_0     e_feat_1\n",
       "sample_idx                          \n",
       "sample_0     (10, True)  (10, False)\n",
       "sample_1    (12, False)  (10, False)\n",
       "sample_2     (13, True)   (11, True)"
      ]
     },
     "metadata": {},
     "output_type": "display_data"
    },
    {
     "data": {
      "text/plain": [
       "array([[(10, True), (10, False)],\n",
       "       [(12, False), (10, False)],\n",
       "       [(13, True), (11, True)]], dtype=object)"
      ]
     },
     "metadata": {},
     "output_type": "display_data"
    }
   ],
   "source": [
    "# Return the event data as a dataframe, numpy array:\n",
    "\n",
    "display(event.dataframe())\n",
    "display(event.numpy())"
   ]
  },
  {
   "attachments": {},
   "cell_type": "markdown",
   "metadata": {},
   "source": [
    "## 🎉 Congratulations!\n",
    "\n",
    "Congratulations on completing this notebook tutorial! If you enjoyed this and would like to join the movement towards *Machine learning and AI for Medicine*, you can do so in the following ways!\n",
    "\n",
    "\n",
    "\n",
    "### ⭐ Star [TemporAI](https://github.com/vanderschaarlab/temporai) on GitHub\n",
    "\n",
    "- The easiest way to help our community is by just starring the repos! This helps raise awareness of the tools we're building.\n",
    "\n",
    "\n",
    "\n",
    "### Check out other projects from [vanderschaarlab](https://github.com/vanderschaarlab)\n",
    "- 📝 [HyperImpute](https://github.com/vanderschaarlab/hyperimpute)\n",
    "- 📊 [AutoPrognosis](https://github.com/vanderschaarlab/autoprognosis)\n",
    "- 🤖 [SynthCity](https://github.com/vanderschaarlab/synthcity)\n",
    " "
   ]
  }
 ],
 "metadata": {
  "kernelspec": {
   "display_name": "RE_py38_temporai",
   "language": "python",
   "name": "python3"
  },
  "language_info": {
   "codemirror_mode": {
    "name": "ipython",
    "version": 3
   },
   "file_extension": ".py",
   "mimetype": "text/x-python",
   "name": "python",
   "nbconvert_exporter": "python",
   "pygments_lexer": "ipython3",
   "version": "3.8.18"
  },
  "orig_nbformat": 4
 },
 "nbformat": 4,
 "nbformat_minor": 2
}

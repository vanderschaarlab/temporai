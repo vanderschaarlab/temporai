{
 "cells": [
  {
   "cell_type": "markdown",
   "id": "",
   "metadata": {},
   "source": [
    "[![Test In Colab](https://colab.research.google.com/assets/colab-badge.svg)](https://colab.research.google.com/github/vanderschaarlab/temporai/blob/main/tutorials/extending/tutorial03_custom_datasource.ipynb)"
   ]
  },
  {
   "attachments": {},
   "cell_type": "markdown",
   "metadata": {},
   "source": [
    "# Extending TemporAI Tutorial 03: Writing a Custom Data Source Plugin\n",
    "\n",
    "This tutorial shows how to extend TemporAI by wring a custom *data source* plugin."
   ]
  },
  {
   "attachments": {},
   "cell_type": "markdown",
   "metadata": {},
   "source": [
    "**Note**\n",
    "\n",
    "See also \"Writing a Custom `Plugin` 101\" section in \"Writing a Custom Method Plugin\" tutorial."
   ]
  },
  {
   "attachments": {},
   "cell_type": "markdown",
   "metadata": {},
   "source": [
    "### Inherit from the appropriate **base class** for the category of the data source plugin you are writing.\n",
    "\n",
    "You need to find which category of data source plugin you are writing.\n",
    "\n",
    "You can view all the different data source plugin categories as so:"
   ]
  },
  {
   "cell_type": "code",
   "execution_count": null,
   "metadata": {},
   "outputs": [
    {
     "data": {
      "text/plain": [
       "['prediction.one_off',\n",
       " 'prediction.temporal',\n",
       " 'time_to_event',\n",
       " 'treatments.one_off',\n",
       " 'treatments.temporal']"
      ]
     },
     "execution_count": null,
     "metadata": {},
     "output_type": "execute_result"
    }
   ],
   "source": [
    "from tempor import plugin_loader\n",
    "\n",
    "plugin_categories = plugin_loader.list_categories(plugin_type=\"datasource\")\n",
    "\n",
    "list(plugin_categories.keys())"
   ]
  },
  {
   "attachments": {},
   "cell_type": "markdown",
   "metadata": {},
   "source": [
    "Remember you can also see the existing method plugins and how they correspond to different categories, as follows:"
   ]
  },
  {
   "cell_type": "code",
   "execution_count": null,
   "metadata": {},
   "outputs": [
    {
     "data": {
      "text/html": [
       "<pre style=\"white-space:pre;overflow-x:auto;line-height:normal;font-family:Menlo,'DejaVu Sans Mono',consolas,'Courier New',monospace\"><span style=\"font-weight: bold\">{</span>\n",
       "<span style=\"color: #7fbf7f; text-decoration-color: #7fbf7f\">│   </span><span style=\"color: #008000; text-decoration-color: #008000\">'prediction'</span>: <span style=\"font-weight: bold\">{</span><span style=\"color: #008000; text-decoration-color: #008000\">'one_off'</span>: <span style=\"font-weight: bold\">[</span><span style=\"color: #008000; text-decoration-color: #008000\">'sine'</span>, <span style=\"color: #008000; text-decoration-color: #008000\">'google_stocks'</span><span style=\"font-weight: bold\">]</span>, <span style=\"color: #008000; text-decoration-color: #008000\">'temporal'</span>: <span style=\"font-weight: bold\">[</span><span style=\"color: #008000; text-decoration-color: #008000\">'uci_diabetes'</span>, <span style=\"color: #008000; text-decoration-color: #008000\">'dummy_prediction'</span><span style=\"font-weight: bold\">]}</span>,\n",
       "<span style=\"color: #7fbf7f; text-decoration-color: #7fbf7f\">│   </span><span style=\"color: #008000; text-decoration-color: #008000\">'time_to_event'</span>: <span style=\"font-weight: bold\">[</span><span style=\"color: #008000; text-decoration-color: #008000\">'pbc'</span><span style=\"font-weight: bold\">]</span>,\n",
       "<span style=\"color: #7fbf7f; text-decoration-color: #7fbf7f\">│   </span><span style=\"color: #008000; text-decoration-color: #008000\">'treatments'</span>: <span style=\"font-weight: bold\">{</span><span style=\"color: #008000; text-decoration-color: #008000\">'one_off'</span>: <span style=\"font-weight: bold\">[</span><span style=\"color: #008000; text-decoration-color: #008000\">'pkpd'</span><span style=\"font-weight: bold\">]</span>, <span style=\"color: #008000; text-decoration-color: #008000\">'temporal'</span>: <span style=\"font-weight: bold\">[</span><span style=\"color: #008000; text-decoration-color: #008000\">'dummy_treatments'</span><span style=\"font-weight: bold\">]}</span>\n",
       "<span style=\"font-weight: bold\">}</span>\n",
       "</pre>\n"
      ],
      "text/plain": [
       "\u001b[1m{\u001b[0m\n",
       "\u001b[2;32m│   \u001b[0m\u001b[32m'prediction'\u001b[0m: \u001b[1m{\u001b[0m\u001b[32m'one_off'\u001b[0m: \u001b[1m[\u001b[0m\u001b[32m'sine'\u001b[0m, \u001b[32m'google_stocks'\u001b[0m\u001b[1m]\u001b[0m, \u001b[32m'temporal'\u001b[0m: \u001b[1m[\u001b[0m\u001b[32m'uci_diabetes'\u001b[0m, \u001b[32m'dummy_prediction'\u001b[0m\u001b[1m]\u001b[0m\u001b[1m}\u001b[0m,\n",
       "\u001b[2;32m│   \u001b[0m\u001b[32m'time_to_event'\u001b[0m: \u001b[1m[\u001b[0m\u001b[32m'pbc'\u001b[0m\u001b[1m]\u001b[0m,\n",
       "\u001b[2;32m│   \u001b[0m\u001b[32m'treatments'\u001b[0m: \u001b[1m{\u001b[0m\u001b[32m'one_off'\u001b[0m: \u001b[1m[\u001b[0m\u001b[32m'pkpd'\u001b[0m\u001b[1m]\u001b[0m, \u001b[32m'temporal'\u001b[0m: \u001b[1m[\u001b[0m\u001b[32m'dummy_treatments'\u001b[0m\u001b[1m]\u001b[0m\u001b[1m}\u001b[0m\n",
       "\u001b[1m}\u001b[0m\n"
      ]
     },
     "metadata": {},
     "output_type": "display_data"
    }
   ],
   "source": [
    "all_plugins = plugin_loader.list(plugin_type=\"datasource\")\n",
    "\n",
    "from rich.pretty import pprint  # For prettifying the print output only.\n",
    "\n",
    "pprint(all_plugins, indent_guides=True)"
   ]
  },
  {
   "attachments": {},
   "cell_type": "markdown",
   "metadata": {},
   "source": [
    "Let's say you would like to write a plugin of category `\"prediction.one_off\"`.\n",
    "\n",
    "You can find which base class you need to inherit from as follows."
   ]
  },
  {
   "cell_type": "code",
   "execution_count": null,
   "metadata": {},
   "outputs": [
    {
     "name": "stdout",
     "output_type": "stream",
     "text": [
      "Base classes for all categories:\n"
     ]
    },
    {
     "data": {
      "text/html": [
       "<pre style=\"white-space:pre;overflow-x:auto;line-height:normal;font-family:Menlo,'DejaVu Sans Mono',consolas,'Courier New',monospace\"><span style=\"font-weight: bold\">{</span>\n",
       "    <span style=\"color: #008000; text-decoration-color: #008000\">'prediction.one_off'</span>: <span style=\"font-weight: bold\">&lt;</span><span style=\"color: #ff00ff; text-decoration-color: #ff00ff; font-weight: bold\">class</span><span style=\"color: #000000; text-decoration-color: #000000\"> </span><span style=\"color: #008000; text-decoration-color: #008000\">'tempor.datasources.datasource.OneOffPredictionDataSource'</span><span style=\"color: #000000; text-decoration-color: #000000\">&gt;,</span>\n",
       "<span style=\"color: #000000; text-decoration-color: #000000\">    </span><span style=\"color: #008000; text-decoration-color: #008000\">'prediction.temporal'</span><span style=\"color: #000000; text-decoration-color: #000000\">: &lt;class </span><span style=\"color: #008000; text-decoration-color: #008000\">'tempor.datasources.datasource.TemporalPredictionDataSource'</span><span style=\"color: #000000; text-decoration-color: #000000\">&gt;,</span>\n",
       "<span style=\"color: #000000; text-decoration-color: #000000\">    </span><span style=\"color: #008000; text-decoration-color: #008000\">'time_to_event'</span><span style=\"color: #000000; text-decoration-color: #000000\">: &lt;class </span><span style=\"color: #008000; text-decoration-color: #008000\">'tempor.datasources.datasource.TimeToEventAnalysisDataSource'</span><span style=\"color: #000000; text-decoration-color: #000000\">&gt;,</span>\n",
       "<span style=\"color: #000000; text-decoration-color: #000000\">    </span><span style=\"color: #008000; text-decoration-color: #008000\">'treatments.one_off'</span><span style=\"color: #000000; text-decoration-color: #000000\">: &lt;class </span><span style=\"color: #008000; text-decoration-color: #008000\">'tempor.datasources.datasource.OneOffTreatmentEffectsDataSource'</span><span style=\"color: #000000; text-decoration-color: #000000\">&gt;,</span>\n",
       "<span style=\"color: #000000; text-decoration-color: #000000\">    </span><span style=\"color: #008000; text-decoration-color: #008000\">'treatments.temporal'</span><span style=\"color: #000000; text-decoration-color: #000000\">: &lt;class </span><span style=\"color: #008000; text-decoration-color: #008000\">'tempor.datasources.datasource.TemporalTreatmentEffectsDataSource'</span><span style=\"font-weight: bold\">&gt;</span>\n",
       "<span style=\"font-weight: bold\">}</span>\n",
       "</pre>\n"
      ],
      "text/plain": [
       "\u001b[1m{\u001b[0m\n",
       "    \u001b[32m'prediction.one_off'\u001b[0m: \u001b[1m<\u001b[0m\u001b[1;95mclass\u001b[0m\u001b[39m \u001b[0m\u001b[32m'tempor.datasources.datasource.OneOffPredictionDataSource'\u001b[0m\u001b[39m>,\u001b[0m\n",
       "\u001b[39m    \u001b[0m\u001b[32m'prediction.temporal'\u001b[0m\u001b[39m: <class \u001b[0m\u001b[32m'tempor.datasources.datasource.TemporalPredictionDataSource'\u001b[0m\u001b[39m>,\u001b[0m\n",
       "\u001b[39m    \u001b[0m\u001b[32m'time_to_event'\u001b[0m\u001b[39m: <class \u001b[0m\u001b[32m'tempor.datasources.datasource.TimeToEventAnalysisDataSource'\u001b[0m\u001b[39m>,\u001b[0m\n",
       "\u001b[39m    \u001b[0m\u001b[32m'treatments.one_off'\u001b[0m\u001b[39m: <class \u001b[0m\u001b[32m'tempor.datasources.datasource.OneOffTreatmentEffectsDataSource'\u001b[0m\u001b[39m>,\u001b[0m\n",
       "\u001b[39m    \u001b[0m\u001b[32m'treatments.temporal'\u001b[0m\u001b[39m: <class \u001b[0m\u001b[32m'tempor.datasources.datasource.TemporalTreatmentEffectsDataSource'\u001b[0m\u001b[1m>\u001b[0m\n",
       "\u001b[1m}\u001b[0m\n"
      ]
     },
     "metadata": {},
     "output_type": "display_data"
    },
    {
     "name": "stdout",
     "output_type": "stream",
     "text": [
      "Base class you need:\n",
      "<class 'tempor.datasources.datasource.OneOffPredictionDataSource'>\n"
     ]
    }
   ],
   "source": [
    "plugin_categories = plugin_loader.list_categories(plugin_type=\"datasource\")\n",
    "\n",
    "print(\"Base classes for all categories:\")\n",
    "pprint(plugin_categories, indent_guides=False)\n",
    "\n",
    "print(\"Base class you need:\")\n",
    "print(plugin_categories[\"prediction.one_off\"])"
   ]
  },
  {
   "attachments": {},
   "cell_type": "markdown",
   "metadata": {},
   "source": [
    "You can then find the class in the TemporAI source code, to see its method signatures etc."
   ]
  },
  {
   "attachments": {},
   "cell_type": "markdown",
   "metadata": {},
   "source": [
    "### Implement the **methods** the plugin needs.\n",
    "\n",
    "`DataSource` plugins require the following methods to be implemented:\n",
    "* `load()` which returns the appropriate `DataSet`.\n",
    "* `dataset_dir()` which returns a string with the subdirectory where any data files will be stored. If no data files, return `None`.\n",
    "* `url()` which returns the data URL if relevant. If not applicable, return `None`.\n",
    "\n",
    "The initializer `__init__()` can take keyword arguments related to initialization of the dataset, e.g. number of samples, random seed, etc.  \n",
    "\n",
    "If you haven't implemented some required method for the plugin, Python will notify you by raising an exception when you\n",
    "attempt to instantiate your plugin (see [Python `abc`](https://docs.python.org/3/library/abc.html)).\n"
   ]
  },
  {
   "attachments": {},
   "cell_type": "markdown",
   "metadata": {},
   "source": [
    "### **Register** the plugin with TemporAI.\n",
    "\n",
    "Registering your plugin with TemporAI is very simple, you need to use the `register_plugin` decorator,\n",
    "as shown in the example below.\n",
    "\n",
    "You will need to specify the `name` of your plugin and its `category` in the decorator.\n",
    "\n",
    "The `plugin_type` needs to be set to `\"datasource\"`.\n",
    "\n",
    "```python\n",
    "from tempor.core.plugins import register_plugin\n",
    "\n",
    "@register_plugin(name=\"my_plugin\", category=\"prediction.one_off\", plugin_type=\"datasource\")\n",
    "class MyPlugin(OneOffPredictionDataSource):\n",
    "    ...\n",
    "```"
   ]
  },
  {
   "attachments": {},
   "cell_type": "markdown",
   "metadata": {},
   "source": [
    "### Example\n",
    "\n",
    "Now putting this together in a minimal example."
   ]
  },
  {
   "cell_type": "code",
   "execution_count": null,
   "metadata": {},
   "outputs": [],
   "source": [
    "import numpy as np\n",
    "\n",
    "from tempor.data.dataset import OneOffPredictionDataset\n",
    "from tempor.core.plugins import register_plugin\n",
    "from tempor.datasources.datasource import OneOffPredictionDataSource\n",
    "\n",
    "\n",
    "@register_plugin(name=\"my_datasource\", category=\"prediction.one_off\", plugin_type=\"datasource\")\n",
    "class MyDataSource(OneOffPredictionDataSource):\n",
    "    def __init__(self, random_seed: int = 123, **kwargs: Any) -> None:\n",
    "        super().__init__(**kwargs)\n",
    "        self.random_seed = random_seed\n",
    "\n",
    "    def url(self):\n",
    "        return None\n",
    "\n",
    "    def dataset_dir(self):\n",
    "        return None\n",
    "\n",
    "    def load(self) -> OneOffPredictionDataset:\n",
    "        np.random.seed(self.random_seed)\n",
    "        return OneOffPredictionDataset(\n",
    "            time_series=np.random.normal(size=(100, 30, 10)),\n",
    "            targets=np.random.normal(size=(100, 1)),\n",
    "        )"
   ]
  },
  {
   "attachments": {},
   "cell_type": "markdown",
   "metadata": {},
   "source": [
    "We now see our plugin in TemporAI:"
   ]
  },
  {
   "cell_type": "code",
   "execution_count": null,
   "metadata": {},
   "outputs": [
    {
     "data": {
      "text/html": [
       "<pre style=\"white-space:pre;overflow-x:auto;line-height:normal;font-family:Menlo,'DejaVu Sans Mono',consolas,'Courier New',monospace\"><span style=\"font-weight: bold\">{</span>\n",
       "<span style=\"color: #7fbf7f; text-decoration-color: #7fbf7f\">│   </span><span style=\"color: #008000; text-decoration-color: #008000\">'prediction'</span>: <span style=\"font-weight: bold\">{</span>\n",
       "<span style=\"color: #7fbf7f; text-decoration-color: #7fbf7f\">│   │   </span><span style=\"color: #008000; text-decoration-color: #008000\">'one_off'</span>: <span style=\"font-weight: bold\">[</span><span style=\"color: #008000; text-decoration-color: #008000\">'sine'</span>, <span style=\"color: #008000; text-decoration-color: #008000\">'google_stocks'</span>, <span style=\"color: #008000; text-decoration-color: #008000\">'my_datasource'</span><span style=\"font-weight: bold\">]</span>,\n",
       "<span style=\"color: #7fbf7f; text-decoration-color: #7fbf7f\">│   │   </span><span style=\"color: #008000; text-decoration-color: #008000\">'temporal'</span>: <span style=\"font-weight: bold\">[</span><span style=\"color: #008000; text-decoration-color: #008000\">'uci_diabetes'</span>, <span style=\"color: #008000; text-decoration-color: #008000\">'dummy_prediction'</span><span style=\"font-weight: bold\">]</span>\n",
       "<span style=\"color: #7fbf7f; text-decoration-color: #7fbf7f\">│   </span><span style=\"font-weight: bold\">}</span>,\n",
       "<span style=\"color: #7fbf7f; text-decoration-color: #7fbf7f\">│   </span><span style=\"color: #008000; text-decoration-color: #008000\">'time_to_event'</span>: <span style=\"font-weight: bold\">[</span><span style=\"color: #008000; text-decoration-color: #008000\">'pbc'</span><span style=\"font-weight: bold\">]</span>,\n",
       "<span style=\"color: #7fbf7f; text-decoration-color: #7fbf7f\">│   </span><span style=\"color: #008000; text-decoration-color: #008000\">'treatments'</span>: <span style=\"font-weight: bold\">{</span><span style=\"color: #008000; text-decoration-color: #008000\">'one_off'</span>: <span style=\"font-weight: bold\">[</span><span style=\"color: #008000; text-decoration-color: #008000\">'pkpd'</span><span style=\"font-weight: bold\">]</span>, <span style=\"color: #008000; text-decoration-color: #008000\">'temporal'</span>: <span style=\"font-weight: bold\">[</span><span style=\"color: #008000; text-decoration-color: #008000\">'dummy_treatments'</span><span style=\"font-weight: bold\">]}</span>\n",
       "<span style=\"font-weight: bold\">}</span>\n",
       "</pre>\n"
      ],
      "text/plain": [
       "\u001b[1m{\u001b[0m\n",
       "\u001b[2;32m│   \u001b[0m\u001b[32m'prediction'\u001b[0m: \u001b[1m{\u001b[0m\n",
       "\u001b[2;32m│   │   \u001b[0m\u001b[32m'one_off'\u001b[0m: \u001b[1m[\u001b[0m\u001b[32m'sine'\u001b[0m, \u001b[32m'google_stocks'\u001b[0m, \u001b[32m'my_datasource'\u001b[0m\u001b[1m]\u001b[0m,\n",
       "\u001b[2;32m│   │   \u001b[0m\u001b[32m'temporal'\u001b[0m: \u001b[1m[\u001b[0m\u001b[32m'uci_diabetes'\u001b[0m, \u001b[32m'dummy_prediction'\u001b[0m\u001b[1m]\u001b[0m\n",
       "\u001b[2;32m│   \u001b[0m\u001b[1m}\u001b[0m,\n",
       "\u001b[2;32m│   \u001b[0m\u001b[32m'time_to_event'\u001b[0m: \u001b[1m[\u001b[0m\u001b[32m'pbc'\u001b[0m\u001b[1m]\u001b[0m,\n",
       "\u001b[2;32m│   \u001b[0m\u001b[32m'treatments'\u001b[0m: \u001b[1m{\u001b[0m\u001b[32m'one_off'\u001b[0m: \u001b[1m[\u001b[0m\u001b[32m'pkpd'\u001b[0m\u001b[1m]\u001b[0m, \u001b[32m'temporal'\u001b[0m: \u001b[1m[\u001b[0m\u001b[32m'dummy_treatments'\u001b[0m\u001b[1m]\u001b[0m\u001b[1m}\u001b[0m\n",
       "\u001b[1m}\u001b[0m\n"
      ]
     },
     "metadata": {},
     "output_type": "display_data"
    },
    {
     "name": "stdout",
     "output_type": "stream",
     "text": [
      "`my_datasource` plugin found in the category 'prediction.one_off': True\n"
     ]
    }
   ],
   "source": [
    "from tempor import plugin_loader\n",
    "\n",
    "all_plugins = plugin_loader.list(plugin_type=\"datasource\")\n",
    "\n",
    "pprint(all_plugins, indent_guides=True)\n",
    "\n",
    "my_datasource_found = \"my_datasource\" in all_plugins[\"prediction\"][\"one_off\"]\n",
    "print(f\"`my_datasource` plugin found in the category 'prediction.one_off': {my_datasource_found}\")\n",
    "assert my_datasource_found"
   ]
  },
  {
   "attachments": {},
   "cell_type": "markdown",
   "metadata": {},
   "source": [
    "The plugin can be used as normal."
   ]
  },
  {
   "cell_type": "code",
   "execution_count": null,
   "metadata": {},
   "outputs": [
    {
     "name": "stdout",
     "output_type": "stream",
     "text": [
      "<__main__.MyDataSource object at 0x7fa2cf032850>\n"
     ]
    }
   ],
   "source": [
    "# Get the plugin.\n",
    "\n",
    "my_datasource = plugin_loader.get(\"prediction.one_off.my_datasource\", plugin_type=\"datasource\")\n",
    "\n",
    "print(my_datasource)"
   ]
  },
  {
   "cell_type": "code",
   "execution_count": null,
   "metadata": {},
   "outputs": [
    {
     "data": {
      "text/plain": [
       "OneOffPredictionDataset(\n",
       "    time_series=TimeSeriesSamples([100, *, 10]),\n",
       "    predictive=OneOffPredictionTaskData(targets=StaticSamples([100, 1]))\n",
       ")"
      ]
     },
     "execution_count": null,
     "metadata": {},
     "output_type": "execute_result"
    }
   ],
   "source": [
    "# Load data.\n",
    "\n",
    "dataset = my_datasource.load()\n",
    "\n",
    "dataset"
   ]
  },
  {
   "cell_type": "code",
   "execution_count": null,
   "metadata": {},
   "outputs": [
    {
     "data": {
      "text/html": [
       "<p><span style=\"font-family: monospace;\">TimeSeriesSamples</span> with data:</p><div>\n",
       "<style scoped>\n",
       "    .dataframe tbody tr th:only-of-type {\n",
       "        vertical-align: middle;\n",
       "    }\n",
       "\n",
       "    .dataframe tbody tr th {\n",
       "        vertical-align: top;\n",
       "    }\n",
       "\n",
       "    .dataframe thead th {\n",
       "        text-align: right;\n",
       "    }\n",
       "</style>\n",
       "<table border=\"1\" class=\"dataframe\">\n",
       "  <thead>\n",
       "    <tr style=\"text-align: right;\">\n",
       "      <th></th>\n",
       "      <th></th>\n",
       "      <th>feat_0</th>\n",
       "      <th>feat_1</th>\n",
       "      <th>feat_2</th>\n",
       "      <th>feat_3</th>\n",
       "      <th>feat_4</th>\n",
       "      <th>feat_5</th>\n",
       "      <th>feat_6</th>\n",
       "      <th>feat_7</th>\n",
       "      <th>feat_8</th>\n",
       "      <th>feat_9</th>\n",
       "    </tr>\n",
       "    <tr>\n",
       "      <th>sample_idx</th>\n",
       "      <th>time_idx</th>\n",
       "      <th></th>\n",
       "      <th></th>\n",
       "      <th></th>\n",
       "      <th></th>\n",
       "      <th></th>\n",
       "      <th></th>\n",
       "      <th></th>\n",
       "      <th></th>\n",
       "      <th></th>\n",
       "      <th></th>\n",
       "    </tr>\n",
       "  </thead>\n",
       "  <tbody>\n",
       "    <tr>\n",
       "      <th rowspan=\"5\" valign=\"top\">0</th>\n",
       "      <th>0</th>\n",
       "      <td>-1.085631</td>\n",
       "      <td>0.997345</td>\n",
       "      <td>0.282978</td>\n",
       "      <td>-1.506295</td>\n",
       "      <td>-0.578600</td>\n",
       "      <td>1.651437</td>\n",
       "      <td>-2.426679</td>\n",
       "      <td>-0.428913</td>\n",
       "      <td>1.265936</td>\n",
       "      <td>-0.866740</td>\n",
       "    </tr>\n",
       "    <tr>\n",
       "      <th>1</th>\n",
       "      <td>-0.678886</td>\n",
       "      <td>-0.094709</td>\n",
       "      <td>1.491390</td>\n",
       "      <td>-0.638902</td>\n",
       "      <td>-0.443982</td>\n",
       "      <td>-0.434351</td>\n",
       "      <td>2.205930</td>\n",
       "      <td>2.186786</td>\n",
       "      <td>1.004054</td>\n",
       "      <td>0.386186</td>\n",
       "    </tr>\n",
       "    <tr>\n",
       "      <th>2</th>\n",
       "      <td>0.737369</td>\n",
       "      <td>1.490732</td>\n",
       "      <td>-0.935834</td>\n",
       "      <td>1.175829</td>\n",
       "      <td>-1.253881</td>\n",
       "      <td>-0.637752</td>\n",
       "      <td>0.907105</td>\n",
       "      <td>-1.428681</td>\n",
       "      <td>-0.140069</td>\n",
       "      <td>-0.861755</td>\n",
       "    </tr>\n",
       "    <tr>\n",
       "      <th>3</th>\n",
       "      <td>-0.255619</td>\n",
       "      <td>-2.798589</td>\n",
       "      <td>-1.771533</td>\n",
       "      <td>-0.699877</td>\n",
       "      <td>0.927462</td>\n",
       "      <td>-0.173636</td>\n",
       "      <td>0.002846</td>\n",
       "      <td>0.688223</td>\n",
       "      <td>-0.879536</td>\n",
       "      <td>0.283627</td>\n",
       "    </tr>\n",
       "    <tr>\n",
       "      <th>4</th>\n",
       "      <td>-0.805367</td>\n",
       "      <td>-1.727669</td>\n",
       "      <td>-0.390900</td>\n",
       "      <td>0.573806</td>\n",
       "      <td>0.338589</td>\n",
       "      <td>-0.011830</td>\n",
       "      <td>2.392365</td>\n",
       "      <td>0.412912</td>\n",
       "      <td>0.978736</td>\n",
       "      <td>2.238143</td>\n",
       "    </tr>\n",
       "    <tr>\n",
       "      <th>...</th>\n",
       "      <th>...</th>\n",
       "      <td>...</td>\n",
       "      <td>...</td>\n",
       "      <td>...</td>\n",
       "      <td>...</td>\n",
       "      <td>...</td>\n",
       "      <td>...</td>\n",
       "      <td>...</td>\n",
       "      <td>...</td>\n",
       "      <td>...</td>\n",
       "      <td>...</td>\n",
       "    </tr>\n",
       "    <tr>\n",
       "      <th rowspan=\"5\" valign=\"top\">99</th>\n",
       "      <th>25</th>\n",
       "      <td>-0.567276</td>\n",
       "      <td>-1.011354</td>\n",
       "      <td>-0.263128</td>\n",
       "      <td>0.281661</td>\n",
       "      <td>0.850365</td>\n",
       "      <td>0.675597</td>\n",
       "      <td>0.518956</td>\n",
       "      <td>1.458113</td>\n",
       "      <td>0.514021</td>\n",
       "      <td>-0.845099</td>\n",
       "    </tr>\n",
       "    <tr>\n",
       "      <th>26</th>\n",
       "      <td>-0.074948</td>\n",
       "      <td>2.889178</td>\n",
       "      <td>-0.055376</td>\n",
       "      <td>-1.284538</td>\n",
       "      <td>-0.215400</td>\n",
       "      <td>-0.002616</td>\n",
       "      <td>-0.406990</td>\n",
       "      <td>-0.089739</td>\n",
       "      <td>0.264811</td>\n",
       "      <td>1.060700</td>\n",
       "    </tr>\n",
       "    <tr>\n",
       "      <th>27</th>\n",
       "      <td>0.167216</td>\n",
       "      <td>-0.226127</td>\n",
       "      <td>1.517813</td>\n",
       "      <td>2.083333</td>\n",
       "      <td>-1.053875</td>\n",
       "      <td>-0.212461</td>\n",
       "      <td>1.006044</td>\n",
       "      <td>-0.253001</td>\n",
       "      <td>0.298598</td>\n",
       "      <td>-1.256375</td>\n",
       "    </tr>\n",
       "    <tr>\n",
       "      <th>28</th>\n",
       "      <td>1.212878</td>\n",
       "      <td>-1.656727</td>\n",
       "      <td>0.702245</td>\n",
       "      <td>0.047495</td>\n",
       "      <td>-0.736849</td>\n",
       "      <td>-0.050498</td>\n",
       "      <td>0.285193</td>\n",
       "      <td>0.735459</td>\n",
       "      <td>-0.384255</td>\n",
       "      <td>-0.262967</td>\n",
       "    </tr>\n",
       "    <tr>\n",
       "      <th>29</th>\n",
       "      <td>0.511946</td>\n",
       "      <td>0.672145</td>\n",
       "      <td>0.709544</td>\n",
       "      <td>-1.208061</td>\n",
       "      <td>-0.158659</td>\n",
       "      <td>-1.428280</td>\n",
       "      <td>0.430501</td>\n",
       "      <td>-1.144726</td>\n",
       "      <td>-0.473682</td>\n",
       "      <td>1.659917</td>\n",
       "    </tr>\n",
       "  </tbody>\n",
       "</table>\n",
       "<p>3000 rows × 10 columns</p>\n",
       "</div>"
      ],
      "text/plain": [
       "TimeSeriesSamples with data:\n",
       "                       feat_0    feat_1    feat_2    feat_3    feat_4  \\\n",
       "sample_idx time_idx                                                     \n",
       "0          0        -1.085631  0.997345  0.282978 -1.506295 -0.578600   \n",
       "           1        -0.678886 -0.094709  1.491390 -0.638902 -0.443982   \n",
       "           2         0.737369  1.490732 -0.935834  1.175829 -1.253881   \n",
       "           3        -0.255619 -2.798589 -1.771533 -0.699877  0.927462   \n",
       "           4        -0.805367 -1.727669 -0.390900  0.573806  0.338589   \n",
       "...                       ...       ...       ...       ...       ...   \n",
       "99         25       -0.567276 -1.011354 -0.263128  0.281661  0.850365   \n",
       "           26       -0.074948  2.889178 -0.055376 -1.284538 -0.215400   \n",
       "           27        0.167216 -0.226127  1.517813  2.083333 -1.053875   \n",
       "           28        1.212878 -1.656727  0.702245  0.047495 -0.736849   \n",
       "           29        0.511946  0.672145  0.709544 -1.208061 -0.158659   \n",
       "\n",
       "                       feat_5    feat_6    feat_7    feat_8    feat_9  \n",
       "sample_idx time_idx                                                    \n",
       "0          0         1.651437 -2.426679 -0.428913  1.265936 -0.866740  \n",
       "           1        -0.434351  2.205930  2.186786  1.004054  0.386186  \n",
       "           2        -0.637752  0.907105 -1.428681 -0.140069 -0.861755  \n",
       "           3        -0.173636  0.002846  0.688223 -0.879536  0.283627  \n",
       "           4        -0.011830  2.392365  0.412912  0.978736  2.238143  \n",
       "...                       ...       ...       ...       ...       ...  \n",
       "99         25        0.675597  0.518956  1.458113  0.514021 -0.845099  \n",
       "           26       -0.002616 -0.406990 -0.089739  0.264811  1.060700  \n",
       "           27       -0.212461  1.006044 -0.253001  0.298598 -1.256375  \n",
       "           28       -0.050498  0.285193  0.735459 -0.384255 -0.262967  \n",
       "           29       -1.428280  0.430501 -1.144726 -0.473682  1.659917  \n",
       "\n",
       "[3000 rows x 10 columns]"
      ]
     },
     "execution_count": null,
     "metadata": {},
     "output_type": "execute_result"
    }
   ],
   "source": [
    "# Preview covariates.\n",
    "\n",
    "dataset.time_series"
   ]
  },
  {
   "cell_type": "code",
   "execution_count": null,
   "metadata": {},
   "outputs": [
    {
     "data": {
      "text/html": [
       "<p><span style=\"font-family: monospace;\">StaticSamples</span> with data:</p><div>\n",
       "<style scoped>\n",
       "    .dataframe tbody tr th:only-of-type {\n",
       "        vertical-align: middle;\n",
       "    }\n",
       "\n",
       "    .dataframe tbody tr th {\n",
       "        vertical-align: top;\n",
       "    }\n",
       "\n",
       "    .dataframe thead th {\n",
       "        text-align: right;\n",
       "    }\n",
       "</style>\n",
       "<table border=\"1\" class=\"dataframe\">\n",
       "  <thead>\n",
       "    <tr style=\"text-align: right;\">\n",
       "      <th></th>\n",
       "      <th>feat_0</th>\n",
       "    </tr>\n",
       "    <tr>\n",
       "      <th>sample_idx</th>\n",
       "      <th></th>\n",
       "    </tr>\n",
       "  </thead>\n",
       "  <tbody>\n",
       "    <tr>\n",
       "      <th>0</th>\n",
       "      <td>-1.054170</td>\n",
       "    </tr>\n",
       "    <tr>\n",
       "      <th>1</th>\n",
       "      <td>-0.783011</td>\n",
       "    </tr>\n",
       "    <tr>\n",
       "      <th>2</th>\n",
       "      <td>1.827901</td>\n",
       "    </tr>\n",
       "    <tr>\n",
       "      <th>3</th>\n",
       "      <td>1.746807</td>\n",
       "    </tr>\n",
       "    <tr>\n",
       "      <th>4</th>\n",
       "      <td>1.328258</td>\n",
       "    </tr>\n",
       "    <tr>\n",
       "      <th>...</th>\n",
       "      <td>...</td>\n",
       "    </tr>\n",
       "    <tr>\n",
       "      <th>95</th>\n",
       "      <td>-0.766137</td>\n",
       "    </tr>\n",
       "    <tr>\n",
       "      <th>96</th>\n",
       "      <td>1.112182</td>\n",
       "    </tr>\n",
       "    <tr>\n",
       "      <th>97</th>\n",
       "      <td>0.076831</td>\n",
       "    </tr>\n",
       "    <tr>\n",
       "      <th>98</th>\n",
       "      <td>-1.566442</td>\n",
       "    </tr>\n",
       "    <tr>\n",
       "      <th>99</th>\n",
       "      <td>-1.267637</td>\n",
       "    </tr>\n",
       "  </tbody>\n",
       "</table>\n",
       "<p>100 rows × 1 columns</p>\n",
       "</div>"
      ],
      "text/plain": [
       "StaticSamples with data:\n",
       "              feat_0\n",
       "sample_idx          \n",
       "0          -1.054170\n",
       "1          -0.783011\n",
       "2           1.827901\n",
       "3           1.746807\n",
       "4           1.328258\n",
       "...              ...\n",
       "95         -0.766137\n",
       "96          1.112182\n",
       "97          0.076831\n",
       "98         -1.566442\n",
       "99         -1.267637\n",
       "\n",
       "[100 rows x 1 columns]"
      ]
     },
     "execution_count": null,
     "metadata": {},
     "output_type": "execute_result"
    }
   ],
   "source": [
    "# Preview targets.\n",
    "\n",
    "dataset.predictive.targets"
   ]
  }
 ],
 "metadata": {
  "kernelspec": {
   "display_name": "RE_py38_temporai",
   "language": "python",
   "name": "python3"
  },
  "language_info": {
   "codemirror_mode": {
    "name": "ipython",
    "version": 3
   },
   "file_extension": ".py",
   "mimetype": "text/x-python",
   "name": "python",
   "nbconvert_exporter": "python",
   "pygments_lexer": "ipython3",
   "version": "3.8.18"
  }
 },
 "nbformat": 4,
 "nbformat_minor": 2
}

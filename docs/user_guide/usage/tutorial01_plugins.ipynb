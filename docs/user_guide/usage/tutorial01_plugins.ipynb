{
 "cells": [
  {
   "cell_type": "markdown",
   "id": "",
   "metadata": {},
   "source": [
    "[![Test In Colab](https://colab.research.google.com/assets/colab-badge.svg)](https://colab.research.google.com/github/vanderschaarlab/temporai/blob/main/tutorials/usage/tutorial01_plugins.ipynb)"
   ]
  },
  {
   "attachments": {},
   "cell_type": "markdown",
   "metadata": {},
   "source": [
    "# User Guide Tutorial 01: Plugins\n",
    "\n",
    "This tutorial shows how to load TemporAI estimators (a.k.a. models), which are `Plugin`s."
   ]
  },
  {
   "attachments": {},
   "cell_type": "markdown",
   "metadata": {},
   "source": [
    "## Loading a `Plugin`\n",
    "\n",
    "All estimators (a.k.a. models) in TemporAI are implemented as `Plugin`s, for ease of extending the library.\n",
    "\n",
    "Each `Plugin` has two plugin-specific attributes: its `name` and `category`.\n",
    "\n",
    "You can load a plugin in two ways:\n",
    "* From python module (file),\n",
    "* From API.\n",
    "\n",
    "From its python module (file):"
   ]
  },
  {
   "cell_type": "code",
   "execution_count": 2,
   "metadata": {},
   "outputs": [
    {
     "name": "stdout",
     "output_type": "stream",
     "text": [
      "Plugin class:\n",
      "<class 'tempor.plugins.prediction.one_off.classification.plugin_nn_classifier.NeuralNetClassifier'>\n",
      "\n",
      "Plugin instance:\n",
      "NeuralNetClassifier(\n",
      "    name='nn_classifier',\n",
      "    category='prediction.one_off.classification',\n",
      "    params={\n",
      "        'n_static_units_hidden': 100,\n",
      "        'n_static_layers_hidden': 2,\n",
      "        'n_temporal_units_hidden': 102,\n",
      "        'n_temporal_layers_hidden': 2,\n",
      "        'n_iter': 100,\n",
      "        'mode': 'RNN',\n",
      "        'n_iter_print': 10,\n",
      "        'batch_size': 100,\n",
      "        'lr': 0.001,\n",
      "        'weight_decay': 0.001,\n",
      "        'window_size': 1,\n",
      "        'device': None,\n",
      "        'dataloader_sampler': None,\n",
      "        'dropout': 0,\n",
      "        'nonlin': 'relu',\n",
      "        'random_state': 0,\n",
      "        'clipping_value': 1,\n",
      "        'patience': 20,\n",
      "        'train_ratio': 0.8\n",
      "    }\n",
      ")\n"
     ]
    }
   ],
   "source": [
    "# Example of loading the prediction.one_off.classification.nn_classifier plugin from the module:\n",
    "\n",
    "from tempor.plugins.prediction.one_off.classification.plugin_nn_classifier import NeuralNetClassifier\n",
    "\n",
    "nn_classifier = NeuralNetClassifier(n_iter=100)\n",
    "\n",
    "print(f\"Plugin class:\\n{NeuralNetClassifier}\\n\")\n",
    "print(f\"Plugin instance:\\n{nn_classifier}\")"
   ]
  },
  {
   "attachments": {},
   "cell_type": "markdown",
   "metadata": {},
   "source": [
    "Or from the plugin API, as below.\n",
    "\n",
    "Note the `tempor.plugins.plugin_loader` object - this allows loading plugins by API."
   ]
  },
  {
   "cell_type": "code",
   "execution_count": 3,
   "metadata": {},
   "outputs": [
    {
     "name": "stdout",
     "output_type": "stream",
     "text": [
      "Plugin class:\n",
      "<class 'tempor.plugins.prediction.one_off.classification.plugin_nn_classifier.NeuralNetClassifier'>\n",
      "\n",
      "Plugin instance:\n",
      "NeuralNetClassifier(\n",
      "    name='nn_classifier',\n",
      "    category='prediction.one_off.classification',\n",
      "    params={\n",
      "        'n_static_units_hidden': 100,\n",
      "        'n_static_layers_hidden': 2,\n",
      "        'n_temporal_units_hidden': 102,\n",
      "        'n_temporal_layers_hidden': 2,\n",
      "        'n_iter': 100,\n",
      "        'mode': 'RNN',\n",
      "        'n_iter_print': 10,\n",
      "        'batch_size': 100,\n",
      "        'lr': 0.001,\n",
      "        'weight_decay': 0.001,\n",
      "        'window_size': 1,\n",
      "        'device': None,\n",
      "        'dataloader_sampler': None,\n",
      "        'dropout': 0,\n",
      "        'nonlin': 'relu',\n",
      "        'random_state': 0,\n",
      "        'clipping_value': 1,\n",
      "        'patience': 20,\n",
      "        'train_ratio': 0.8\n",
      "    }\n",
      ")\n"
     ]
    }
   ],
   "source": [
    "from tempor.plugins import plugin_loader\n",
    "\n",
    "# ^ Import the `plugin_loader`.\n",
    "\n",
    "nn_classifier_cls = plugin_loader.get_class(\"prediction.one_off.classification.nn_classifier\")\n",
    "# ^ Get the plugin class from API by the fully-qualified plugin name.\n",
    "#   The fully-qualified plugin name is \"<PLUGIN CATEGORY>.<PLUGIN NAME>\".\n",
    "\n",
    "nn_classifier = nn_classifier_cls(n_iter=100)\n",
    "\n",
    "print(f\"Plugin class:\\n{nn_classifier_cls}\\n\")\n",
    "print(f\"Plugin instance:\\n{nn_classifier}\")"
   ]
  },
  {
   "attachments": {},
   "cell_type": "markdown",
   "metadata": {},
   "source": [
    "You can also get the plugin instance directly (rather than the class) from the API, as follows: "
   ]
  },
  {
   "attachments": {},
   "cell_type": "markdown",
   "metadata": {},
   "source": [
    "## Listing all available `Plugin`s\n",
    "\n",
    "You can list all `Plugin`s currently available in TemporAI as follows:"
   ]
  },
  {
   "cell_type": "code",
   "execution_count": 4,
   "metadata": {},
   "outputs": [
    {
     "data": {
      "text/html": [
       "<pre style=\"white-space:pre;overflow-x:auto;line-height:normal;font-family:Menlo,'DejaVu Sans Mono',consolas,'Courier New',monospace\"><span style=\"font-weight: bold\">{</span>\n",
       "    <span style=\"color: #008000; text-decoration-color: #008000\">'prediction'</span>: <span style=\"font-weight: bold\">{</span>\n",
       "        <span style=\"color: #008000; text-decoration-color: #008000\">'one_off'</span>: <span style=\"font-weight: bold\">{</span>\n",
       "            <span style=\"color: #008000; text-decoration-color: #008000\">'classification'</span>: <span style=\"font-weight: bold\">[</span><span style=\"color: #008000; text-decoration-color: #008000\">'cde_classifier'</span>, <span style=\"color: #008000; text-decoration-color: #008000\">'ode_classifier'</span>, <span style=\"color: #008000; text-decoration-color: #008000\">'nn_classifier'</span>, <span style=\"color: #008000; text-decoration-color: #008000\">'laplace_ode_classifier'</span><span style=\"font-weight: bold\">]</span>,\n",
       "            <span style=\"color: #008000; text-decoration-color: #008000\">'regression'</span>: <span style=\"font-weight: bold\">[</span><span style=\"color: #008000; text-decoration-color: #008000\">'laplace_ode_regressor'</span>, <span style=\"color: #008000; text-decoration-color: #008000\">'nn_regressor'</span>, <span style=\"color: #008000; text-decoration-color: #008000\">'ode_regressor'</span>, <span style=\"color: #008000; text-decoration-color: #008000\">'cde_regressor'</span><span style=\"font-weight: bold\">]</span>\n",
       "        <span style=\"font-weight: bold\">}</span>,\n",
       "        <span style=\"color: #008000; text-decoration-color: #008000\">'temporal'</span>: <span style=\"font-weight: bold\">{</span><span style=\"color: #008000; text-decoration-color: #008000\">'classification'</span>: <span style=\"font-weight: bold\">[</span><span style=\"color: #008000; text-decoration-color: #008000\">'seq2seq_classifier'</span><span style=\"font-weight: bold\">]</span>, <span style=\"color: #008000; text-decoration-color: #008000\">'regression'</span>: <span style=\"font-weight: bold\">[</span><span style=\"color: #008000; text-decoration-color: #008000\">'seq2seq_regressor'</span><span style=\"font-weight: bold\">]}</span>\n",
       "    <span style=\"font-weight: bold\">}</span>,\n",
       "    <span style=\"color: #008000; text-decoration-color: #008000\">'preprocessing'</span>: <span style=\"font-weight: bold\">{</span>\n",
       "        <span style=\"color: #008000; text-decoration-color: #008000\">'encoding'</span>: <span style=\"font-weight: bold\">{</span><span style=\"color: #008000; text-decoration-color: #008000\">'static'</span>: <span style=\"font-weight: bold\">[</span><span style=\"color: #008000; text-decoration-color: #008000\">'static_onehot_encoder'</span><span style=\"font-weight: bold\">]</span>, <span style=\"color: #008000; text-decoration-color: #008000\">'temporal'</span>: <span style=\"font-weight: bold\">[</span><span style=\"color: #008000; text-decoration-color: #008000\">'ts_onehot_encoder'</span><span style=\"font-weight: bold\">]}</span>,\n",
       "        <span style=\"color: #008000; text-decoration-color: #008000\">'imputation'</span>: <span style=\"font-weight: bold\">{</span>\n",
       "            <span style=\"color: #008000; text-decoration-color: #008000\">'static'</span>: <span style=\"font-weight: bold\">[</span><span style=\"color: #008000; text-decoration-color: #008000\">'static_tabular_imputer'</span><span style=\"font-weight: bold\">]</span>,\n",
       "            <span style=\"color: #008000; text-decoration-color: #008000\">'temporal'</span>: <span style=\"font-weight: bold\">[</span><span style=\"color: #008000; text-decoration-color: #008000\">'ffill'</span>, <span style=\"color: #008000; text-decoration-color: #008000\">'ts_tabular_imputer'</span>, <span style=\"color: #008000; text-decoration-color: #008000\">'bfill'</span><span style=\"font-weight: bold\">]</span>\n",
       "        <span style=\"font-weight: bold\">}</span>,\n",
       "        <span style=\"color: #008000; text-decoration-color: #008000\">'nop'</span>: <span style=\"font-weight: bold\">[</span><span style=\"color: #008000; text-decoration-color: #008000\">'nop_transformer'</span><span style=\"font-weight: bold\">]</span>,\n",
       "        <span style=\"color: #008000; text-decoration-color: #008000\">'scaling'</span>: <span style=\"font-weight: bold\">{</span>\n",
       "            <span style=\"color: #008000; text-decoration-color: #008000\">'static'</span>: <span style=\"font-weight: bold\">[</span><span style=\"color: #008000; text-decoration-color: #008000\">'static_minmax_scaler'</span>, <span style=\"color: #008000; text-decoration-color: #008000\">'static_standard_scaler'</span><span style=\"font-weight: bold\">]</span>,\n",
       "            <span style=\"color: #008000; text-decoration-color: #008000\">'temporal'</span>: <span style=\"font-weight: bold\">[</span><span style=\"color: #008000; text-decoration-color: #008000\">'ts_minmax_scaler'</span>, <span style=\"color: #008000; text-decoration-color: #008000\">'ts_standard_scaler'</span><span style=\"font-weight: bold\">]</span>\n",
       "        <span style=\"font-weight: bold\">}</span>\n",
       "    <span style=\"font-weight: bold\">}</span>,\n",
       "    <span style=\"color: #008000; text-decoration-color: #008000\">'time_to_event'</span>: <span style=\"font-weight: bold\">[</span><span style=\"color: #008000; text-decoration-color: #008000\">'ts_coxph'</span>, <span style=\"color: #008000; text-decoration-color: #008000\">'ts_xgb'</span>, <span style=\"color: #008000; text-decoration-color: #008000\">'dynamic_deephit'</span><span style=\"font-weight: bold\">]</span>,\n",
       "    <span style=\"color: #008000; text-decoration-color: #008000\">'treatments'</span>: <span style=\"font-weight: bold\">{</span>\n",
       "        <span style=\"color: #008000; text-decoration-color: #008000\">'one_off'</span>: <span style=\"font-weight: bold\">{</span><span style=\"color: #008000; text-decoration-color: #008000\">'regression'</span>: <span style=\"font-weight: bold\">[</span><span style=\"color: #008000; text-decoration-color: #008000\">'synctwin_regressor'</span><span style=\"font-weight: bold\">]}</span>,\n",
       "        <span style=\"color: #008000; text-decoration-color: #008000\">'temporal'</span>: <span style=\"font-weight: bold\">{</span><span style=\"color: #008000; text-decoration-color: #008000\">'classification'</span>: <span style=\"font-weight: bold\">[</span><span style=\"color: #008000; text-decoration-color: #008000\">'crn_classifier'</span><span style=\"font-weight: bold\">]</span>, <span style=\"color: #008000; text-decoration-color: #008000\">'regression'</span>: <span style=\"font-weight: bold\">[</span><span style=\"color: #008000; text-decoration-color: #008000\">'crn_regressor'</span><span style=\"font-weight: bold\">]}</span>\n",
       "    <span style=\"font-weight: bold\">}</span>\n",
       "<span style=\"font-weight: bold\">}</span>\n",
       "</pre>\n"
      ],
      "text/plain": [
       "\u001b[1m{\u001b[0m\n",
       "    \u001b[32m'prediction'\u001b[0m: \u001b[1m{\u001b[0m\n",
       "        \u001b[32m'one_off'\u001b[0m: \u001b[1m{\u001b[0m\n",
       "            \u001b[32m'classification'\u001b[0m: \u001b[1m[\u001b[0m\u001b[32m'cde_classifier'\u001b[0m, \u001b[32m'ode_classifier'\u001b[0m, \u001b[32m'nn_classifier'\u001b[0m, \u001b[32m'laplace_ode_classifier'\u001b[0m\u001b[1m]\u001b[0m,\n",
       "            \u001b[32m'regression'\u001b[0m: \u001b[1m[\u001b[0m\u001b[32m'laplace_ode_regressor'\u001b[0m, \u001b[32m'nn_regressor'\u001b[0m, \u001b[32m'ode_regressor'\u001b[0m, \u001b[32m'cde_regressor'\u001b[0m\u001b[1m]\u001b[0m\n",
       "        \u001b[1m}\u001b[0m,\n",
       "        \u001b[32m'temporal'\u001b[0m: \u001b[1m{\u001b[0m\u001b[32m'classification'\u001b[0m: \u001b[1m[\u001b[0m\u001b[32m'seq2seq_classifier'\u001b[0m\u001b[1m]\u001b[0m, \u001b[32m'regression'\u001b[0m: \u001b[1m[\u001b[0m\u001b[32m'seq2seq_regressor'\u001b[0m\u001b[1m]\u001b[0m\u001b[1m}\u001b[0m\n",
       "    \u001b[1m}\u001b[0m,\n",
       "    \u001b[32m'preprocessing'\u001b[0m: \u001b[1m{\u001b[0m\n",
       "        \u001b[32m'encoding'\u001b[0m: \u001b[1m{\u001b[0m\u001b[32m'static'\u001b[0m: \u001b[1m[\u001b[0m\u001b[32m'static_onehot_encoder'\u001b[0m\u001b[1m]\u001b[0m, \u001b[32m'temporal'\u001b[0m: \u001b[1m[\u001b[0m\u001b[32m'ts_onehot_encoder'\u001b[0m\u001b[1m]\u001b[0m\u001b[1m}\u001b[0m,\n",
       "        \u001b[32m'imputation'\u001b[0m: \u001b[1m{\u001b[0m\n",
       "            \u001b[32m'static'\u001b[0m: \u001b[1m[\u001b[0m\u001b[32m'static_tabular_imputer'\u001b[0m\u001b[1m]\u001b[0m,\n",
       "            \u001b[32m'temporal'\u001b[0m: \u001b[1m[\u001b[0m\u001b[32m'ffill'\u001b[0m, \u001b[32m'ts_tabular_imputer'\u001b[0m, \u001b[32m'bfill'\u001b[0m\u001b[1m]\u001b[0m\n",
       "        \u001b[1m}\u001b[0m,\n",
       "        \u001b[32m'nop'\u001b[0m: \u001b[1m[\u001b[0m\u001b[32m'nop_transformer'\u001b[0m\u001b[1m]\u001b[0m,\n",
       "        \u001b[32m'scaling'\u001b[0m: \u001b[1m{\u001b[0m\n",
       "            \u001b[32m'static'\u001b[0m: \u001b[1m[\u001b[0m\u001b[32m'static_minmax_scaler'\u001b[0m, \u001b[32m'static_standard_scaler'\u001b[0m\u001b[1m]\u001b[0m,\n",
       "            \u001b[32m'temporal'\u001b[0m: \u001b[1m[\u001b[0m\u001b[32m'ts_minmax_scaler'\u001b[0m, \u001b[32m'ts_standard_scaler'\u001b[0m\u001b[1m]\u001b[0m\n",
       "        \u001b[1m}\u001b[0m\n",
       "    \u001b[1m}\u001b[0m,\n",
       "    \u001b[32m'time_to_event'\u001b[0m: \u001b[1m[\u001b[0m\u001b[32m'ts_coxph'\u001b[0m, \u001b[32m'ts_xgb'\u001b[0m, \u001b[32m'dynamic_deephit'\u001b[0m\u001b[1m]\u001b[0m,\n",
       "    \u001b[32m'treatments'\u001b[0m: \u001b[1m{\u001b[0m\n",
       "        \u001b[32m'one_off'\u001b[0m: \u001b[1m{\u001b[0m\u001b[32m'regression'\u001b[0m: \u001b[1m[\u001b[0m\u001b[32m'synctwin_regressor'\u001b[0m\u001b[1m]\u001b[0m\u001b[1m}\u001b[0m,\n",
       "        \u001b[32m'temporal'\u001b[0m: \u001b[1m{\u001b[0m\u001b[32m'classification'\u001b[0m: \u001b[1m[\u001b[0m\u001b[32m'crn_classifier'\u001b[0m\u001b[1m]\u001b[0m, \u001b[32m'regression'\u001b[0m: \u001b[1m[\u001b[0m\u001b[32m'crn_regressor'\u001b[0m\u001b[1m]\u001b[0m\u001b[1m}\u001b[0m\n",
       "    \u001b[1m}\u001b[0m\n",
       "\u001b[1m}\u001b[0m\n"
      ]
     },
     "metadata": {},
     "output_type": "display_data"
    }
   ],
   "source": [
    "from tempor.plugins import plugin_loader\n",
    "\n",
    "# Use plugin_loader.list():\n",
    "all_plugins = plugin_loader.list()\n",
    "\n",
    "# Displaying using pretty print here for clarity:\n",
    "from rich.pretty import pprint\n",
    "\n",
    "pprint(all_plugins, indent_guides=False)"
   ]
  },
  {
   "attachments": {},
   "cell_type": "markdown",
   "metadata": {},
   "source": [
    "Note that plugin categories are hierarchical (nested).\n",
    "\n",
    "To quickly view the plugin fully qualified name (`fqn`) for all plugins, use `plugin_loader.list_full_names()`.\n",
    "\n",
    "These are the names to use in `plugin_loader.{get,get_class}` calls."
   ]
  },
  {
   "cell_type": "code",
   "execution_count": 5,
   "metadata": {},
   "outputs": [
    {
     "data": {
      "text/plain": [
       "['prediction.one_off.classification.cde_classifier',\n",
       " 'prediction.one_off.classification.ode_classifier',\n",
       " 'prediction.one_off.classification.nn_classifier',\n",
       " 'prediction.one_off.classification.laplace_ode_classifier',\n",
       " 'prediction.one_off.regression.laplace_ode_regressor',\n",
       " 'prediction.one_off.regression.nn_regressor',\n",
       " 'prediction.one_off.regression.ode_regressor',\n",
       " 'prediction.one_off.regression.cde_regressor',\n",
       " 'prediction.temporal.classification.seq2seq_classifier',\n",
       " 'prediction.temporal.regression.seq2seq_regressor',\n",
       " 'preprocessing.encoding.static.static_onehot_encoder',\n",
       " 'preprocessing.encoding.temporal.ts_onehot_encoder',\n",
       " 'preprocessing.imputation.static.static_tabular_imputer',\n",
       " 'preprocessing.imputation.temporal.ffill',\n",
       " 'preprocessing.imputation.temporal.ts_tabular_imputer',\n",
       " 'preprocessing.imputation.temporal.bfill',\n",
       " 'preprocessing.nop.nop_transformer',\n",
       " 'preprocessing.scaling.static.static_minmax_scaler',\n",
       " 'preprocessing.scaling.static.static_standard_scaler',\n",
       " 'preprocessing.scaling.temporal.ts_minmax_scaler',\n",
       " 'preprocessing.scaling.temporal.ts_standard_scaler',\n",
       " 'time_to_event.ts_coxph',\n",
       " 'time_to_event.ts_xgb',\n",
       " 'time_to_event.dynamic_deephit',\n",
       " 'treatments.one_off.regression.synctwin_regressor',\n",
       " 'treatments.temporal.classification.crn_classifier',\n",
       " 'treatments.temporal.regression.crn_regressor']"
      ]
     },
     "execution_count": 5,
     "metadata": {},
     "output_type": "execute_result"
    }
   ],
   "source": [
    "plugin_loader.list_full_names()"
   ]
  },
  {
   "cell_type": "markdown",
   "metadata": {},
   "source": [
    "### A note on `Plugin` types\n",
    "\n",
    "All the `Plugin`s so far have been of the `\"method\"` *plugin type*. This is the default plugin type.\n",
    "\n",
    "TemporAI has other plugin types. You can list plugin types as below."
   ]
  },
  {
   "cell_type": "code",
   "execution_count": 6,
   "metadata": {},
   "outputs": [
    {
     "data": {
      "text/plain": [
       "['method']"
      ]
     },
     "execution_count": 6,
     "metadata": {},
     "output_type": "execute_result"
    }
   ],
   "source": [
    "plugin_loader.list_plugin_types()"
   ]
  },
  {
   "cell_type": "markdown",
   "metadata": {},
   "source": [
    "You can list all plugins across all the different types by passing `plugin_type=\"all\"`."
   ]
  },
  {
   "cell_type": "code",
   "execution_count": 7,
   "metadata": {},
   "outputs": [
    {
     "data": {
      "text/html": [
       "<pre style=\"white-space:pre;overflow-x:auto;line-height:normal;font-family:Menlo,'DejaVu Sans Mono',consolas,'Courier New',monospace\"><span style=\"font-weight: bold\">{</span>\n",
       "    <span style=\"color: #008000; text-decoration-color: #008000\">'method'</span>: <span style=\"font-weight: bold\">{</span>\n",
       "        <span style=\"color: #008000; text-decoration-color: #008000\">'prediction'</span>: <span style=\"font-weight: bold\">{</span>\n",
       "            <span style=\"color: #008000; text-decoration-color: #008000\">'one_off'</span>: <span style=\"font-weight: bold\">{</span>\n",
       "                <span style=\"color: #008000; text-decoration-color: #008000\">'classification'</span>: <span style=\"font-weight: bold\">[</span><span style=\"color: #008000; text-decoration-color: #008000\">'cde_classifier'</span>, <span style=\"color: #008000; text-decoration-color: #008000\">'ode_classifier'</span>, <span style=\"color: #008000; text-decoration-color: #008000\">'nn_classifier'</span>, <span style=\"color: #008000; text-decoration-color: #008000\">'laplace_ode_classifier'</span><span style=\"font-weight: bold\">]</span>,\n",
       "                <span style=\"color: #008000; text-decoration-color: #008000\">'regression'</span>: <span style=\"font-weight: bold\">[</span><span style=\"color: #008000; text-decoration-color: #008000\">'laplace_ode_regressor'</span>, <span style=\"color: #008000; text-decoration-color: #008000\">'nn_regressor'</span>, <span style=\"color: #008000; text-decoration-color: #008000\">'ode_regressor'</span>, <span style=\"color: #008000; text-decoration-color: #008000\">'cde_regressor'</span><span style=\"font-weight: bold\">]</span>\n",
       "            <span style=\"font-weight: bold\">}</span>,\n",
       "            <span style=\"color: #008000; text-decoration-color: #008000\">'temporal'</span>: <span style=\"font-weight: bold\">{</span><span style=\"color: #008000; text-decoration-color: #008000\">'classification'</span>: <span style=\"font-weight: bold\">[</span><span style=\"color: #008000; text-decoration-color: #008000\">'seq2seq_classifier'</span><span style=\"font-weight: bold\">]</span>, <span style=\"color: #008000; text-decoration-color: #008000\">'regression'</span>: <span style=\"font-weight: bold\">[</span><span style=\"color: #008000; text-decoration-color: #008000\">'seq2seq_regressor'</span><span style=\"font-weight: bold\">]}</span>\n",
       "        <span style=\"font-weight: bold\">}</span>,\n",
       "        <span style=\"color: #008000; text-decoration-color: #008000\">'preprocessing'</span>: <span style=\"font-weight: bold\">{</span>\n",
       "            <span style=\"color: #008000; text-decoration-color: #008000\">'encoding'</span>: <span style=\"font-weight: bold\">{</span><span style=\"color: #008000; text-decoration-color: #008000\">'static'</span>: <span style=\"font-weight: bold\">[</span><span style=\"color: #008000; text-decoration-color: #008000\">'static_onehot_encoder'</span><span style=\"font-weight: bold\">]</span>, <span style=\"color: #008000; text-decoration-color: #008000\">'temporal'</span>: <span style=\"font-weight: bold\">[</span><span style=\"color: #008000; text-decoration-color: #008000\">'ts_onehot_encoder'</span><span style=\"font-weight: bold\">]}</span>,\n",
       "            <span style=\"color: #008000; text-decoration-color: #008000\">'imputation'</span>: <span style=\"font-weight: bold\">{</span>\n",
       "                <span style=\"color: #008000; text-decoration-color: #008000\">'static'</span>: <span style=\"font-weight: bold\">[</span><span style=\"color: #008000; text-decoration-color: #008000\">'static_tabular_imputer'</span><span style=\"font-weight: bold\">]</span>,\n",
       "                <span style=\"color: #008000; text-decoration-color: #008000\">'temporal'</span>: <span style=\"font-weight: bold\">[</span><span style=\"color: #008000; text-decoration-color: #008000\">'ffill'</span>, <span style=\"color: #008000; text-decoration-color: #008000\">'ts_tabular_imputer'</span>, <span style=\"color: #008000; text-decoration-color: #008000\">'bfill'</span><span style=\"font-weight: bold\">]</span>\n",
       "            <span style=\"font-weight: bold\">}</span>,\n",
       "            <span style=\"color: #008000; text-decoration-color: #008000\">'nop'</span>: <span style=\"font-weight: bold\">[</span><span style=\"color: #008000; text-decoration-color: #008000\">'nop_transformer'</span><span style=\"font-weight: bold\">]</span>,\n",
       "            <span style=\"color: #008000; text-decoration-color: #008000\">'scaling'</span>: <span style=\"font-weight: bold\">{</span>\n",
       "                <span style=\"color: #008000; text-decoration-color: #008000\">'static'</span>: <span style=\"font-weight: bold\">[</span><span style=\"color: #008000; text-decoration-color: #008000\">'static_minmax_scaler'</span>, <span style=\"color: #008000; text-decoration-color: #008000\">'static_standard_scaler'</span><span style=\"font-weight: bold\">]</span>,\n",
       "                <span style=\"color: #008000; text-decoration-color: #008000\">'temporal'</span>: <span style=\"font-weight: bold\">[</span><span style=\"color: #008000; text-decoration-color: #008000\">'ts_minmax_scaler'</span>, <span style=\"color: #008000; text-decoration-color: #008000\">'ts_standard_scaler'</span><span style=\"font-weight: bold\">]</span>\n",
       "            <span style=\"font-weight: bold\">}</span>\n",
       "        <span style=\"font-weight: bold\">}</span>,\n",
       "        <span style=\"color: #008000; text-decoration-color: #008000\">'time_to_event'</span>: <span style=\"font-weight: bold\">[</span><span style=\"color: #008000; text-decoration-color: #008000\">'ts_coxph'</span>, <span style=\"color: #008000; text-decoration-color: #008000\">'ts_xgb'</span>, <span style=\"color: #008000; text-decoration-color: #008000\">'dynamic_deephit'</span><span style=\"font-weight: bold\">]</span>,\n",
       "        <span style=\"color: #008000; text-decoration-color: #008000\">'treatments'</span>: <span style=\"font-weight: bold\">{</span>\n",
       "            <span style=\"color: #008000; text-decoration-color: #008000\">'one_off'</span>: <span style=\"font-weight: bold\">{</span><span style=\"color: #008000; text-decoration-color: #008000\">'regression'</span>: <span style=\"font-weight: bold\">[</span><span style=\"color: #008000; text-decoration-color: #008000\">'synctwin_regressor'</span><span style=\"font-weight: bold\">]}</span>,\n",
       "            <span style=\"color: #008000; text-decoration-color: #008000\">'temporal'</span>: <span style=\"font-weight: bold\">{</span><span style=\"color: #008000; text-decoration-color: #008000\">'classification'</span>: <span style=\"font-weight: bold\">[</span><span style=\"color: #008000; text-decoration-color: #008000\">'crn_classifier'</span><span style=\"font-weight: bold\">]</span>, <span style=\"color: #008000; text-decoration-color: #008000\">'regression'</span>: <span style=\"font-weight: bold\">[</span><span style=\"color: #008000; text-decoration-color: #008000\">'crn_regressor'</span><span style=\"font-weight: bold\">]}</span>\n",
       "        <span style=\"font-weight: bold\">}</span>\n",
       "    <span style=\"font-weight: bold\">}</span>\n",
       "<span style=\"font-weight: bold\">}</span>\n",
       "</pre>\n"
      ],
      "text/plain": [
       "\u001b[1m{\u001b[0m\n",
       "    \u001b[32m'method'\u001b[0m: \u001b[1m{\u001b[0m\n",
       "        \u001b[32m'prediction'\u001b[0m: \u001b[1m{\u001b[0m\n",
       "            \u001b[32m'one_off'\u001b[0m: \u001b[1m{\u001b[0m\n",
       "                \u001b[32m'classification'\u001b[0m: \u001b[1m[\u001b[0m\u001b[32m'cde_classifier'\u001b[0m, \u001b[32m'ode_classifier'\u001b[0m, \u001b[32m'nn_classifier'\u001b[0m, \u001b[32m'laplace_ode_classifier'\u001b[0m\u001b[1m]\u001b[0m,\n",
       "                \u001b[32m'regression'\u001b[0m: \u001b[1m[\u001b[0m\u001b[32m'laplace_ode_regressor'\u001b[0m, \u001b[32m'nn_regressor'\u001b[0m, \u001b[32m'ode_regressor'\u001b[0m, \u001b[32m'cde_regressor'\u001b[0m\u001b[1m]\u001b[0m\n",
       "            \u001b[1m}\u001b[0m,\n",
       "            \u001b[32m'temporal'\u001b[0m: \u001b[1m{\u001b[0m\u001b[32m'classification'\u001b[0m: \u001b[1m[\u001b[0m\u001b[32m'seq2seq_classifier'\u001b[0m\u001b[1m]\u001b[0m, \u001b[32m'regression'\u001b[0m: \u001b[1m[\u001b[0m\u001b[32m'seq2seq_regressor'\u001b[0m\u001b[1m]\u001b[0m\u001b[1m}\u001b[0m\n",
       "        \u001b[1m}\u001b[0m,\n",
       "        \u001b[32m'preprocessing'\u001b[0m: \u001b[1m{\u001b[0m\n",
       "            \u001b[32m'encoding'\u001b[0m: \u001b[1m{\u001b[0m\u001b[32m'static'\u001b[0m: \u001b[1m[\u001b[0m\u001b[32m'static_onehot_encoder'\u001b[0m\u001b[1m]\u001b[0m, \u001b[32m'temporal'\u001b[0m: \u001b[1m[\u001b[0m\u001b[32m'ts_onehot_encoder'\u001b[0m\u001b[1m]\u001b[0m\u001b[1m}\u001b[0m,\n",
       "            \u001b[32m'imputation'\u001b[0m: \u001b[1m{\u001b[0m\n",
       "                \u001b[32m'static'\u001b[0m: \u001b[1m[\u001b[0m\u001b[32m'static_tabular_imputer'\u001b[0m\u001b[1m]\u001b[0m,\n",
       "                \u001b[32m'temporal'\u001b[0m: \u001b[1m[\u001b[0m\u001b[32m'ffill'\u001b[0m, \u001b[32m'ts_tabular_imputer'\u001b[0m, \u001b[32m'bfill'\u001b[0m\u001b[1m]\u001b[0m\n",
       "            \u001b[1m}\u001b[0m,\n",
       "            \u001b[32m'nop'\u001b[0m: \u001b[1m[\u001b[0m\u001b[32m'nop_transformer'\u001b[0m\u001b[1m]\u001b[0m,\n",
       "            \u001b[32m'scaling'\u001b[0m: \u001b[1m{\u001b[0m\n",
       "                \u001b[32m'static'\u001b[0m: \u001b[1m[\u001b[0m\u001b[32m'static_minmax_scaler'\u001b[0m, \u001b[32m'static_standard_scaler'\u001b[0m\u001b[1m]\u001b[0m,\n",
       "                \u001b[32m'temporal'\u001b[0m: \u001b[1m[\u001b[0m\u001b[32m'ts_minmax_scaler'\u001b[0m, \u001b[32m'ts_standard_scaler'\u001b[0m\u001b[1m]\u001b[0m\n",
       "            \u001b[1m}\u001b[0m\n",
       "        \u001b[1m}\u001b[0m,\n",
       "        \u001b[32m'time_to_event'\u001b[0m: \u001b[1m[\u001b[0m\u001b[32m'ts_coxph'\u001b[0m, \u001b[32m'ts_xgb'\u001b[0m, \u001b[32m'dynamic_deephit'\u001b[0m\u001b[1m]\u001b[0m,\n",
       "        \u001b[32m'treatments'\u001b[0m: \u001b[1m{\u001b[0m\n",
       "            \u001b[32m'one_off'\u001b[0m: \u001b[1m{\u001b[0m\u001b[32m'regression'\u001b[0m: \u001b[1m[\u001b[0m\u001b[32m'synctwin_regressor'\u001b[0m\u001b[1m]\u001b[0m\u001b[1m}\u001b[0m,\n",
       "            \u001b[32m'temporal'\u001b[0m: \u001b[1m{\u001b[0m\u001b[32m'classification'\u001b[0m: \u001b[1m[\u001b[0m\u001b[32m'crn_classifier'\u001b[0m\u001b[1m]\u001b[0m, \u001b[32m'regression'\u001b[0m: \u001b[1m[\u001b[0m\u001b[32m'crn_regressor'\u001b[0m\u001b[1m]\u001b[0m\u001b[1m}\u001b[0m\n",
       "        \u001b[1m}\u001b[0m\n",
       "    \u001b[1m}\u001b[0m\n",
       "\u001b[1m}\u001b[0m\n"
      ]
     },
     "metadata": {},
     "output_type": "display_data"
    }
   ],
   "source": [
    "from rich.pretty import pprint\n",
    "\n",
    "plugins_across_all_types = plugin_loader.list(plugin_type=\"all\")\n",
    "\n",
    "pprint(plugins_across_all_types, indent_guides=False)"
   ]
  }
 ],
 "metadata": {
  "kernelspec": {
   "display_name": "RE_py38_temporai",
   "language": "python",
   "name": "python3"
  },
  "language_info": {
   "codemirror_mode": {
    "name": "ipython",
    "version": 3
   },
   "file_extension": ".py",
   "mimetype": "text/x-python",
   "name": "python",
   "nbconvert_exporter": "python",
   "pygments_lexer": "ipython3",
   "version": "3.8.18"
  }
 },
 "nbformat": 4,
 "nbformat_minor": 2
}

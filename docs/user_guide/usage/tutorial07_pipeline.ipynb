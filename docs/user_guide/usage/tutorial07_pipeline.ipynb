{
 "cells": [
  {
   "cell_type": "markdown",
   "id": "",
   "metadata": {},
   "source": [
    "[![Test In Colab](https://colab.research.google.com/assets/colab-badge.svg)](https://colab.research.google.com/github/vanderschaarlab/temporai/blob/main/tutorials/usage/tutorial07_pipeline.ipynb)"
   ]
  },
  {
   "attachments": {},
   "cell_type": "markdown",
   "metadata": {},
   "source": [
    "# User Guide Tutorial 07: Pipeline\n",
    "\n",
    "This tutorial shows how to use TemporAI `Pipeline`s."
   ]
  },
  {
   "attachments": {},
   "cell_type": "markdown",
   "metadata": {},
   "source": [
    "## TemporAI `Pipeline`\n",
    "\n",
    "A TemporAI `Pipeline` allows you to combine multiple plugins into one;\n",
    "inspired by be [scikit-learn pipeline](https://scikit-learn.org/stable/modules/generated/sklearn.pipeline.Pipeline.html).\n",
    "\n",
    "* All but the final plugin in the pipeline need to be data transformers (the `preprocessing` plugin category),\n",
    "* The final one must be a predictive plugin (any of the `prediction`, `time_to_event`, `treatments` plugin categories).\n",
    "\n",
    "When fitting, all the stages will be fitted, and the data will be sequentially transformed by all the preprocessing\n",
    "steps before fitting the final predictive method plugin.\n",
    "\n",
    "When predicting, the data will be again transformed by the preprocessing steps, and prediction carried out using the\n",
    "final predictive method plugin.\n",
    "\n",
    "**Note:**\n",
    "\n",
    "All pipelines follow `PipelineBase` interface, see API reference for details."
   ]
  },
  {
   "attachments": {},
   "cell_type": "markdown",
   "metadata": {},
   "source": [
    "## Example\n",
    "\n",
    "Below is an example of a pipeline ending with `prediction.one_off.nn_classifier`.\n",
    "\n",
    "Initializing the `Pipeline` follows the following steps.\n",
    "1. Use the `pipeline()` function to create a *pipeline class* from a list of strings denoting its steps.\n",
    "1. Instantiate the pipeline class. The initialization arguments to each component plugin can be passed as a dictionary at this step.\n",
    "1. Use the pipeline like any other TemporAI estimator (call `.fit(...)`, `.predict(...)` and so on)."
   ]
  },
  {
   "cell_type": "code",
   "execution_count": 1,
   "metadata": {},
   "outputs": [],
   "source": [
    "from rich.pretty import pprint  # For fancy printing only."
   ]
  },
  {
   "cell_type": "code",
   "execution_count": 2,
   "metadata": {},
   "outputs": [
    {
     "name": "stdout",
     "output_type": "stream",
     "text": [
      "Pipeline class:\n",
      "<class 'tempor.methods.pipeline.pipeline.<locals>.Pipeline'>\n",
      "\n",
      "Pipeline base classes (note `PipelineBase`):\n"
     ]
    },
    {
     "data": {
      "text/html": [
       "<pre style=\"white-space:pre;overflow-x:auto;line-height:normal;font-family:Menlo,'DejaVu Sans Mono',consolas,'Courier New',monospace\"><span style=\"font-weight: bold\">[</span>\n",
       "<span style=\"color: #7fbf7f; text-decoration-color: #7fbf7f\">│   </span><span style=\"font-weight: bold\">&lt;</span><span style=\"color: #ff00ff; text-decoration-color: #ff00ff; font-weight: bold\">class</span><span style=\"color: #000000; text-decoration-color: #000000\"> </span><span style=\"color: #008000; text-decoration-color: #008000\">'tempor.methods.pipeline.pipeline.&lt;locals&gt;.Pipeline'</span><span style=\"color: #000000; text-decoration-color: #000000\">&gt;,</span>\n",
       "<span style=\"color: #7fbf7f; text-decoration-color: #7fbf7f\">│   </span><span style=\"color: #000000; text-decoration-color: #000000\">&lt;class </span><span style=\"color: #008000; text-decoration-color: #008000\">'tempor.methods.pipeline.PipelineBase'</span><span style=\"color: #000000; text-decoration-color: #000000\">&gt;,</span>\n",
       "<span style=\"color: #7fbf7f; text-decoration-color: #7fbf7f\">│   </span><span style=\"color: #000000; text-decoration-color: #000000\">&lt;class </span><span style=\"color: #008000; text-decoration-color: #008000\">'tempor.methods.prediction.one_off.classification.BaseOneOffClassifier'</span><span style=\"color: #000000; text-decoration-color: #000000\">&gt;,</span>\n",
       "<span style=\"color: #7fbf7f; text-decoration-color: #7fbf7f\">│   </span><span style=\"color: #000000; text-decoration-color: #000000\">&lt;class </span><span style=\"color: #008000; text-decoration-color: #008000\">'tempor.methods.core._base_predictor.BasePredictor'</span><span style=\"color: #000000; text-decoration-color: #000000\">&gt;,</span>\n",
       "<span style=\"color: #7fbf7f; text-decoration-color: #7fbf7f\">│   </span><span style=\"color: #000000; text-decoration-color: #000000\">&lt;class </span><span style=\"color: #008000; text-decoration-color: #008000\">'tempor.methods.core._base_estimator.BaseEstimator'</span><span style=\"color: #000000; text-decoration-color: #000000\">&gt;,</span>\n",
       "<span style=\"color: #7fbf7f; text-decoration-color: #7fbf7f\">│   </span><span style=\"color: #000000; text-decoration-color: #000000\">&lt;class </span><span style=\"color: #008000; text-decoration-color: #008000\">'tempor.core.plugins.Plugin'</span><span style=\"color: #000000; text-decoration-color: #000000\">&gt;,</span>\n",
       "<span style=\"color: #7fbf7f; text-decoration-color: #7fbf7f\">│   </span><span style=\"color: #000000; text-decoration-color: #000000\">&lt;class </span><span style=\"color: #008000; text-decoration-color: #008000\">'abc.ABC'</span><span style=\"color: #000000; text-decoration-color: #000000\">&gt;,</span>\n",
       "<span style=\"color: #7fbf7f; text-decoration-color: #7fbf7f\">│   </span><span style=\"color: #000000; text-decoration-color: #000000\">&lt;class </span><span style=\"color: #008000; text-decoration-color: #008000\">'object'</span><span style=\"font-weight: bold\">&gt;</span>\n",
       "<span style=\"font-weight: bold\">]</span>\n",
       "</pre>\n"
      ],
      "text/plain": [
       "\u001b[1m[\u001b[0m\n",
       "\u001b[2;32m│   \u001b[0m\u001b[1m<\u001b[0m\u001b[1;95mclass\u001b[0m\u001b[39m \u001b[0m\u001b[32m'tempor.methods.pipeline.pipeline.<locals>.Pipeline'\u001b[0m\u001b[39m>,\u001b[0m\n",
       "\u001b[2;32m│   \u001b[0m\u001b[39m<class \u001b[0m\u001b[32m'tempor.methods.pipeline.PipelineBase'\u001b[0m\u001b[39m>,\u001b[0m\n",
       "\u001b[2;32m│   \u001b[0m\u001b[39m<class \u001b[0m\u001b[32m'tempor.methods.prediction.one_off.classification.BaseOneOffClassifier'\u001b[0m\u001b[39m>,\u001b[0m\n",
       "\u001b[2;32m│   \u001b[0m\u001b[39m<class \u001b[0m\u001b[32m'tempor.methods.core._base_predictor.BasePredictor'\u001b[0m\u001b[39m>,\u001b[0m\n",
       "\u001b[2;32m│   \u001b[0m\u001b[39m<class \u001b[0m\u001b[32m'tempor.methods.core._base_estimator.BaseEstimator'\u001b[0m\u001b[39m>,\u001b[0m\n",
       "\u001b[2;32m│   \u001b[0m\u001b[39m<class \u001b[0m\u001b[32m'tempor.core.plugins.Plugin'\u001b[0m\u001b[39m>,\u001b[0m\n",
       "\u001b[2;32m│   \u001b[0m\u001b[39m<class \u001b[0m\u001b[32m'abc.ABC'\u001b[0m\u001b[39m>,\u001b[0m\n",
       "\u001b[2;32m│   \u001b[0m\u001b[39m<class \u001b[0m\u001b[32m'object'\u001b[0m\u001b[1m>\u001b[0m\n",
       "\u001b[1m]\u001b[0m\n"
      ]
     },
     "metadata": {},
     "output_type": "display_data"
    },
    {
     "name": "stderr",
     "output_type": "stream",
     "text": [
      "2023-10-09 18:03:05 | INFO     | hyperimpute.logger:log_and_print:65 | Iteration imputation: select_model_by_column: True, select_model_by_iteration: True\n",
      "2023-10-09 18:03:05 | INFO     | hyperimpute.logger:log_and_print:65 | Iteration imputation: select_model_by_column: True, select_model_by_iteration: True\n"
     ]
    },
    {
     "name": "stdout",
     "output_type": "stream",
     "text": [
      "Pipeline instance:\n"
     ]
    },
    {
     "data": {
      "text/html": [
       "<pre style=\"white-space:pre;overflow-x:auto;line-height:normal;font-family:Menlo,'DejaVu Sans Mono',consolas,'Courier New',monospace\"><span style=\"color: #800080; text-decoration-color: #800080; font-weight: bold\">Pipeline</span><span style=\"font-weight: bold\">(</span>\n",
       "<span style=\"color: #7fbf7f; text-decoration-color: #7fbf7f\">│   </span><span style=\"color: #808000; text-decoration-color: #808000\">pipeline_seq</span>=<span style=\"color: #008000; text-decoration-color: #008000\">'preprocessing.imputation.temporal.bfill-&gt;preprocessing.imputation.static.static_tabular_imputer-&gt;preprocessing.imputation.temporal.ts_tabular_imputer-&gt;preprocessing.scaling.temporal.ts_minmax_scaler-&gt;prediction.one_off.classification.nn_classifier'</span>,\n",
       "<span style=\"color: #7fbf7f; text-decoration-color: #7fbf7f\">│   </span><span style=\"color: #808000; text-decoration-color: #808000\">predictor_category</span>=<span style=\"color: #008000; text-decoration-color: #008000\">'prediction.one_off.classification'</span>,\n",
       "<span style=\"color: #7fbf7f; text-decoration-color: #7fbf7f\">│   </span><span style=\"color: #808000; text-decoration-color: #808000\">params</span>=<span style=\"font-weight: bold\">{</span>\n",
       "<span style=\"color: #7fbf7f; text-decoration-color: #7fbf7f\">│   │   </span><span style=\"color: #008000; text-decoration-color: #008000\">'bfill'</span>: <span style=\"font-weight: bold\">{}</span>,\n",
       "<span style=\"color: #7fbf7f; text-decoration-color: #7fbf7f\">│   │   </span><span style=\"color: #008000; text-decoration-color: #008000\">'static_tabular_imputer'</span>: <span style=\"font-weight: bold\">{</span><span style=\"color: #008000; text-decoration-color: #008000\">'imputer'</span>: <span style=\"color: #008000; text-decoration-color: #008000\">'ice'</span>, <span style=\"color: #008000; text-decoration-color: #008000\">'random_state'</span>: <span style=\"color: #008080; text-decoration-color: #008080; font-weight: bold\">0</span>, <span style=\"color: #008000; text-decoration-color: #008000\">'imputer_params'</span>: <span style=\"font-weight: bold\">{</span><span style=\"color: #008000; text-decoration-color: #008000\">'random_state'</span>: <span style=\"color: #008080; text-decoration-color: #008080; font-weight: bold\">0</span><span style=\"font-weight: bold\">}}</span>,\n",
       "<span style=\"color: #7fbf7f; text-decoration-color: #7fbf7f\">│   │   </span><span style=\"color: #008000; text-decoration-color: #008000\">'ts_tabular_imputer'</span>: <span style=\"font-weight: bold\">{</span><span style=\"color: #008000; text-decoration-color: #008000\">'imputer'</span>: <span style=\"color: #008000; text-decoration-color: #008000\">'ice'</span>, <span style=\"color: #008000; text-decoration-color: #008000\">'random_state'</span>: <span style=\"color: #008080; text-decoration-color: #008080; font-weight: bold\">0</span>, <span style=\"color: #008000; text-decoration-color: #008000\">'imputer_params'</span>: <span style=\"font-weight: bold\">{</span><span style=\"color: #008000; text-decoration-color: #008000\">'random_state'</span>: <span style=\"color: #008080; text-decoration-color: #008080; font-weight: bold\">0</span><span style=\"font-weight: bold\">}}</span>,\n",
       "<span style=\"color: #7fbf7f; text-decoration-color: #7fbf7f\">│   │   </span><span style=\"color: #008000; text-decoration-color: #008000\">'ts_minmax_scaler'</span>: <span style=\"font-weight: bold\">{</span><span style=\"color: #008000; text-decoration-color: #008000\">'feature_range'</span>: <span style=\"font-weight: bold\">[</span><span style=\"color: #008080; text-decoration-color: #008080; font-weight: bold\">0</span>, <span style=\"color: #008080; text-decoration-color: #008080; font-weight: bold\">1</span><span style=\"font-weight: bold\">]</span>, <span style=\"color: #008000; text-decoration-color: #008000\">'clip'</span>: <span style=\"color: #ff0000; text-decoration-color: #ff0000; font-style: italic\">False</span><span style=\"font-weight: bold\">}</span>,\n",
       "<span style=\"color: #7fbf7f; text-decoration-color: #7fbf7f\">│   │   </span><span style=\"color: #008000; text-decoration-color: #008000\">'nn_classifier'</span>: <span style=\"font-weight: bold\">{</span>\n",
       "<span style=\"color: #7fbf7f; text-decoration-color: #7fbf7f\">│   │   │   </span><span style=\"color: #008000; text-decoration-color: #008000\">'n_static_units_hidden'</span>: <span style=\"color: #008080; text-decoration-color: #008080; font-weight: bold\">100</span>,\n",
       "<span style=\"color: #7fbf7f; text-decoration-color: #7fbf7f\">│   │   │   </span><span style=\"color: #008000; text-decoration-color: #008000\">'n_static_layers_hidden'</span>: <span style=\"color: #008080; text-decoration-color: #008080; font-weight: bold\">2</span>,\n",
       "<span style=\"color: #7fbf7f; text-decoration-color: #7fbf7f\">│   │   │   </span><span style=\"color: #008000; text-decoration-color: #008000\">'n_temporal_units_hidden'</span>: <span style=\"color: #008080; text-decoration-color: #008080; font-weight: bold\">102</span>,\n",
       "<span style=\"color: #7fbf7f; text-decoration-color: #7fbf7f\">│   │   │   </span><span style=\"color: #008000; text-decoration-color: #008000\">'n_temporal_layers_hidden'</span>: <span style=\"color: #008080; text-decoration-color: #008080; font-weight: bold\">2</span>,\n",
       "<span style=\"color: #7fbf7f; text-decoration-color: #7fbf7f\">│   │   │   </span><span style=\"color: #008000; text-decoration-color: #008000\">'n_iter'</span>: <span style=\"color: #008080; text-decoration-color: #008080; font-weight: bold\">100</span>,\n",
       "<span style=\"color: #7fbf7f; text-decoration-color: #7fbf7f\">│   │   │   </span><span style=\"color: #008000; text-decoration-color: #008000\">'mode'</span>: <span style=\"color: #008000; text-decoration-color: #008000\">'RNN'</span>,\n",
       "<span style=\"color: #7fbf7f; text-decoration-color: #7fbf7f\">│   │   │   </span><span style=\"color: #008000; text-decoration-color: #008000\">'n_iter_print'</span>: <span style=\"color: #008080; text-decoration-color: #008080; font-weight: bold\">10</span>,\n",
       "<span style=\"color: #7fbf7f; text-decoration-color: #7fbf7f\">│   │   │   </span><span style=\"color: #008000; text-decoration-color: #008000\">'batch_size'</span>: <span style=\"color: #008080; text-decoration-color: #008080; font-weight: bold\">100</span>,\n",
       "<span style=\"color: #7fbf7f; text-decoration-color: #7fbf7f\">│   │   │   </span><span style=\"color: #008000; text-decoration-color: #008000\">'lr'</span>: <span style=\"color: #008080; text-decoration-color: #008080; font-weight: bold\">0.001</span>,\n",
       "<span style=\"color: #7fbf7f; text-decoration-color: #7fbf7f\">│   │   │   </span><span style=\"color: #008000; text-decoration-color: #008000\">'weight_decay'</span>: <span style=\"color: #008080; text-decoration-color: #008080; font-weight: bold\">0.001</span>,\n",
       "<span style=\"color: #7fbf7f; text-decoration-color: #7fbf7f\">│   │   │   </span><span style=\"color: #008000; text-decoration-color: #008000\">'window_size'</span>: <span style=\"color: #008080; text-decoration-color: #008080; font-weight: bold\">1</span>,\n",
       "<span style=\"color: #7fbf7f; text-decoration-color: #7fbf7f\">│   │   │   </span><span style=\"color: #008000; text-decoration-color: #008000\">'device'</span>: <span style=\"color: #800080; text-decoration-color: #800080; font-style: italic\">None</span>,\n",
       "<span style=\"color: #7fbf7f; text-decoration-color: #7fbf7f\">│   │   │   </span><span style=\"color: #008000; text-decoration-color: #008000\">'dataloader_sampler'</span>: <span style=\"color: #800080; text-decoration-color: #800080; font-style: italic\">None</span>,\n",
       "<span style=\"color: #7fbf7f; text-decoration-color: #7fbf7f\">│   │   │   </span><span style=\"color: #008000; text-decoration-color: #008000\">'dropout'</span>: <span style=\"color: #008080; text-decoration-color: #008080; font-weight: bold\">0</span>,\n",
       "<span style=\"color: #7fbf7f; text-decoration-color: #7fbf7f\">│   │   │   </span><span style=\"color: #008000; text-decoration-color: #008000\">'nonlin'</span>: <span style=\"color: #008000; text-decoration-color: #008000\">'relu'</span>,\n",
       "<span style=\"color: #7fbf7f; text-decoration-color: #7fbf7f\">│   │   │   </span><span style=\"color: #008000; text-decoration-color: #008000\">'random_state'</span>: <span style=\"color: #008080; text-decoration-color: #008080; font-weight: bold\">0</span>,\n",
       "<span style=\"color: #7fbf7f; text-decoration-color: #7fbf7f\">│   │   │   </span><span style=\"color: #008000; text-decoration-color: #008000\">'clipping_value'</span>: <span style=\"color: #008080; text-decoration-color: #008080; font-weight: bold\">1</span>,\n",
       "<span style=\"color: #7fbf7f; text-decoration-color: #7fbf7f\">│   │   │   </span><span style=\"color: #008000; text-decoration-color: #008000\">'patience'</span>: <span style=\"color: #008080; text-decoration-color: #008080; font-weight: bold\">20</span>,\n",
       "<span style=\"color: #7fbf7f; text-decoration-color: #7fbf7f\">│   │   │   </span><span style=\"color: #008000; text-decoration-color: #008000\">'train_ratio'</span>: <span style=\"color: #008080; text-decoration-color: #008080; font-weight: bold\">0.8</span>\n",
       "<span style=\"color: #7fbf7f; text-decoration-color: #7fbf7f\">│   │   </span><span style=\"font-weight: bold\">}</span>\n",
       "<span style=\"color: #7fbf7f; text-decoration-color: #7fbf7f\">│   </span><span style=\"font-weight: bold\">}</span>\n",
       "<span style=\"font-weight: bold\">)</span>\n",
       "</pre>\n"
      ],
      "text/plain": [
       "\u001b[1;35mPipeline\u001b[0m\u001b[1m(\u001b[0m\n",
       "\u001b[2;32m│   \u001b[0m\u001b[33mpipeline_seq\u001b[0m=\u001b[32m'preprocessing.imputation.temporal.bfill->preprocessing.imputation.static.static_tabular_imputer->preprocessing.imputation.temporal.ts_tabular_imputer->preprocessing.scaling.temporal.ts_minmax_scaler->prediction.one_off.classification.nn_classifier'\u001b[0m,\n",
       "\u001b[2;32m│   \u001b[0m\u001b[33mpredictor_category\u001b[0m=\u001b[32m'prediction.one_off.classification'\u001b[0m,\n",
       "\u001b[2;32m│   \u001b[0m\u001b[33mparams\u001b[0m=\u001b[1m{\u001b[0m\n",
       "\u001b[2;32m│   │   \u001b[0m\u001b[32m'bfill'\u001b[0m: \u001b[1m{\u001b[0m\u001b[1m}\u001b[0m,\n",
       "\u001b[2;32m│   │   \u001b[0m\u001b[32m'static_tabular_imputer'\u001b[0m: \u001b[1m{\u001b[0m\u001b[32m'imputer'\u001b[0m: \u001b[32m'ice'\u001b[0m, \u001b[32m'random_state'\u001b[0m: \u001b[1;36m0\u001b[0m, \u001b[32m'imputer_params'\u001b[0m: \u001b[1m{\u001b[0m\u001b[32m'random_state'\u001b[0m: \u001b[1;36m0\u001b[0m\u001b[1m}\u001b[0m\u001b[1m}\u001b[0m,\n",
       "\u001b[2;32m│   │   \u001b[0m\u001b[32m'ts_tabular_imputer'\u001b[0m: \u001b[1m{\u001b[0m\u001b[32m'imputer'\u001b[0m: \u001b[32m'ice'\u001b[0m, \u001b[32m'random_state'\u001b[0m: \u001b[1;36m0\u001b[0m, \u001b[32m'imputer_params'\u001b[0m: \u001b[1m{\u001b[0m\u001b[32m'random_state'\u001b[0m: \u001b[1;36m0\u001b[0m\u001b[1m}\u001b[0m\u001b[1m}\u001b[0m,\n",
       "\u001b[2;32m│   │   \u001b[0m\u001b[32m'ts_minmax_scaler'\u001b[0m: \u001b[1m{\u001b[0m\u001b[32m'feature_range'\u001b[0m: \u001b[1m[\u001b[0m\u001b[1;36m0\u001b[0m, \u001b[1;36m1\u001b[0m\u001b[1m]\u001b[0m, \u001b[32m'clip'\u001b[0m: \u001b[3;91mFalse\u001b[0m\u001b[1m}\u001b[0m,\n",
       "\u001b[2;32m│   │   \u001b[0m\u001b[32m'nn_classifier'\u001b[0m: \u001b[1m{\u001b[0m\n",
       "\u001b[2;32m│   │   │   \u001b[0m\u001b[32m'n_static_units_hidden'\u001b[0m: \u001b[1;36m100\u001b[0m,\n",
       "\u001b[2;32m│   │   │   \u001b[0m\u001b[32m'n_static_layers_hidden'\u001b[0m: \u001b[1;36m2\u001b[0m,\n",
       "\u001b[2;32m│   │   │   \u001b[0m\u001b[32m'n_temporal_units_hidden'\u001b[0m: \u001b[1;36m102\u001b[0m,\n",
       "\u001b[2;32m│   │   │   \u001b[0m\u001b[32m'n_temporal_layers_hidden'\u001b[0m: \u001b[1;36m2\u001b[0m,\n",
       "\u001b[2;32m│   │   │   \u001b[0m\u001b[32m'n_iter'\u001b[0m: \u001b[1;36m100\u001b[0m,\n",
       "\u001b[2;32m│   │   │   \u001b[0m\u001b[32m'mode'\u001b[0m: \u001b[32m'RNN'\u001b[0m,\n",
       "\u001b[2;32m│   │   │   \u001b[0m\u001b[32m'n_iter_print'\u001b[0m: \u001b[1;36m10\u001b[0m,\n",
       "\u001b[2;32m│   │   │   \u001b[0m\u001b[32m'batch_size'\u001b[0m: \u001b[1;36m100\u001b[0m,\n",
       "\u001b[2;32m│   │   │   \u001b[0m\u001b[32m'lr'\u001b[0m: \u001b[1;36m0.001\u001b[0m,\n",
       "\u001b[2;32m│   │   │   \u001b[0m\u001b[32m'weight_decay'\u001b[0m: \u001b[1;36m0.001\u001b[0m,\n",
       "\u001b[2;32m│   │   │   \u001b[0m\u001b[32m'window_size'\u001b[0m: \u001b[1;36m1\u001b[0m,\n",
       "\u001b[2;32m│   │   │   \u001b[0m\u001b[32m'device'\u001b[0m: \u001b[3;35mNone\u001b[0m,\n",
       "\u001b[2;32m│   │   │   \u001b[0m\u001b[32m'dataloader_sampler'\u001b[0m: \u001b[3;35mNone\u001b[0m,\n",
       "\u001b[2;32m│   │   │   \u001b[0m\u001b[32m'dropout'\u001b[0m: \u001b[1;36m0\u001b[0m,\n",
       "\u001b[2;32m│   │   │   \u001b[0m\u001b[32m'nonlin'\u001b[0m: \u001b[32m'relu'\u001b[0m,\n",
       "\u001b[2;32m│   │   │   \u001b[0m\u001b[32m'random_state'\u001b[0m: \u001b[1;36m0\u001b[0m,\n",
       "\u001b[2;32m│   │   │   \u001b[0m\u001b[32m'clipping_value'\u001b[0m: \u001b[1;36m1\u001b[0m,\n",
       "\u001b[2;32m│   │   │   \u001b[0m\u001b[32m'patience'\u001b[0m: \u001b[1;36m20\u001b[0m,\n",
       "\u001b[2;32m│   │   │   \u001b[0m\u001b[32m'train_ratio'\u001b[0m: \u001b[1;36m0.8\u001b[0m\n",
       "\u001b[2;32m│   │   \u001b[0m\u001b[1m}\u001b[0m\n",
       "\u001b[2;32m│   \u001b[0m\u001b[1m}\u001b[0m\n",
       "\u001b[1m)\u001b[0m\n"
      ]
     },
     "metadata": {},
     "output_type": "display_data"
    }
   ],
   "source": [
    "from tempor.methods.pipeline import pipeline\n",
    "\n",
    "# 1. Create a pipeline class based on your desired definition of the pipeline.\n",
    "PipelineClass = pipeline(\n",
    "    # Provide plugin names for the pipeline, in order.\n",
    "    [\n",
    "        # Preprocessing (data transformer) plugins:\n",
    "        \"preprocessing.imputation.temporal.bfill\",\n",
    "        \"preprocessing.imputation.static.static_tabular_imputer\",\n",
    "        \"preprocessing.imputation.temporal.ts_tabular_imputer\",\n",
    "        \"preprocessing.scaling.temporal.ts_minmax_scaler\",\n",
    "        # Prediction plugin:\n",
    "        \"prediction.one_off.classification.nn_classifier\",\n",
    "    ],\n",
    ")\n",
    "print(\"Pipeline class:\")\n",
    "print(PipelineClass)\n",
    "\n",
    "print(\"\\nPipeline base classes (note `PipelineBase`):\")\n",
    "pprint(PipelineClass.mro())\n",
    "\n",
    "pipe = PipelineClass(\n",
    "    # You can provide initialization arguments to each plugin comprising the pipeline as a dictionary, as follows:\n",
    "    {\n",
    "        \"static_imputer\": {\"static_imputer\": \"ice\", \"random_state\": 42},\n",
    "        \"nn_classifier\": {\"n_iter\": 100},\n",
    "    }\n",
    ")\n",
    "\n",
    "print(\"Pipeline instance:\")\n",
    "pprint(pipe)"
   ]
  },
  {
   "attachments": {},
   "cell_type": "markdown",
   "metadata": {},
   "source": [
    "Using the `Pipeline`:"
   ]
  },
  {
   "cell_type": "code",
   "execution_count": 3,
   "metadata": {},
   "outputs": [
    {
     "name": "stderr",
     "output_type": "stream",
     "text": [
      "2023-10-09 18:03:06 | INFO     | hyperimpute.logger:log_and_print:65 |   > HyperImpute using inner optimization\n",
      "2023-10-09 18:03:06 | INFO     | hyperimpute.logger:log_and_print:65 |   > Imputation iter 0\n",
      "2023-10-09 18:03:06 | INFO     | hyperimpute.logger:log_and_print:65 |   > Imputation iter 1\n",
      "2023-10-09 18:03:06 | INFO     | hyperimpute.logger:log_and_print:65 |   > Imputation iter 2\n",
      "2023-10-09 18:03:06 | INFO     | hyperimpute.logger:log_and_print:65 |   > Imputation iter 3\n",
      "2023-10-09 18:03:06 | INFO     | hyperimpute.logger:log_and_print:65 |   > Imputation iter 4\n",
      "2023-10-09 18:03:06 | INFO     | hyperimpute.logger:log_and_print:65 |   > Imputation iter 5\n",
      "2023-10-09 18:03:06 | INFO     | hyperimpute.logger:log_and_print:65 |   > Imputation iter 6\n",
      "2023-10-09 18:03:06 | INFO     | hyperimpute.logger:log_and_print:65 |      >>>> Early stopping on objective diff iteration\n",
      "2023-10-09 18:03:06 | INFO     | hyperimpute.logger:log_and_print:65 |   > HyperImpute using inner optimization\n",
      "2023-10-09 18:03:06 | INFO     | hyperimpute.logger:log_and_print:65 |   > Imputation iter 0\n",
      "2023-10-09 18:03:06 | INFO     | hyperimpute.logger:log_and_print:65 |   > Imputation iter 1\n",
      "2023-10-09 18:03:06 | INFO     | hyperimpute.logger:log_and_print:65 |   > Imputation iter 2\n",
      "2023-10-09 18:03:06 | INFO     | hyperimpute.logger:log_and_print:65 |   > Imputation iter 3\n",
      "2023-10-09 18:03:06 | INFO     | hyperimpute.logger:log_and_print:65 |   > Imputation iter 4\n",
      "2023-10-09 18:03:06 | INFO     | hyperimpute.logger:log_and_print:65 |   > Imputation iter 5\n",
      "2023-10-09 18:03:06 | INFO     | hyperimpute.logger:log_and_print:65 |   > Imputation iter 6\n",
      "2023-10-09 18:03:06 | INFO     | hyperimpute.logger:log_and_print:65 |      >>>> Early stopping on objective diff iteration\n",
      "2023-10-09 18:03:08 | INFO     | tempor.models.ts_model:_train:379 | Epoch:0| train loss: 0.688586950302124, validation loss: 0.6886438131332397\n",
      "2023-10-09 18:03:08 | INFO     | tempor.models.ts_model:_train:379 | Epoch:10| train loss: 0.6998531222343445, validation loss: 0.6888602375984192\n",
      "2023-10-09 18:03:08 | INFO     | tempor.models.ts_model:_train:379 | Epoch:20| train loss: 0.6862186193466187, validation loss: 0.689547061920166\n",
      "2023-10-09 18:03:08 | INFO     | tempor.models.ts_model:_train:379 | Epoch:30| train loss: 0.6913824677467346, validation loss: 0.6873278617858887\n",
      "2023-10-09 18:03:08 | INFO     | tempor.models.ts_model:_train:379 | Epoch:40| train loss: 0.6604955792427063, validation loss: 0.689150333404541\n",
      "2023-10-09 18:03:08 | INFO     | tempor.models.ts_model:_train:379 | Epoch:50| train loss: 0.6746629476547241, validation loss: 0.6878216862678528\n",
      "2023-10-09 18:03:08 | INFO     | tempor.models.ts_model:_train:379 | Epoch:60| train loss: 0.7084729075431824, validation loss: 0.6860194802284241\n",
      "2023-10-09 18:03:08 | INFO     | tempor.models.ts_model:_train:379 | Epoch:70| train loss: 0.6851019263267517, validation loss: 0.683639645576477\n",
      "2023-10-09 18:03:08 | INFO     | tempor.models.ts_model:_train:379 | Epoch:80| train loss: 0.6695638298988342, validation loss: 0.6823517084121704\n",
      "2023-10-09 18:03:08 | INFO     | tempor.models.ts_model:_train:379 | Epoch:90| train loss: 0.6456660032272339, validation loss: 0.6871115565299988\n",
      "2023-10-09 18:03:09 | INFO     | hyperimpute.logger:log_and_print:65 |   > HyperImpute using inner optimization\n",
      "2023-10-09 18:03:09 | INFO     | hyperimpute.logger:log_and_print:65 |   > Imputation iter 0\n",
      "2023-10-09 18:03:09 | INFO     | hyperimpute.logger:log_and_print:65 |   > Imputation iter 1\n",
      "2023-10-09 18:03:09 | INFO     | hyperimpute.logger:log_and_print:65 |   > Imputation iter 2\n",
      "2023-10-09 18:03:09 | INFO     | hyperimpute.logger:log_and_print:65 |   > Imputation iter 3\n",
      "2023-10-09 18:03:09 | INFO     | hyperimpute.logger:log_and_print:65 |   > Imputation iter 4\n",
      "2023-10-09 18:03:09 | INFO     | hyperimpute.logger:log_and_print:65 |   > Imputation iter 5\n",
      "2023-10-09 18:03:09 | INFO     | hyperimpute.logger:log_and_print:65 |   > Imputation iter 6\n",
      "2023-10-09 18:03:09 | INFO     | hyperimpute.logger:log_and_print:65 |      >>>> Early stopping on objective diff iteration\n",
      "2023-10-09 18:03:09 | INFO     | hyperimpute.logger:log_and_print:65 |   > HyperImpute using inner optimization\n",
      "2023-10-09 18:03:09 | INFO     | hyperimpute.logger:log_and_print:65 |   > Imputation iter 0\n",
      "2023-10-09 18:03:09 | INFO     | hyperimpute.logger:log_and_print:65 |   > Imputation iter 1\n",
      "2023-10-09 18:03:09 | INFO     | hyperimpute.logger:log_and_print:65 |   > Imputation iter 2\n",
      "2023-10-09 18:03:09 | INFO     | hyperimpute.logger:log_and_print:65 |   > Imputation iter 3\n",
      "2023-10-09 18:03:09 | INFO     | hyperimpute.logger:log_and_print:65 |   > Imputation iter 4\n",
      "2023-10-09 18:03:09 | INFO     | hyperimpute.logger:log_and_print:65 |   > Imputation iter 5\n",
      "2023-10-09 18:03:09 | INFO     | hyperimpute.logger:log_and_print:65 |   > Imputation iter 6\n",
      "2023-10-09 18:03:09 | INFO     | hyperimpute.logger:log_and_print:65 |      >>>> Early stopping on objective diff iteration\n"
     ]
    },
    {
     "data": {
      "text/html": [
       "<p><span style=\"font-family: monospace;\">StaticSamples</span> with data:</p><div>\n",
       "<style scoped>\n",
       "    .dataframe tbody tr th:only-of-type {\n",
       "        vertical-align: middle;\n",
       "    }\n",
       "\n",
       "    .dataframe tbody tr th {\n",
       "        vertical-align: top;\n",
       "    }\n",
       "\n",
       "    .dataframe thead th {\n",
       "        text-align: right;\n",
       "    }\n",
       "</style>\n",
       "<table border=\"1\" class=\"dataframe\">\n",
       "  <thead>\n",
       "    <tr style=\"text-align: right;\">\n",
       "      <th></th>\n",
       "      <th>feat_0</th>\n",
       "    </tr>\n",
       "    <tr>\n",
       "      <th>sample_idx</th>\n",
       "      <th></th>\n",
       "    </tr>\n",
       "  </thead>\n",
       "  <tbody>\n",
       "    <tr>\n",
       "      <th>0</th>\n",
       "      <td>1.0</td>\n",
       "    </tr>\n",
       "    <tr>\n",
       "      <th>1</th>\n",
       "      <td>1.0</td>\n",
       "    </tr>\n",
       "    <tr>\n",
       "      <th>2</th>\n",
       "      <td>1.0</td>\n",
       "    </tr>\n",
       "    <tr>\n",
       "      <th>3</th>\n",
       "      <td>1.0</td>\n",
       "    </tr>\n",
       "    <tr>\n",
       "      <th>4</th>\n",
       "      <td>0.0</td>\n",
       "    </tr>\n",
       "    <tr>\n",
       "      <th>...</th>\n",
       "      <td>...</td>\n",
       "    </tr>\n",
       "    <tr>\n",
       "      <th>95</th>\n",
       "      <td>1.0</td>\n",
       "    </tr>\n",
       "    <tr>\n",
       "      <th>96</th>\n",
       "      <td>1.0</td>\n",
       "    </tr>\n",
       "    <tr>\n",
       "      <th>97</th>\n",
       "      <td>1.0</td>\n",
       "    </tr>\n",
       "    <tr>\n",
       "      <th>98</th>\n",
       "      <td>1.0</td>\n",
       "    </tr>\n",
       "    <tr>\n",
       "      <th>99</th>\n",
       "      <td>1.0</td>\n",
       "    </tr>\n",
       "  </tbody>\n",
       "</table>\n",
       "<p>100 rows × 1 columns</p>\n",
       "</div>"
      ],
      "text/plain": [
       "StaticSamples with data:\n",
       "            feat_0\n",
       "sample_idx        \n",
       "0              1.0\n",
       "1              1.0\n",
       "2              1.0\n",
       "3              1.0\n",
       "4              0.0\n",
       "...            ...\n",
       "95             1.0\n",
       "96             1.0\n",
       "97             1.0\n",
       "98             1.0\n",
       "99             1.0\n",
       "\n",
       "[100 rows x 1 columns]"
      ]
     },
     "execution_count": 3,
     "metadata": {},
     "output_type": "execute_result"
    }
   ],
   "source": [
    "from tempor.data.datasources import SineDataSource\n",
    "\n",
    "dataset = SineDataSource(random_state=42).load()\n",
    "\n",
    "# Fit:\n",
    "pipe.fit(dataset)\n",
    "\n",
    "# Predict:\n",
    "pipe.predict(dataset)  # This will transform the data ant then predict."
   ]
  }
 ],
 "metadata": {
  "kernelspec": {
   "display_name": "RE_py38_temporai",
   "language": "python",
   "name": "python3"
  },
  "language_info": {
   "codemirror_mode": {
    "name": "ipython",
    "version": 3
   },
   "file_extension": ".py",
   "mimetype": "text/x-python",
   "name": "python",
   "nbconvert_exporter": "python",
   "pygments_lexer": "ipython3",
   "version": "3.8.18"
  }
 },
 "nbformat": 4,
 "nbformat_minor": 2
}

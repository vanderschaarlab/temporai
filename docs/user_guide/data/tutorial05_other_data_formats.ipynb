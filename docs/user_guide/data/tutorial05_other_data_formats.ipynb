{
 "cells": [
  {
   "cell_type": "markdown",
   "id": "",
   "metadata": {},
   "source": [
    "[![Test In Colab](https://colab.research.google.com/assets/colab-badge.svg)](https://colab.research.google.com/github/vanderschaarlab/temporai/blob/main/tutorials/data/tutorial05_other_data_formats.ipynb)"
   ]
  },
  {
   "cell_type": "markdown",
   "metadata": {},
   "source": [
    "# Data Tutorial 05: Other Data Formats\n",
    "\n",
    "This tutorial shows additional data formats supported by TemporAI."
   ]
  },
  {
   "cell_type": "markdown",
   "metadata": {},
   "source": [
    "> ⚠️ This feature is experimental and may not yet work as expected."
   ]
  },
  {
   "cell_type": "markdown",
   "metadata": {},
   "source": [
    "## Data formats\n",
    "\n",
    "You can view the supported data formats by running:"
   ]
  },
  {
   "cell_type": "code",
   "execution_count": null,
   "metadata": {},
   "outputs": [
    {
     "data": {
      "text/html": [
       "<pre style=\"white-space:pre;overflow-x:auto;line-height:normal;font-family:Menlo,'DejaVu Sans Mono',consolas,'Courier New',monospace\"><span style=\"font-weight: bold\">{</span>\n",
       "<span style=\"color: #7fbf7f; text-decoration-color: #7fbf7f\">│   </span><span style=\"color: #008000; text-decoration-color: #008000\">'static_samples'</span>: <span style=\"font-weight: bold\">[</span><span style=\"color: #008000; text-decoration-color: #008000\">'static_samples_df'</span>, <span style=\"color: #008000; text-decoration-color: #008000\">'static_samples_dask'</span><span style=\"font-weight: bold\">]</span>,\n",
       "<span style=\"color: #7fbf7f; text-decoration-color: #7fbf7f\">│   </span><span style=\"color: #008000; text-decoration-color: #008000\">'time_series_samples'</span>: <span style=\"font-weight: bold\">[</span><span style=\"color: #008000; text-decoration-color: #008000\">'time_series_samples_df'</span>, <span style=\"color: #008000; text-decoration-color: #008000\">'time_series_samples_dask'</span><span style=\"font-weight: bold\">]</span>,\n",
       "<span style=\"color: #7fbf7f; text-decoration-color: #7fbf7f\">│   </span><span style=\"color: #008000; text-decoration-color: #008000\">'event_samples'</span>: <span style=\"font-weight: bold\">[</span><span style=\"color: #008000; text-decoration-color: #008000\">'event_samples_df'</span>, <span style=\"color: #008000; text-decoration-color: #008000\">'event_samples_dask'</span><span style=\"font-weight: bold\">]</span>\n",
       "<span style=\"font-weight: bold\">}</span>\n",
       "</pre>\n"
      ],
      "text/plain": [
       "\u001b[1m{\u001b[0m\n",
       "\u001b[2;32m│   \u001b[0m\u001b[32m'static_samples'\u001b[0m: \u001b[1m[\u001b[0m\u001b[32m'static_samples_df'\u001b[0m, \u001b[32m'static_samples_dask'\u001b[0m\u001b[1m]\u001b[0m,\n",
       "\u001b[2;32m│   \u001b[0m\u001b[32m'time_series_samples'\u001b[0m: \u001b[1m[\u001b[0m\u001b[32m'time_series_samples_df'\u001b[0m, \u001b[32m'time_series_samples_dask'\u001b[0m\u001b[1m]\u001b[0m,\n",
       "\u001b[2;32m│   \u001b[0m\u001b[32m'event_samples'\u001b[0m: \u001b[1m[\u001b[0m\u001b[32m'event_samples_df'\u001b[0m, \u001b[32m'event_samples_dask'\u001b[0m\u001b[1m]\u001b[0m\n",
       "\u001b[1m}\u001b[0m\n"
      ]
     },
     "metadata": {},
     "output_type": "display_data"
    }
   ],
   "source": [
    "from tempor import plugin_loader\n",
    "from tempor.data import samples_experimental  # Load experimental.\n",
    "\n",
    "import rich.pretty\n",
    "\n",
    "dataformat_plugins = plugin_loader.list(\"dataformat\")\n",
    "rich.pretty.pprint(dataformat_plugins)"
   ]
  },
  {
   "cell_type": "markdown",
   "metadata": {},
   "source": [
    "## `Dask` data format\n",
    "\n",
    "`Dask` is a Python library for parallel computing. We provide an interface to\n",
    "[`Dask` dataframes](https://docs.dask.org/en/stable/dataframe.html), which supports parallel computation.\n",
    "\n",
    "Below example shows how to load the data samples from `Dask` dataframes."
   ]
  },
  {
   "cell_type": "code",
   "execution_count": null,
   "metadata": {},
   "outputs": [
    {
     "name": "stderr",
     "output_type": "stream",
     "text": [
      "2023-12-07 20:29:54 | INFO     | tempor.data.samples_experimental:_validate:69 | Validation not yet implemented for Dask data format. Data format consistency is not guaranteed.\n"
     ]
    },
    {
     "data": {
      "text/html": [
       "<p><span style=\"font-family: monospace;\">StaticSamplesDask</span> with data:</p><div>\n",
       "<style scoped>\n",
       "    .dataframe tbody tr th:only-of-type {\n",
       "        vertical-align: middle;\n",
       "    }\n",
       "\n",
       "    .dataframe tbody tr th {\n",
       "        vertical-align: top;\n",
       "    }\n",
       "\n",
       "    .dataframe thead th {\n",
       "        text-align: right;\n",
       "    }\n",
       "</style>\n",
       "<table border=\"1\" class=\"dataframe\">\n",
       "  <thead>\n",
       "    <tr style=\"text-align: right;\">\n",
       "      <th></th>\n",
       "      <th>cat_feat_1</th>\n",
       "      <th>cat_feat_2</th>\n",
       "      <th>num_feat_1</th>\n",
       "      <th>num_feat_2</th>\n",
       "    </tr>\n",
       "    <tr>\n",
       "      <th>sample_idx</th>\n",
       "      <th></th>\n",
       "      <th></th>\n",
       "      <th></th>\n",
       "      <th></th>\n",
       "    </tr>\n",
       "  </thead>\n",
       "  <tbody>\n",
       "    <tr>\n",
       "      <th>sample_1</th>\n",
       "      <td>C</td>\n",
       "      <td>B</td>\n",
       "      <td>0.267897</td>\n",
       "      <td>29.308157</td>\n",
       "    </tr>\n",
       "    <tr>\n",
       "      <th>sample_10</th>\n",
       "      <td>C</td>\n",
       "      <td>B</td>\n",
       "      <td>8.062348</td>\n",
       "      <td>27.949706</td>\n",
       "    </tr>\n",
       "    <tr>\n",
       "      <th>sample_2</th>\n",
       "      <td>B</td>\n",
       "      <td>B</td>\n",
       "      <td>2.915024</td>\n",
       "      <td>23.640296</td>\n",
       "    </tr>\n",
       "    <tr>\n",
       "      <th>sample_3</th>\n",
       "      <td>B</td>\n",
       "      <td>C</td>\n",
       "      <td>3.987440</td>\n",
       "      <td>26.909479</td>\n",
       "    </tr>\n",
       "    <tr>\n",
       "      <th>sample_4</th>\n",
       "      <td>B</td>\n",
       "      <td>B</td>\n",
       "      <td>8.072887</td>\n",
       "      <td>21.293146</td>\n",
       "    </tr>\n",
       "    <tr>\n",
       "      <th>sample_5</th>\n",
       "      <td>A</td>\n",
       "      <td>C</td>\n",
       "      <td>6.270943</td>\n",
       "      <td>28.326864</td>\n",
       "    </tr>\n",
       "    <tr>\n",
       "      <th>sample_6</th>\n",
       "      <td>B</td>\n",
       "      <td>B</td>\n",
       "      <td>9.079249</td>\n",
       "      <td>23.183537</td>\n",
       "    </tr>\n",
       "    <tr>\n",
       "      <th>sample_7</th>\n",
       "      <td>C</td>\n",
       "      <td>C</td>\n",
       "      <td>5.563973</td>\n",
       "      <td>27.372023</td>\n",
       "    </tr>\n",
       "    <tr>\n",
       "      <th>sample_8</th>\n",
       "      <td>C</td>\n",
       "      <td>A</td>\n",
       "      <td>8.399193</td>\n",
       "      <td>25.967696</td>\n",
       "    </tr>\n",
       "    <tr>\n",
       "      <th>sample_9</th>\n",
       "      <td>B</td>\n",
       "      <td>C</td>\n",
       "      <td>0.504880</td>\n",
       "      <td>23.637068</td>\n",
       "    </tr>\n",
       "  </tbody>\n",
       "</table>\n",
       "</div>"
      ],
      "text/plain": [
       "StaticSamplesDask with data:\n",
       "           cat_feat_1 cat_feat_2  num_feat_1  num_feat_2\n",
       "sample_idx                                              \n",
       "sample_1            C          B    0.267897   29.308157\n",
       "sample_10           C          B    8.062348   27.949706\n",
       "sample_2            B          B    2.915024   23.640296\n",
       "sample_3            B          C    3.987440   26.909479\n",
       "sample_4            B          B    8.072887   21.293146\n",
       "sample_5            A          C    6.270943   28.326864\n",
       "sample_6            B          B    9.079249   23.183537\n",
       "sample_7            C          C    5.563973   27.372023\n",
       "sample_8            C          A    8.399193   25.967696\n",
       "sample_9            B          C    0.504880   23.637068"
      ]
     },
     "execution_count": null,
     "metadata": {},
     "output_type": "execute_result"
    }
   ],
   "source": [
    "# Static samples example.\n",
    "\n",
    "import pandas as pd\n",
    "import numpy as np\n",
    "import dask.dataframe as dd\n",
    "\n",
    "from tempor.data import samples_experimental\n",
    "\n",
    "categories = [\"A\", \"B\", \"C\"]\n",
    "np.random.seed(12345)\n",
    "size = 10\n",
    "df_s = pd.DataFrame(\n",
    "    {\n",
    "        \"sample_idx\": [f\"sample_{x}\" for x in range(1, size + 1)],\n",
    "        \"cat_feat_1\": pd.Categorical(np.random.choice(categories, size=size)),\n",
    "        \"cat_feat_2\": pd.Categorical(np.random.choice(categories, size=size)),\n",
    "        \"num_feat_1\": np.random.uniform(0, 10, size=size),\n",
    "        \"num_feat_2\": np.random.uniform(20, 30, size=size),\n",
    "    }\n",
    ")\n",
    "df_s.set_index(\"sample_idx\", drop=True, inplace=True)\n",
    "\n",
    "# Create a dask dataframe:\n",
    "ddf_s = dd.from_pandas(df_s, npartitions=2)  # type: ignore\n",
    "\n",
    "# Initialize the static samples object:\n",
    "samples_experimental.StaticSamplesDask(ddf_s)  # type: ignore"
   ]
  },
  {
   "cell_type": "code",
   "execution_count": null,
   "metadata": {},
   "outputs": [
    {
     "name": "stderr",
     "output_type": "stream",
     "text": [
      "2023-12-07 20:30:30 | INFO     | tempor.data.samples_experimental:_validate:223 | Validation not yet implemented for Dask data format. Data format consistency is not guaranteed.\n"
     ]
    },
    {
     "data": {
      "text/html": [
       "<p><span style=\"font-family: monospace;\">TimeSeriesSamplesDask</span> with data:</p><div>\n",
       "<style scoped>\n",
       "    .dataframe tbody tr th:only-of-type {\n",
       "        vertical-align: middle;\n",
       "    }\n",
       "\n",
       "    .dataframe tbody tr th {\n",
       "        vertical-align: top;\n",
       "    }\n",
       "\n",
       "    .dataframe thead th {\n",
       "        text-align: right;\n",
       "    }\n",
       "</style>\n",
       "<table border=\"1\" class=\"dataframe\">\n",
       "  <thead>\n",
       "    <tr style=\"text-align: right;\">\n",
       "      <th></th>\n",
       "      <th></th>\n",
       "      <th>feat_1</th>\n",
       "      <th>feat_2</th>\n",
       "    </tr>\n",
       "  </thead>\n",
       "  <tbody>\n",
       "    <tr>\n",
       "      <th rowspan=\"4\" valign=\"top\">a</th>\n",
       "      <th>1</th>\n",
       "      <td>11.0</td>\n",
       "      <td>1.1</td>\n",
       "    </tr>\n",
       "    <tr>\n",
       "      <th>2</th>\n",
       "      <td>12.0</td>\n",
       "      <td>1.2</td>\n",
       "    </tr>\n",
       "    <tr>\n",
       "      <th>3</th>\n",
       "      <td>13.0</td>\n",
       "      <td>1.3</td>\n",
       "    </tr>\n",
       "    <tr>\n",
       "      <th>4</th>\n",
       "      <td>14.0</td>\n",
       "      <td>1.4</td>\n",
       "    </tr>\n",
       "    <tr>\n",
       "      <th rowspan=\"2\" valign=\"top\">b</th>\n",
       "      <th>2</th>\n",
       "      <td>21.0</td>\n",
       "      <td>2.1</td>\n",
       "    </tr>\n",
       "    <tr>\n",
       "      <th>4</th>\n",
       "      <td>22.0</td>\n",
       "      <td>2.2</td>\n",
       "    </tr>\n",
       "    <tr>\n",
       "      <th>c</th>\n",
       "      <th>9</th>\n",
       "      <td>31.0</td>\n",
       "      <td>3.1</td>\n",
       "    </tr>\n",
       "  </tbody>\n",
       "</table>\n",
       "</div>"
      ],
      "text/plain": [
       "TimeSeriesSamplesDask with data:\n",
       "     feat_1  feat_2\n",
       "a 1    11.0     1.1\n",
       "  2    12.0     1.2\n",
       "  3    13.0     1.3\n",
       "  4    14.0     1.4\n",
       "b 2    21.0     2.1\n",
       "  4    22.0     2.2\n",
       "c 9    31.0     3.1"
      ]
     },
     "execution_count": null,
     "metadata": {},
     "output_type": "execute_result"
    }
   ],
   "source": [
    "# Time series samples example.\n",
    "\n",
    "df_t = pd.DataFrame(\n",
    "    {\n",
    "        \"sample_idx\": [\"a\", \"a\", \"a\", \"a\", \"b\", \"b\", \"c\"],\n",
    "        \"time_idx\": [1, 2, 3, 4, 2, 4, 9],\n",
    "        \"feat_1\": [11, 12, 13, 14, 21, 22, 31],\n",
    "        \"feat_2\": [1.1, 1.2, 1.3, 1.4, 2.1, 2.2, 3.1],\n",
    "    }\n",
    ")\n",
    "df_t.set_index(keys=[\"sample_idx\", \"time_idx\"], drop=True, inplace=True)\n",
    "\n",
    "# Create a dask dataframe:\n",
    "ddf_t = samples_experimental.multiindex_df_to_compatible_ddf(df_t, npartitions=2)\n",
    "\n",
    "samples_experimental.TimeSeriesSamplesDask(ddf_t)  # type: ignore"
   ]
  },
  {
   "cell_type": "code",
   "execution_count": null,
   "metadata": {},
   "outputs": [
    {
     "name": "stderr",
     "output_type": "stream",
     "text": [
      "2023-12-07 20:31:53 | INFO     | tempor.data.samples_experimental:_validate:434 | Validation not yet implemented for Dask data format. Data format consistency is not guaranteed.\n"
     ]
    },
    {
     "data": {
      "text/html": [
       "<p><span style=\"font-family: monospace;\">EventSamplesDask</span> with data:</p><div>\n",
       "<style scoped>\n",
       "    .dataframe tbody tr th:only-of-type {\n",
       "        vertical-align: middle;\n",
       "    }\n",
       "\n",
       "    .dataframe tbody tr th {\n",
       "        vertical-align: top;\n",
       "    }\n",
       "\n",
       "    .dataframe thead th {\n",
       "        text-align: right;\n",
       "    }\n",
       "</style>\n",
       "<table border=\"1\" class=\"dataframe\">\n",
       "  <thead>\n",
       "    <tr style=\"text-align: right;\">\n",
       "      <th></th>\n",
       "      <th>feat_1</th>\n",
       "      <th>feat_2</th>\n",
       "      <th>feat_3</th>\n",
       "    </tr>\n",
       "    <tr>\n",
       "      <th>sample_idx</th>\n",
       "      <th></th>\n",
       "      <th></th>\n",
       "      <th></th>\n",
       "    </tr>\n",
       "  </thead>\n",
       "  <tbody>\n",
       "    <tr>\n",
       "      <th>sample_1</th>\n",
       "      <td>(5, True)</td>\n",
       "      <td>(1, False)</td>\n",
       "      <td>(2000-01-02 00:00:00, False)</td>\n",
       "    </tr>\n",
       "    <tr>\n",
       "      <th>sample_2</th>\n",
       "      <td>(6, False)</td>\n",
       "      <td>(8, False)</td>\n",
       "      <td>(2000-01-03 00:00:00, True)</td>\n",
       "    </tr>\n",
       "    <tr>\n",
       "      <th>sample_3</th>\n",
       "      <td>(3, True)</td>\n",
       "      <td>(8, True)</td>\n",
       "      <td>(2000-01-01 00:00:00, True)</td>\n",
       "    </tr>\n",
       "  </tbody>\n",
       "</table>\n",
       "</div>"
      ],
      "text/plain": [
       "EventSamplesDask with data:\n",
       "                feat_1      feat_2                        feat_3\n",
       "sample_idx                                                      \n",
       "sample_1     (5, True)  (1, False)  (2000-01-02 00:00:00, False)\n",
       "sample_2    (6, False)  (8, False)   (2000-01-03 00:00:00, True)\n",
       "sample_3     (3, True)   (8, True)   (2000-01-01 00:00:00, True)"
      ]
     },
     "execution_count": null,
     "metadata": {},
     "output_type": "execute_result"
    }
   ],
   "source": [
    "# Event samples example.\n",
    "\n",
    "df_e = pd.DataFrame(\n",
    "    {\n",
    "        \"sample_idx\": [f\"sample_{x}\" for x in range(1, 3 + 1)],\n",
    "        \"feat_1\": [(5, True), (6, False), (3, True)],\n",
    "        \"feat_2\": [(1, False), (8, False), (8, True)],\n",
    "        \"feat_3\": [\n",
    "            (pd.to_datetime(\"2000-01-02\"), False),\n",
    "            (pd.to_datetime(\"2000-01-03\"), True),\n",
    "            (pd.to_datetime(\"2000-01-01\"), True),\n",
    "        ],\n",
    "    },\n",
    ")\n",
    "df_e.set_index(\"sample_idx\", drop=True, inplace=True)\n",
    "\n",
    "# Create a dask dataframe:\n",
    "ddf_e = dd.from_pandas(df_e, npartitions=2)  # type: ignore\n",
    "\n",
    "# Initialize the event samples object:\n",
    "samples_experimental.EventSamplesDask(ddf_e)  # type: ignore"
   ]
  }
 ],
 "metadata": {
  "kernelspec": {
   "display_name": "RE_py38_temporai_20231129",
   "language": "python",
   "name": "python3"
  },
  "language_info": {
   "codemirror_mode": {
    "name": "ipython",
    "version": 3
   },
   "file_extension": ".py",
   "mimetype": "text/x-python",
   "name": "python",
   "nbconvert_exporter": "python",
   "pygments_lexer": "ipython3",
   "version": "3.8.18"
  }
 },
 "nbformat": 4,
 "nbformat_minor": 2
}

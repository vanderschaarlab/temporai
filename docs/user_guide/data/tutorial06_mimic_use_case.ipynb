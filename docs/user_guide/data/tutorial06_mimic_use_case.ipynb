{
 "cells": [
  {
   "cell_type": "markdown",
   "id": "",
   "metadata": {},
   "source": [
    "[![Test In Colab](https://colab.research.google.com/assets/colab-badge.svg)](https://colab.research.google.com/github/vanderschaarlab/temporai/blob/main/tutorials/data/tutorial06_mimic_use_case.ipynb)"
   ]
  },
  {
   "cell_type": "markdown",
   "metadata": {},
   "source": [
    "# Data Tutorial 06: MIMIC Use Case\n",
    "\n",
    "This tutorial shows how to use TemporAI with the [MIMIC Dataset](https://mimic.mit.edu/docs/gettingstarted/)."
   ]
  },
  {
   "cell_type": "markdown",
   "metadata": {},
   "source": [
    "> ⚠️ This feature is experimental and may not yet work as expected."
   ]
  },
  {
   "cell_type": "markdown",
   "metadata": {},
   "source": [
    "## Prerequisites\n",
    "\n",
    "We provide integration with the [MIMIC-IV](https://physionet.org/content/mimiciv/) dataset via an adaptation of [MIMIC-IV-Data-Pipeline](https://github.com/healthylaife/MIMIC-IV-Data-Pipeline).\n",
    "\n",
    "1. You need to first install [`temporai-mivdp`](https://github.com/vanderschaarlab/temporai-mivdp), as per its instructions.\n",
    "2. Note that you will also need to have obtained PhysioNet access credentials by following the [official procedure](https://mimic.mit.edu/docs/gettingstarted/#physionet-credentialing)\n",
    "3. You will also need to download the dataset files locally (note that the files are large). "
   ]
  },
  {
   "cell_type": "markdown",
   "metadata": {},
   "source": [
    "## Use\n",
    "\n",
    "Once this is done, you should be able to access preprocessed MIMIC-IV data as a TemporAI data source, e.g.:\n",
    "\n",
    "```python\n",
    "from tempor import plugin_loader\n",
    "\n",
    "# Get the DataSource class:\n",
    "MimicIVOneOffPred = plugin_loader.get_class(\"prediction.one_off.mivdp\", plugin_type=\"datasource\")\n",
    "\n",
    "# Initialize.\n",
    "mimic_iv_oneoff_pred = MimicIVOneOffPred(\n",
    "    target=\"mortality\",\n",
    "    # ...\n",
    ")\n",
    "```\n",
    "\n",
    "... And run models on it as usual:\n",
    "\n",
    "```python\n",
    "model = plugin_loader.get(\"prediction.one_off.classification.nn_classifier\", n_iter=50)\n",
    "\n",
    "mimic_iv_oneoff_pred_train, mimic_iv_oneoff_pred_test = mimic_iv_oneoff_pred.train_test_split(test_size=0.2)\n",
    "\n",
    "model.fit(mimic_iv_oneoff_pred_train)\n",
    "model.predict(mimic_iv_oneoff_pred_test)\n",
    "```\n"
   ]
  }
 ],
 "metadata": {
  "language_info": {
   "name": "python"
  }
 },
 "nbformat": 4,
 "nbformat_minor": 2
}
